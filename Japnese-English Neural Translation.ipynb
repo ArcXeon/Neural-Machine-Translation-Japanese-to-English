{
 "cells": [
  {
   "cell_type": "code",
   "execution_count": null,
   "id": "bf6821cb",
   "metadata": {
    "execution": {
     "iopub.execute_input": "2024-06-28T21:13:04.347605Z",
     "iopub.status.busy": "2024-06-28T21:13:04.347017Z",
     "iopub.status.idle": "2024-06-28T21:14:00.564178Z",
     "shell.execute_reply": "2024-06-28T21:14:00.563189Z"
    },
    "papermill": {
     "duration": 56.237569,
     "end_time": "2024-06-28T21:14:00.567029",
     "exception": false,
     "start_time": "2024-06-28T21:13:04.329460",
     "status": "completed"
    },
    "tags": []
   },
   "outputs": [],
   "source": [
    "# !pip install torchtext==0.6.0\n",
    "# !pip install sudachipy sudachidict_core\n",
    "# !pip install spacy[ja]\n",
    "# !pip install spacy download en_core_web_sm"
   ]
  },
  {
   "cell_type": "code",
   "execution_count": 4,
   "id": "a564c864",
   "metadata": {
    "execution": {
     "iopub.execute_input": "2024-06-28T21:14:00.610547Z",
     "iopub.status.busy": "2024-06-28T21:14:00.609935Z",
     "iopub.status.idle": "2024-06-28T21:14:08.481832Z",
     "shell.execute_reply": "2024-06-28T21:14:08.480934Z"
    },
    "papermill": {
     "duration": 7.896842,
     "end_time": "2024-06-28T21:14:08.484974",
     "exception": false,
     "start_time": "2024-06-28T21:14:00.588132",
     "status": "completed"
    },
    "tags": []
   },
   "outputs": [
    {
     "name": "stdout",
     "output_type": "stream",
     "text": [
      "Running on device: cuda:0\n"
     ]
    },
    {
     "name": "stderr",
     "output_type": "stream",
     "text": [
      "/opt/conda/lib/python3.10/site-packages/torch/__init__.py:614: UserWarning: torch.set_default_tensor_type() is deprecated as of PyTorch 2.1, please use torch.set_default_dtype() and torch.set_default_device() as alternatives. (Triggered internally at /usr/local/src/pytorch/torch/csrc/tensor/python_tensor.cpp:451.)\n",
      "  _C._set_default_tensor_type(t)\n"
     ]
    }
   ],
   "source": [
    "import torch\n",
    "from torch import nn\n",
    "from torch.nn import functional as F\n",
    "import numpy as np\n",
    "import pandas as pd\n",
    "import matplotlib.pyplot as plt\n",
    "import spacy\n",
    "import torchtext\n",
    "from torchtext import data\n",
    "from torchtext.data import Field, BucketIterator, TabularDataset\n",
    "from sklearn.model_selection import train_test_split\n",
    "import math\n",
    "import copy\n",
    "from datetime import datetime\n",
    "from nltk.translate.bleu_score import sentence_bleu\n",
    "# from janome.tokenizer import Tokenizer\n",
    "\n",
    "if torch.cuda.is_available():\n",
    "    device = 'cuda:0'\n",
    "    torch.set_default_tensor_type('torch.cuda.FloatTensor')\n",
    "else:\n",
    "    device = 'cpu'\n",
    "print(f'Running on device: {device}')"
   ]
  },
  {
   "cell_type": "code",
   "execution_count": 5,
   "id": "5bbfd3b3",
   "metadata": {
    "execution": {
     "iopub.execute_input": "2024-06-28T21:14:08.529588Z",
     "iopub.status.busy": "2024-06-28T21:14:08.528709Z",
     "iopub.status.idle": "2024-06-28T21:14:08.836973Z",
     "shell.execute_reply": "2024-06-28T21:14:08.836086Z"
    },
    "papermill": {
     "duration": 0.332923,
     "end_time": "2024-06-28T21:14:08.839307",
     "exception": false,
     "start_time": "2024-06-28T21:14:08.506384",
     "status": "completed"
    },
    "tags": []
   },
   "outputs": [],
   "source": [
    "anki_dataset_df = pd.read_csv('eng_jpn.txt',sep='\\t',names=['Japanese','English']) \n",
    "kyoto_lexicon_df = pd.read_csv('kyoto_lexicon.csv',on_bad_lines='skip')"
   ]
  },
  {
   "cell_type": "code",
   "execution_count": 6,
   "id": "61ae4e65",
   "metadata": {
    "execution": {
     "iopub.execute_input": "2024-06-28T21:14:08.882659Z",
     "iopub.status.busy": "2024-06-28T21:14:08.881888Z",
     "iopub.status.idle": "2024-06-28T21:14:08.890181Z",
     "shell.execute_reply": "2024-06-28T21:14:08.889353Z"
    },
    "papermill": {
     "duration": 0.032116,
     "end_time": "2024-06-28T21:14:08.892265",
     "exception": false,
     "start_time": "2024-06-28T21:14:08.860149",
     "status": "completed"
    },
    "tags": []
   },
   "outputs": [
    {
     "data": {
      "text/plain": [
       "Index(['Japanese', 'English'], dtype='object')"
      ]
     },
     "execution_count": 6,
     "metadata": {},
     "output_type": "execute_result"
    }
   ],
   "source": [
    "anki_dataset_df.columns"
   ]
  },
  {
   "cell_type": "code",
   "execution_count": 7,
   "id": "d85d975c",
   "metadata": {
    "execution": {
     "iopub.execute_input": "2024-06-28T21:14:08.935561Z",
     "iopub.status.busy": "2024-06-28T21:14:08.935214Z",
     "iopub.status.idle": "2024-06-28T21:14:08.950720Z",
     "shell.execute_reply": "2024-06-28T21:14:08.949797Z"
    },
    "papermill": {
     "duration": 0.039555,
     "end_time": "2024-06-28T21:14:08.952724",
     "exception": false,
     "start_time": "2024-06-28T21:14:08.913169",
     "status": "completed"
    },
    "tags": []
   },
   "outputs": [
    {
     "data": {
      "text/html": [
       "<div>\n",
       "<style scoped>\n",
       "    .dataframe tbody tr th:only-of-type {\n",
       "        vertical-align: middle;\n",
       "    }\n",
       "\n",
       "    .dataframe tbody tr th {\n",
       "        vertical-align: top;\n",
       "    }\n",
       "\n",
       "    .dataframe thead th {\n",
       "        text-align: right;\n",
       "    }\n",
       "</style>\n",
       "<table border=\"1\" class=\"dataframe\">\n",
       "  <thead>\n",
       "    <tr style=\"text-align: right;\">\n",
       "      <th></th>\n",
       "      <th>Japanese</th>\n",
       "      <th>English</th>\n",
       "    </tr>\n",
       "  </thead>\n",
       "  <tbody>\n",
       "    <tr>\n",
       "      <th>0</th>\n",
       "      <td>行け。</td>\n",
       "      <td>Go.</td>\n",
       "    </tr>\n",
       "    <tr>\n",
       "      <th>1</th>\n",
       "      <td>行きなさい。</td>\n",
       "      <td>Go.</td>\n",
       "    </tr>\n",
       "    <tr>\n",
       "      <th>2</th>\n",
       "      <td>こんにちは。</td>\n",
       "      <td>Hi.</td>\n",
       "    </tr>\n",
       "    <tr>\n",
       "      <th>3</th>\n",
       "      <td>もしもし。</td>\n",
       "      <td>Hi.</td>\n",
       "    </tr>\n",
       "    <tr>\n",
       "      <th>4</th>\n",
       "      <td>やっほー。</td>\n",
       "      <td>Hi.</td>\n",
       "    </tr>\n",
       "    <tr>\n",
       "      <th>5</th>\n",
       "      <td>こんにちは！</td>\n",
       "      <td>Hi.</td>\n",
       "    </tr>\n",
       "    <tr>\n",
       "      <th>6</th>\n",
       "      <td>走れ！</td>\n",
       "      <td>Run!</td>\n",
       "    </tr>\n",
       "    <tr>\n",
       "      <th>7</th>\n",
       "      <td>走れ。</td>\n",
       "      <td>Run.</td>\n",
       "    </tr>\n",
       "    <tr>\n",
       "      <th>8</th>\n",
       "      <td>走って！</td>\n",
       "      <td>Run.</td>\n",
       "    </tr>\n",
       "    <tr>\n",
       "      <th>9</th>\n",
       "      <td>誰？</td>\n",
       "      <td>Who?</td>\n",
       "    </tr>\n",
       "  </tbody>\n",
       "</table>\n",
       "</div>"
      ],
      "text/plain": [
       "  Japanese English\n",
       "0      行け。     Go.\n",
       "1   行きなさい。     Go.\n",
       "2   こんにちは。     Hi.\n",
       "3    もしもし。     Hi.\n",
       "4    やっほー。     Hi.\n",
       "5   こんにちは！     Hi.\n",
       "6      走れ！    Run!\n",
       "7      走れ。    Run.\n",
       "8     走って！    Run.\n",
       "9       誰？    Who?"
      ]
     },
     "execution_count": 7,
     "metadata": {},
     "output_type": "execute_result"
    }
   ],
   "source": [
    "anki_dataset_df.head(10)"
   ]
  },
  {
   "cell_type": "code",
   "execution_count": 8,
   "id": "2ce67e35",
   "metadata": {
    "execution": {
     "iopub.execute_input": "2024-06-28T21:14:08.999746Z",
     "iopub.status.busy": "2024-06-28T21:14:08.998969Z",
     "iopub.status.idle": "2024-06-28T21:14:09.004997Z",
     "shell.execute_reply": "2024-06-28T21:14:09.004163Z"
    },
    "papermill": {
     "duration": 0.030712,
     "end_time": "2024-06-28T21:14:09.006957",
     "exception": false,
     "start_time": "2024-06-28T21:14:08.976245",
     "status": "completed"
    },
    "tags": []
   },
   "outputs": [
    {
     "data": {
      "text/plain": [
       "62487"
      ]
     },
     "execution_count": 8,
     "metadata": {},
     "output_type": "execute_result"
    }
   ],
   "source": [
    "len(anki_dataset_df['English'])"
   ]
  },
  {
   "cell_type": "code",
   "execution_count": 9,
   "id": "1c65311f",
   "metadata": {
    "execution": {
     "iopub.execute_input": "2024-06-28T21:14:09.052557Z",
     "iopub.status.busy": "2024-06-28T21:14:09.051747Z",
     "iopub.status.idle": "2024-06-28T21:14:09.057539Z",
     "shell.execute_reply": "2024-06-28T21:14:09.056711Z"
    },
    "papermill": {
     "duration": 0.03048,
     "end_time": "2024-06-28T21:14:09.059459",
     "exception": false,
     "start_time": "2024-06-28T21:14:09.028979",
     "status": "completed"
    },
    "tags": []
   },
   "outputs": [
    {
     "data": {
      "text/plain": [
       "62487"
      ]
     },
     "execution_count": 9,
     "metadata": {},
     "output_type": "execute_result"
    }
   ],
   "source": [
    "len(anki_dataset_df['Japanese'])"
   ]
  },
  {
   "cell_type": "code",
   "execution_count": 10,
   "id": "566f8dcc",
   "metadata": {
    "execution": {
     "iopub.execute_input": "2024-06-28T21:14:09.103251Z",
     "iopub.status.busy": "2024-06-28T21:14:09.102958Z",
     "iopub.status.idle": "2024-06-28T21:14:09.122586Z",
     "shell.execute_reply": "2024-06-28T21:14:09.121791Z"
    },
    "papermill": {
     "duration": 0.043615,
     "end_time": "2024-06-28T21:14:09.124521",
     "exception": false,
     "start_time": "2024-06-28T21:14:09.080906",
     "status": "completed"
    },
    "tags": []
   },
   "outputs": [],
   "source": [
    "anki_dataset_df.dropna(inplace=True)"
   ]
  },
  {
   "cell_type": "code",
   "execution_count": 11,
   "id": "67501ca9",
   "metadata": {
    "execution": {
     "iopub.execute_input": "2024-06-28T21:14:09.169150Z",
     "iopub.status.busy": "2024-06-28T21:14:09.168811Z",
     "iopub.status.idle": "2024-06-28T21:14:09.174893Z",
     "shell.execute_reply": "2024-06-28T21:14:09.174028Z"
    },
    "papermill": {
     "duration": 0.030843,
     "end_time": "2024-06-28T21:14:09.176744",
     "exception": false,
     "start_time": "2024-06-28T21:14:09.145901",
     "status": "completed"
    },
    "tags": []
   },
   "outputs": [
    {
     "data": {
      "text/plain": [
       "Index(['日本語', '英語', 'Unnamed: 2'], dtype='object')"
      ]
     },
     "execution_count": 11,
     "metadata": {},
     "output_type": "execute_result"
    }
   ],
   "source": [
    "kyoto_lexicon_df.columns"
   ]
  },
  {
   "cell_type": "code",
   "execution_count": 12,
   "id": "726da753",
   "metadata": {
    "execution": {
     "iopub.execute_input": "2024-06-28T21:14:09.221169Z",
     "iopub.status.busy": "2024-06-28T21:14:09.220888Z",
     "iopub.status.idle": "2024-06-28T21:14:09.232478Z",
     "shell.execute_reply": "2024-06-28T21:14:09.231640Z"
    },
    "papermill": {
     "duration": 0.036141,
     "end_time": "2024-06-28T21:14:09.234572",
     "exception": false,
     "start_time": "2024-06-28T21:14:09.198431",
     "status": "completed"
    },
    "tags": []
   },
   "outputs": [
    {
     "data": {
      "text/html": [
       "<div>\n",
       "<style scoped>\n",
       "    .dataframe tbody tr th:only-of-type {\n",
       "        vertical-align: middle;\n",
       "    }\n",
       "\n",
       "    .dataframe tbody tr th {\n",
       "        vertical-align: top;\n",
       "    }\n",
       "\n",
       "    .dataframe thead th {\n",
       "        text-align: right;\n",
       "    }\n",
       "</style>\n",
       "<table border=\"1\" class=\"dataframe\">\n",
       "  <thead>\n",
       "    <tr style=\"text-align: right;\">\n",
       "      <th></th>\n",
       "      <th>日本語</th>\n",
       "      <th>英語</th>\n",
       "      <th>Unnamed: 2</th>\n",
       "    </tr>\n",
       "  </thead>\n",
       "  <tbody>\n",
       "    <tr>\n",
       "      <th>0</th>\n",
       "      <td>102世吉田日厚貫首</td>\n",
       "      <td>the 102nd head priest, Nikko TOSHIDA</td>\n",
       "      <td>NaN</td>\n",
       "    </tr>\n",
       "    <tr>\n",
       "      <th>1</th>\n",
       "      <td>1月15日：成人祭、新年祭</td>\n",
       "      <td>15th January: Seijin-sai (Adult Festival), the...</td>\n",
       "      <td>NaN</td>\n",
       "    </tr>\n",
       "    <tr>\n",
       "      <th>2</th>\n",
       "      <td>1月3日：家運隆盛、商売繁盛祈願祭</td>\n",
       "      <td>3rd January: Prayer Festival for the prosperit...</td>\n",
       "      <td>NaN</td>\n",
       "    </tr>\n",
       "    <tr>\n",
       "      <th>3</th>\n",
       "      <td>1月7日：七種粥神事</td>\n",
       "      <td>7th January: Nanakusa-gayu shinji (a divine se...</td>\n",
       "      <td>NaN</td>\n",
       "    </tr>\n",
       "    <tr>\n",
       "      <th>4</th>\n",
       "      <td>21世紀COEプログラム</td>\n",
       "      <td>The 21st Century Center Of Excellence Program</td>\n",
       "      <td>NaN</td>\n",
       "    </tr>\n",
       "    <tr>\n",
       "      <th>5</th>\n",
       "      <td>21世紀出陣弁当</td>\n",
       "      <td>21-seiki Shutsujin Bento (21st century \"kick-o...</td>\n",
       "      <td>NaN</td>\n",
       "    </tr>\n",
       "    <tr>\n",
       "      <th>6</th>\n",
       "      <td>2月15日：初卯祭</td>\n",
       "      <td>15th February: Hatsuu-sai or The Rite of the F...</td>\n",
       "      <td>NaN</td>\n",
       "    </tr>\n",
       "    <tr>\n",
       "      <th>7</th>\n",
       "      <td>2代将軍足利義詮</td>\n",
       "      <td>the Second Shogun Yoshiakira ASHIKAGA</td>\n",
       "      <td>NaN</td>\n",
       "    </tr>\n",
       "    <tr>\n",
       "      <th>8</th>\n",
       "      <td>305世中村日玄貫首</td>\n",
       "      <td>the 305th chief priest Nichigan NAKAMURA</td>\n",
       "      <td>NaN</td>\n",
       "    </tr>\n",
       "    <tr>\n",
       "      <th>9</th>\n",
       "      <td>32世済範入道親王</td>\n",
       "      <td>the 32nd priestly Imperial Prince Saihan</td>\n",
       "      <td>NaN</td>\n",
       "    </tr>\n",
       "  </tbody>\n",
       "</table>\n",
       "</div>"
      ],
      "text/plain": [
       "                 日本語                                                 英語  \\\n",
       "0         102世吉田日厚貫首               the 102nd head priest, Nikko TOSHIDA   \n",
       "1      1月15日：成人祭、新年祭  15th January: Seijin-sai (Adult Festival), the...   \n",
       "2  1月3日：家運隆盛、商売繁盛祈願祭  3rd January: Prayer Festival for the prosperit...   \n",
       "3         1月7日：七種粥神事  7th January: Nanakusa-gayu shinji (a divine se...   \n",
       "4       21世紀COEプログラム      The 21st Century Center Of Excellence Program   \n",
       "5           21世紀出陣弁当  21-seiki Shutsujin Bento (21st century \"kick-o...   \n",
       "6          2月15日：初卯祭  15th February: Hatsuu-sai or The Rite of the F...   \n",
       "7           2代将軍足利義詮              the Second Shogun Yoshiakira ASHIKAGA   \n",
       "8         305世中村日玄貫首           the 305th chief priest Nichigan NAKAMURA   \n",
       "9          32世済範入道親王           the 32nd priestly Imperial Prince Saihan   \n",
       "\n",
       "   Unnamed: 2  \n",
       "0         NaN  \n",
       "1         NaN  \n",
       "2         NaN  \n",
       "3         NaN  \n",
       "4         NaN  \n",
       "5         NaN  \n",
       "6         NaN  \n",
       "7         NaN  \n",
       "8         NaN  \n",
       "9         NaN  "
      ]
     },
     "execution_count": 12,
     "metadata": {},
     "output_type": "execute_result"
    }
   ],
   "source": [
    "kyoto_lexicon_df.head(10)"
   ]
  },
  {
   "cell_type": "code",
   "execution_count": 13,
   "id": "7cbab4cf",
   "metadata": {
    "execution": {
     "iopub.execute_input": "2024-06-28T21:14:09.279614Z",
     "iopub.status.busy": "2024-06-28T21:14:09.279281Z",
     "iopub.status.idle": "2024-06-28T21:14:09.289041Z",
     "shell.execute_reply": "2024-06-28T21:14:09.288198Z"
    },
    "papermill": {
     "duration": 0.033702,
     "end_time": "2024-06-28T21:14:09.290855",
     "exception": false,
     "start_time": "2024-06-28T21:14:09.257153",
     "status": "completed"
    },
    "tags": []
   },
   "outputs": [],
   "source": [
    "kyoto_lexicon_df = kyoto_lexicon_df[['日本語', '英語']]\n",
    "kyoto_lexicon_df.columns = ['Japanese', 'English']"
   ]
  },
  {
   "cell_type": "code",
   "execution_count": 14,
   "id": "9de045df",
   "metadata": {
    "execution": {
     "iopub.execute_input": "2024-06-28T21:14:09.334562Z",
     "iopub.status.busy": "2024-06-28T21:14:09.334274Z",
     "iopub.status.idle": "2024-06-28T21:14:09.351094Z",
     "shell.execute_reply": "2024-06-28T21:14:09.350325Z"
    },
    "papermill": {
     "duration": 0.040856,
     "end_time": "2024-06-28T21:14:09.353140",
     "exception": false,
     "start_time": "2024-06-28T21:14:09.312284",
     "status": "completed"
    },
    "tags": []
   },
   "outputs": [],
   "source": [
    "kyoto_lexicon_df.dropna(inplace=True)"
   ]
  },
  {
   "cell_type": "code",
   "execution_count": 15,
   "id": "f7ab3c7c",
   "metadata": {
    "execution": {
     "iopub.execute_input": "2024-06-28T21:14:09.397475Z",
     "iopub.status.busy": "2024-06-28T21:14:09.396931Z",
     "iopub.status.idle": "2024-06-28T21:14:10.719163Z",
     "shell.execute_reply": "2024-06-28T21:14:10.718178Z"
    },
    "papermill": {
     "duration": 1.346821,
     "end_time": "2024-06-28T21:14:10.721550",
     "exception": false,
     "start_time": "2024-06-28T21:14:09.374729",
     "status": "completed"
    },
    "tags": []
   },
   "outputs": [],
   "source": [
    "JA = spacy.blank('ja')\n",
    "EN = spacy.load(\"en_core_web_sm\")"
   ]
  },
  {
   "cell_type": "code",
   "execution_count": 16,
   "id": "9314f737",
   "metadata": {
    "execution": {
     "iopub.execute_input": "2024-06-28T21:14:10.768365Z",
     "iopub.status.busy": "2024-06-28T21:14:10.768003Z",
     "iopub.status.idle": "2024-06-28T21:14:10.773296Z",
     "shell.execute_reply": "2024-06-28T21:14:10.772351Z"
    },
    "papermill": {
     "duration": 0.030645,
     "end_time": "2024-06-28T21:14:10.775276",
     "exception": false,
     "start_time": "2024-06-28T21:14:10.744631",
     "status": "completed"
    },
    "tags": []
   },
   "outputs": [],
   "source": [
    "def tokenize_ja(sentence):\n",
    "    return [tok.text for tok in JA.tokenizer(sentence)]\n",
    "\n",
    "def tokenize_en(sentence):\n",
    "    return [tok.text for tok in EN.tokenizer(sentence)]"
   ]
  },
  {
   "cell_type": "code",
   "execution_count": 17,
   "id": "a9d03f90",
   "metadata": {
    "execution": {
     "iopub.execute_input": "2024-06-28T21:14:10.820279Z",
     "iopub.status.busy": "2024-06-28T21:14:10.819990Z",
     "iopub.status.idle": "2024-06-28T21:14:10.824297Z",
     "shell.execute_reply": "2024-06-28T21:14:10.823490Z"
    },
    "papermill": {
     "duration": 0.029202,
     "end_time": "2024-06-28T21:14:10.826181",
     "exception": false,
     "start_time": "2024-06-28T21:14:10.796979",
     "status": "completed"
    },
    "tags": []
   },
   "outputs": [],
   "source": [
    "JA_TEXT = Field(tokenize=tokenize_ja) \n",
    "EN_TEXT = Field(tokenize=tokenize_en, init_token='<sos>', eos_token='<eos>') "
   ]
  },
  {
   "cell_type": "code",
   "execution_count": 18,
   "id": "c2538498",
   "metadata": {
    "execution": {
     "iopub.execute_input": "2024-06-28T21:14:10.871749Z",
     "iopub.status.busy": "2024-06-28T21:14:10.871465Z",
     "iopub.status.idle": "2024-06-28T21:14:10.875389Z",
     "shell.execute_reply": "2024-06-28T21:14:10.874539Z"
    },
    "papermill": {
     "duration": 0.028923,
     "end_time": "2024-06-28T21:14:10.877263",
     "exception": false,
     "start_time": "2024-06-28T21:14:10.848340",
     "status": "completed"
    },
    "tags": []
   },
   "outputs": [],
   "source": [
    "frames = [anki_dataset_df, kyoto_lexicon_df]"
   ]
  },
  {
   "cell_type": "code",
   "execution_count": 19,
   "id": "4d570db7",
   "metadata": {
    "execution": {
     "iopub.execute_input": "2024-06-28T21:14:10.922769Z",
     "iopub.status.busy": "2024-06-28T21:14:10.922500Z",
     "iopub.status.idle": "2024-06-28T21:14:10.930494Z",
     "shell.execute_reply": "2024-06-28T21:14:10.929743Z"
    },
    "papermill": {
     "duration": 0.033101,
     "end_time": "2024-06-28T21:14:10.932499",
     "exception": false,
     "start_time": "2024-06-28T21:14:10.899398",
     "status": "completed"
    },
    "tags": []
   },
   "outputs": [],
   "source": [
    "merged_dataset_df = pd.concat(frames)"
   ]
  },
  {
   "cell_type": "code",
   "execution_count": 20,
   "id": "8f579df8",
   "metadata": {
    "execution": {
     "iopub.execute_input": "2024-06-28T21:14:11.021958Z",
     "iopub.status.busy": "2024-06-28T21:14:11.021589Z",
     "iopub.status.idle": "2024-06-28T21:14:11.031199Z",
     "shell.execute_reply": "2024-06-28T21:14:11.030344Z"
    },
    "papermill": {
     "duration": 0.078581,
     "end_time": "2024-06-28T21:14:11.033636",
     "exception": false,
     "start_time": "2024-06-28T21:14:10.955055",
     "status": "completed"
    },
    "tags": []
   },
   "outputs": [
    {
     "data": {
      "text/html": [
       "<div>\n",
       "<style scoped>\n",
       "    .dataframe tbody tr th:only-of-type {\n",
       "        vertical-align: middle;\n",
       "    }\n",
       "\n",
       "    .dataframe tbody tr th {\n",
       "        vertical-align: top;\n",
       "    }\n",
       "\n",
       "    .dataframe thead th {\n",
       "        text-align: right;\n",
       "    }\n",
       "</style>\n",
       "<table border=\"1\" class=\"dataframe\">\n",
       "  <thead>\n",
       "    <tr style=\"text-align: right;\">\n",
       "      <th></th>\n",
       "      <th>Japanese</th>\n",
       "      <th>English</th>\n",
       "    </tr>\n",
       "  </thead>\n",
       "  <tbody>\n",
       "    <tr>\n",
       "      <th>0</th>\n",
       "      <td>行け。</td>\n",
       "      <td>Go.</td>\n",
       "    </tr>\n",
       "    <tr>\n",
       "      <th>1</th>\n",
       "      <td>行きなさい。</td>\n",
       "      <td>Go.</td>\n",
       "    </tr>\n",
       "    <tr>\n",
       "      <th>2</th>\n",
       "      <td>こんにちは。</td>\n",
       "      <td>Hi.</td>\n",
       "    </tr>\n",
       "    <tr>\n",
       "      <th>3</th>\n",
       "      <td>もしもし。</td>\n",
       "      <td>Hi.</td>\n",
       "    </tr>\n",
       "    <tr>\n",
       "      <th>4</th>\n",
       "      <td>やっほー。</td>\n",
       "      <td>Hi.</td>\n",
       "    </tr>\n",
       "  </tbody>\n",
       "</table>\n",
       "</div>"
      ],
      "text/plain": [
       "  Japanese English\n",
       "0      行け。     Go.\n",
       "1   行きなさい。     Go.\n",
       "2   こんにちは。     Hi.\n",
       "3    もしもし。     Hi.\n",
       "4    やっほー。     Hi."
      ]
     },
     "execution_count": 20,
     "metadata": {},
     "output_type": "execute_result"
    }
   ],
   "source": [
    "merged_dataset_df.head()"
   ]
  },
  {
   "cell_type": "code",
   "execution_count": 21,
   "id": "f692ab98",
   "metadata": {
    "execution": {
     "iopub.execute_input": "2024-06-28T21:14:11.080654Z",
     "iopub.status.busy": "2024-06-28T21:14:11.080014Z",
     "iopub.status.idle": "2024-06-28T21:14:11.085882Z",
     "shell.execute_reply": "2024-06-28T21:14:11.085068Z"
    },
    "papermill": {
     "duration": 0.030345,
     "end_time": "2024-06-28T21:14:11.087781",
     "exception": false,
     "start_time": "2024-06-28T21:14:11.057436",
     "status": "completed"
    },
    "tags": []
   },
   "outputs": [
    {
     "data": {
      "text/plain": [
       "114458"
      ]
     },
     "execution_count": 21,
     "metadata": {},
     "output_type": "execute_result"
    }
   ],
   "source": [
    "len(merged_dataset_df[\"Japanese\"])"
   ]
  },
  {
   "cell_type": "code",
   "execution_count": null,
   "id": "415d1bff",
   "metadata": {
    "execution": {
     "iopub.execute_input": "2024-06-28T21:14:11.184364Z",
     "iopub.status.busy": "2024-06-28T21:14:11.183803Z",
     "iopub.status.idle": "2024-06-28T21:14:11.535383Z",
     "shell.execute_reply": "2024-06-28T21:14:11.534366Z"
    },
    "papermill": {
     "duration": 0.376798,
     "end_time": "2024-06-28T21:14:11.537729",
     "exception": false,
     "start_time": "2024-06-28T21:14:11.160931",
     "status": "completed"
    },
    "tags": []
   },
   "outputs": [],
   "source": [
    "train, val, test = np.split(merged_dataset_df.sample(frac=1), [int(.6*len(merged_dataset_df)), int(.8*len(merged_dataset_df))]) \n",
    "train.to_csv('train.csv', index=False)\n",
    "val.to_csv('val.csv', index=False) \n",
    "test.to_csv('test.csv', index=False)"
   ]
  },
  {
   "cell_type": "code",
   "execution_count": 24,
   "id": "a4f412e4",
   "metadata": {
    "execution": {
     "iopub.execute_input": "2024-06-28T21:14:11.583693Z",
     "iopub.status.busy": "2024-06-28T21:14:11.583040Z",
     "iopub.status.idle": "2024-06-28T21:14:50.970585Z",
     "shell.execute_reply": "2024-06-28T21:14:50.969789Z"
    },
    "papermill": {
     "duration": 39.412854,
     "end_time": "2024-06-28T21:14:50.972877",
     "exception": false,
     "start_time": "2024-06-28T21:14:11.560023",
     "status": "completed"
    },
    "tags": []
   },
   "outputs": [],
   "source": [
    "data_fields = [('Japanese', JA_TEXT), ('English', EN_TEXT)]\n",
    "train, val, test = TabularDataset.splits(path='./',train='train.csv',validation='val.csv',test = 'test.csv',format='csv',fields = data_fields )"
   ]
  },
  {
   "cell_type": "code",
   "execution_count": 25,
   "id": "26a3e6d5",
   "metadata": {
    "execution": {
     "iopub.execute_input": "2024-06-28T21:14:51.019381Z",
     "iopub.status.busy": "2024-06-28T21:14:51.019021Z",
     "iopub.status.idle": "2024-06-28T21:14:51.627644Z",
     "shell.execute_reply": "2024-06-28T21:14:51.626855Z"
    },
    "papermill": {
     "duration": 0.634319,
     "end_time": "2024-06-28T21:14:51.629855",
     "exception": false,
     "start_time": "2024-06-28T21:14:50.995536",
     "status": "completed"
    },
    "tags": []
   },
   "outputs": [],
   "source": [
    "JA_TEXT.build_vocab(train, val) \n",
    "EN_TEXT.build_vocab(train, val) "
   ]
  },
  {
   "cell_type": "code",
   "execution_count": 26,
   "id": "dd95603c",
   "metadata": {
    "execution": {
     "iopub.execute_input": "2024-06-28T21:14:51.675637Z",
     "iopub.status.busy": "2024-06-28T21:14:51.675305Z",
     "iopub.status.idle": "2024-06-28T21:14:51.679639Z",
     "shell.execute_reply": "2024-06-28T21:14:51.678766Z"
    },
    "papermill": {
     "duration": 0.029343,
     "end_time": "2024-06-28T21:14:51.681621",
     "exception": false,
     "start_time": "2024-06-28T21:14:51.652278",
     "status": "completed"
    },
    "tags": []
   },
   "outputs": [],
   "source": [
    "BATCH_SIZE = 20\n",
    "EPOCHS = 100\n",
    "\n",
    "D_MODEL = 512\n",
    "HEADS = 8\n",
    "N = 6"
   ]
  },
  {
   "cell_type": "code",
   "execution_count": 27,
   "id": "ffcb1583",
   "metadata": {
    "execution": {
     "iopub.execute_input": "2024-06-28T21:14:51.726836Z",
     "iopub.status.busy": "2024-06-28T21:14:51.726137Z",
     "iopub.status.idle": "2024-06-28T21:14:51.730631Z",
     "shell.execute_reply": "2024-06-28T21:14:51.729809Z"
    },
    "papermill": {
     "duration": 0.029183,
     "end_time": "2024-06-28T21:14:51.732488",
     "exception": false,
     "start_time": "2024-06-28T21:14:51.703305",
     "status": "completed"
    },
    "tags": []
   },
   "outputs": [],
   "source": [
    "train_iter = BucketIterator(train,batch_size=BATCH_SIZE,sort_key=lambda x: len(x.English),shuffle=True)"
   ]
  },
  {
   "cell_type": "code",
   "execution_count": 28,
   "id": "b75802a6",
   "metadata": {
    "execution": {
     "iopub.execute_input": "2024-06-28T21:14:51.777438Z",
     "iopub.status.busy": "2024-06-28T21:14:51.776907Z",
     "iopub.status.idle": "2024-06-28T21:14:52.075795Z",
     "shell.execute_reply": "2024-06-28T21:14:52.074897Z"
    },
    "papermill": {
     "duration": 0.32381,
     "end_time": "2024-06-28T21:14:52.078040",
     "exception": false,
     "start_time": "2024-06-28T21:14:51.754230",
     "status": "completed"
    },
    "tags": []
   },
   "outputs": [
    {
     "name": "stdout",
     "output_type": "stream",
     "text": [
      "tensor([[    2,     2,     2,     2,     2,     2,     2,     2,     2,     2,\n",
      "             2,     2,     2,     2,     2,     2,     2,     2,     2,     2],\n",
      "        [  675,   267,  7639,    13,  1070,    21,    21,  4335,   436,   381,\n",
      "          6357, 35746,  6227,    73,   686,  9385,    21,    55,     5,  4253],\n",
      "        [  257,    94,     9,   177,   152,    20,  2203,     3,   640,    13,\n",
      "           436,     3, 33969,  1180,  1209,     9,  3960,     8,    38,  6714],\n",
      "        [    4,  1838,   834,    25,     6,     8,   540,     1,  2393, 16751,\n",
      "             3,     1,    19, 33270,    10,  6619,    67,   324,  3959,     3],\n",
      "        [    5,     6,   610,    44,  1595,   329,     7,     1,    19,    11,\n",
      "             1,     1,   618,    69,  1237,    19,   696,   173,     4,     1],\n",
      "        [   66,   352,     3,   741,     4,   278,  1167,     1,   855,     3,\n",
      "             1,     1,    18,  1449,  1069,   328,     4,   133,     3,     1],\n",
      "        [    7,    23,     1,   364,     3,     4,     4,     1,   341,     1,\n",
      "             1,     1,     3,     4,    27,  1117,     3,     3,     1,     1],\n",
      "        [   45,  1893,     1,    26,     1,     3,     3,     1,    10,     1,\n",
      "             1,     1,     1,     3,   400,  2035,     1,     1,     1,     1],\n",
      "        [  344,  3516,     1,    51,     1,     1,     1,     1,     6,     1,\n",
      "             1,     1,     1,     1,     9,  6223,     1,     1,     1,     1],\n",
      "        [    4,   182,     1,     4,     1,     1,     1,     1,   436,     1,\n",
      "             1,     1,     1,     1,  3495,    27,     1,     1,     1,     1],\n",
      "        [    3,     4,     1,     3,     1,     1,     1,     1,    18,     1,\n",
      "             1,     1,     1,     1,  5902,   407,     1,     1,     1,     1],\n",
      "        [    1,     3,     1,     1,     1,     1,     1,     1,     3,     1,\n",
      "             1,     1,     1,     1,     3, 11802,     1,     1,     1,     1],\n",
      "        [    1,     1,     1,     1,     1,     1,     1,     1,     1,     1,\n",
      "             1,     1,     1,     1,     1,    18,     1,     1,     1,     1],\n",
      "        [    1,     1,     1,     1,     1,     1,     1,     1,     1,     1,\n",
      "             1,     1,     1,     1,     1,     3,     1,     1,     1,     1]])\n"
     ]
    }
   ],
   "source": [
    "batch = next(iter(train_iter)) \n",
    "print(batch.English)"
   ]
  },
  {
   "cell_type": "code",
   "execution_count": 29,
   "id": "36106080",
   "metadata": {
    "execution": {
     "iopub.execute_input": "2024-06-28T21:14:52.125007Z",
     "iopub.status.busy": "2024-06-28T21:14:52.124633Z",
     "iopub.status.idle": "2024-06-28T21:14:52.135788Z",
     "shell.execute_reply": "2024-06-28T21:14:52.134681Z"
    },
    "papermill": {
     "duration": 0.036518,
     "end_time": "2024-06-28T21:14:52.137750",
     "exception": false,
     "start_time": "2024-06-28T21:14:52.101232",
     "status": "completed"
    },
    "tags": []
   },
   "outputs": [
    {
     "name": "stdout",
     "output_type": "stream",
     "text": [
      "tensor([[ 2542,    33, 26462,    10,  1991,  2876,    14,  5462,   498,    10,\n",
      "          9783, 21133,  4327,    67,  3779,   426,    14,   274,    15,  2359],\n",
      "        [   13,   445,     1,     3,     7,    47,     3,     1,   428,     3,\n",
      "         34321,     1,   546,     4,  1065,  1817,     3,   626,     3,  2628],\n",
      "        [  511,     9,     1,    46,   925,    21,  2948,     1,   869,  4430,\n",
      "             1,     1,     1,   200,   757,   465,    29,   285,   914,     1],\n",
      "        [   25,  8908,     1,     5,    89,     2,     5,     1,     1,    71,\n",
      "             1,     1,     1,     3,  4747,   566,     4,    28,     9,     1],\n",
      "        [   17,     5,     1,  6961,     2,     1,   873,     1,     1,     6,\n",
      "             1,     1,     1,    58,  2550,     1,  1399,     4,    55,     1],\n",
      "        [ 1168,  1121,     1,     4,     1,     1,     5,     1,     1,     4,\n",
      "             1,     1,     1,    20,  6269,     1,     7,  1138,    21,     1],\n",
      "        [    5,   179,     1,   637,     1,     1,   258,     1,     1,    19,\n",
      "             1,     1,     1,  5468,   237,     1,  2027,     2,     2,     1],\n",
      "        [  188,     8,     1,     7,     1,     1,    18,     1,     1,     1,\n",
      "             1,     1,     1,     2,     1,     1,    12,     1,     1,     1],\n",
      "        [   54,    23,     1,  1121,     1,     1,     2,     1,     1,     1,\n",
      "             1,     1,     1,     1,     1,     1,     6,     1,     1,     1],\n",
      "        [   22,    30,     1,     6,     1,     1,     1,     1,     1,     1,\n",
      "             1,     1,     1,     1,     1,     1,     2,     1,     1,     1],\n",
      "        [   16,     5,     1,     2,     1,     1,     1,     1,     1,     1,\n",
      "             1,     1,     1,     1,     1,     1,     1,     1,     1,     1],\n",
      "        [    2,    63,     1,     1,     1,     1,     1,     1,     1,     1,\n",
      "             1,     1,     1,     1,     1,     1,     1,     1,     1,     1],\n",
      "        [    1,    27,     1,     1,     1,     1,     1,     1,     1,     1,\n",
      "             1,     1,     1,     1,     1,     1,     1,     1,     1,     1],\n",
      "        [    1,  5428,     1,     1,     1,     1,     1,     1,     1,     1,\n",
      "             1,     1,     1,     1,     1,     1,     1,     1,     1,     1],\n",
      "        [    1,    37,     1,     1,     1,     1,     1,     1,     1,     1,\n",
      "             1,     1,     1,     1,     1,     1,     1,     1,     1,     1],\n",
      "        [    1,     6,     1,     1,     1,     1,     1,     1,     1,     1,\n",
      "             1,     1,     1,     1,     1,     1,     1,     1,     1,     1],\n",
      "        [    1,     2,     1,     1,     1,     1,     1,     1,     1,     1,\n",
      "             1,     1,     1,     1,     1,     1,     1,     1,     1,     1]])\n"
     ]
    }
   ],
   "source": [
    "print(batch.Japanese) "
   ]
  },
  {
   "cell_type": "code",
   "execution_count": 30,
   "id": "1e835573",
   "metadata": {
    "execution": {
     "iopub.execute_input": "2024-06-28T21:14:52.183792Z",
     "iopub.status.busy": "2024-06-28T21:14:52.183498Z",
     "iopub.status.idle": "2024-06-28T21:14:52.192690Z",
     "shell.execute_reply": "2024-06-28T21:14:52.191887Z"
    },
    "papermill": {
     "duration": 0.034867,
     "end_time": "2024-06-28T21:14:52.194632",
     "exception": false,
     "start_time": "2024-06-28T21:14:52.159765",
     "status": "completed"
    },
    "tags": []
   },
   "outputs": [],
   "source": [
    "global max_src_in_batch, max_tgt_in_batch\n",
    "\n",
    "def batch_size_fn(new, count, sofar):\n",
    "    \"Keep augmenting batch and calculate total number of tokens + padding.\"\n",
    "    global max_src_in_batch, max_tgt_in_batch\n",
    "    if count == 1:\n",
    "        max_src_in_batch = 0\n",
    "        max_tgt_in_batch = 0\n",
    "    max_src_in_batch = max(max_src_in_batch,  len(new.Japanese))\n",
    "    max_tgt_in_batch = max(max_tgt_in_batch,  len(new.English) + 2)\n",
    "    src_elements = count * max_src_in_batch\n",
    "    tgt_elements = count * max_tgt_in_batch\n",
    "    return max(src_elements, tgt_elements)\n",
    "\n",
    "class MyIterator(data.Iterator):\n",
    "    def create_batches(self):\n",
    "        if self.train:\n",
    "            def pool(d, random_shuffler):\n",
    "                for p in data.batch(d, self.batch_size * 100):\n",
    "                    p_batch = data.batch(\n",
    "                        sorted(p, key=self.sort_key),\n",
    "                        self.batch_size, self.batch_size_fn)\n",
    "                    for b in random_shuffler(list(p_batch)):\n",
    "                        yield b\n",
    "            self.batches = pool(self.data(), self.random_shuffler)\n",
    "            \n",
    "        else:\n",
    "            self.batches = []\n",
    "            for b in data.batch(self.data(), self.batch_size,\n",
    "                                          self.batch_size_fn):\n",
    "                self.batches.append(sorted(b, key=self.sort_key))"
   ]
  },
  {
   "cell_type": "code",
   "execution_count": 31,
   "id": "f1d2ebb2",
   "metadata": {
    "execution": {
     "iopub.execute_input": "2024-06-28T21:14:52.240707Z",
     "iopub.status.busy": "2024-06-28T21:14:52.240018Z",
     "iopub.status.idle": "2024-06-28T21:14:52.246001Z",
     "shell.execute_reply": "2024-06-28T21:14:52.245149Z"
    },
    "papermill": {
     "duration": 0.031023,
     "end_time": "2024-06-28T21:14:52.247732",
     "exception": false,
     "start_time": "2024-06-28T21:14:52.216709",
     "status": "completed"
    },
    "tags": []
   },
   "outputs": [],
   "source": [
    "train_iter = MyIterator(\n",
    "    train,\n",
    "    batch_size=1300,\n",
    "    device=0,\n",
    "    repeat=False,\n",
    "    sort_key=lambda x: (len(x.Japanese), len(x.English)),\n",
    "    batch_size_fn=batch_size_fn,\n",
    "    train=True,\n",
    "    shuffle=True\n",
    ")"
   ]
  },
  {
   "cell_type": "code",
   "execution_count": 32,
   "id": "01a7cba5",
   "metadata": {
    "execution": {
     "iopub.execute_input": "2024-06-28T21:14:52.293388Z",
     "iopub.status.busy": "2024-06-28T21:14:52.292937Z",
     "iopub.status.idle": "2024-06-28T21:14:52.298159Z",
     "shell.execute_reply": "2024-06-28T21:14:52.297343Z"
    },
    "papermill": {
     "duration": 0.03025,
     "end_time": "2024-06-28T21:14:52.300051",
     "exception": false,
     "start_time": "2024-06-28T21:14:52.269801",
     "status": "completed"
    },
    "tags": []
   },
   "outputs": [],
   "source": [
    "class Embedder(nn.Module):\n",
    "    def __init__(self, vocab_size, d_model):\n",
    "        # print(\"inside embedder init\")\n",
    "        super(Embedder, self).__init__()\n",
    "        self.embed = nn.Embedding(vocab_size, d_model)\n",
    "        \n",
    "    def forward(self, x):\n",
    "        # print(\"inside embedder forward\")\n",
    "        return self.embed(x)"
   ]
  },
  {
   "cell_type": "code",
   "execution_count": 33,
   "id": "f2793575",
   "metadata": {
    "execution": {
     "iopub.execute_input": "2024-06-28T21:14:52.346373Z",
     "iopub.status.busy": "2024-06-28T21:14:52.345823Z",
     "iopub.status.idle": "2024-06-28T21:14:52.354293Z",
     "shell.execute_reply": "2024-06-28T21:14:52.353445Z"
    },
    "papermill": {
     "duration": 0.033578,
     "end_time": "2024-06-28T21:14:52.356234",
     "exception": false,
     "start_time": "2024-06-28T21:14:52.322656",
     "status": "completed"
    },
    "tags": []
   },
   "outputs": [],
   "source": [
    "class PositionalEncoder(nn.Module):\n",
    "    def __init__(self, d_model, max_seq_len = 80):\n",
    "        # print(\"inside PositionalEncoder init\")\n",
    "        super().__init__()\n",
    "        self.d_model = d_model\n",
    "        \n",
    "        # create constant 'pe' matrix with values dependant on \n",
    "        # pos and i\n",
    "        pe = torch.zeros(max_seq_len, d_model)\n",
    "        for pos in range(max_seq_len):\n",
    "            for i in range(0, d_model, 2):\n",
    "                pe[pos, i] = \\\n",
    "                math.sin(pos / (10000 ** ((2 * i)/d_model)))\n",
    "                pe[pos, i + 1] = \\\n",
    "                math.cos(pos / (10000 ** ((2 * (i + 1))/d_model)))\n",
    "                \n",
    "        pe = pe.unsqueeze(0)\n",
    "        self.register_buffer('pe', pe)\n",
    "    \n",
    "    def forward(self, x):\n",
    "        # print(\"inside PositionalEncoder forward\")\n",
    "        # make embeddings relatively larger\n",
    "        x = x * math.sqrt(self.d_model)\n",
    "        #add constant to embedding\n",
    "        seq_len = x.size(1)\n",
    "        x = x + torch.autograd.Variable(self.pe[:,:seq_len], requires_grad=False).to(device)\n",
    "        # print(x)\n",
    "        return x"
   ]
  },
  {
   "cell_type": "code",
   "execution_count": 34,
   "id": "f7835610",
   "metadata": {
    "execution": {
     "iopub.execute_input": "2024-06-28T21:14:52.403161Z",
     "iopub.status.busy": "2024-06-28T21:14:52.402476Z",
     "iopub.status.idle": "2024-06-28T21:14:52.409193Z",
     "shell.execute_reply": "2024-06-28T21:14:52.408326Z"
    },
    "papermill": {
     "duration": 0.032093,
     "end_time": "2024-06-28T21:14:52.411180",
     "exception": false,
     "start_time": "2024-06-28T21:14:52.379087",
     "status": "completed"
    },
    "tags": []
   },
   "outputs": [],
   "source": [
    "def create_masks(input_seq, target_seq):\n",
    "    # print(\"inside create_masks\")\n",
    "    input_pad = JA_TEXT.vocab.stoi['<pad>']\n",
    "    # creates mask with 0s wherever there is padding in the input\n",
    "    input_msk = (input_seq != input_pad).unsqueeze(1)\n",
    "    \n",
    "    target_pad = EN_TEXT.vocab.stoi['<pad>']\n",
    "    target_msk = (target_seq != target_pad).unsqueeze(1)\n",
    "    size = target_seq.size(1) # get seq_len for matrix\n",
    "    nopeak_mask = np.triu(np.ones((1, size, size)), k=1).astype(np.uint8)\n",
    "    nopeak_mask = torch.autograd.Variable(torch.from_numpy(nopeak_mask) == 0).to(device)\n",
    "    target_msk = target_msk & nopeak_mask\n",
    "    \n",
    "    # print(input_msk)\n",
    "    # print(target_msk)\n",
    "    return input_msk, target_msk"
   ]
  },
  {
   "cell_type": "code",
   "execution_count": 35,
   "id": "717f098f",
   "metadata": {
    "execution": {
     "iopub.execute_input": "2024-06-28T21:14:52.459231Z",
     "iopub.status.busy": "2024-06-28T21:14:52.458577Z",
     "iopub.status.idle": "2024-06-28T21:14:52.465021Z",
     "shell.execute_reply": "2024-06-28T21:14:52.464129Z"
    },
    "papermill": {
     "duration": 0.033429,
     "end_time": "2024-06-28T21:14:52.466981",
     "exception": false,
     "start_time": "2024-06-28T21:14:52.433552",
     "status": "completed"
    },
    "tags": []
   },
   "outputs": [],
   "source": [
    "def attention(q, k, v, d_k, mask=None, dropout=None):\n",
    "    # print(\"inside attention\")\n",
    "    scores = torch.matmul(q, k.transpose(-2, -1)) /  math.sqrt(d_k)\n",
    "    # print(scores)\n",
    "    if mask is not None:\n",
    "        mask = mask.unsqueeze(1)\n",
    "        scores = scores.masked_fill(mask == 0, -1e9)\n",
    "    scores = F.softmax(scores, dim=-1)\n",
    "\n",
    "    if dropout is not None:\n",
    "        scores = dropout(scores)\n",
    "\n",
    "    output = torch.matmul(scores, v)\n",
    "    # print(output)\n",
    "    return output"
   ]
  },
  {
   "cell_type": "code",
   "execution_count": 36,
   "id": "7bbedf2c",
   "metadata": {
    "execution": {
     "iopub.execute_input": "2024-06-28T21:14:52.513623Z",
     "iopub.status.busy": "2024-06-28T21:14:52.513298Z",
     "iopub.status.idle": "2024-06-28T21:14:52.523338Z",
     "shell.execute_reply": "2024-06-28T21:14:52.522485Z"
    },
    "papermill": {
     "duration": 0.03575,
     "end_time": "2024-06-28T21:14:52.525246",
     "exception": false,
     "start_time": "2024-06-28T21:14:52.489496",
     "status": "completed"
    },
    "tags": []
   },
   "outputs": [],
   "source": [
    "class MultiHeadAttention(nn.Module):\n",
    "    def __init__(self, heads, d_model, dropout = 0.1):\n",
    "        # print(\"inside MultiHeadAttention __init__\")\n",
    "        super().__init__()\n",
    "        \n",
    "        self.d_model = d_model\n",
    "        self.d_k = d_model // heads\n",
    "        self.h = heads\n",
    "        \n",
    "        self.q_linear = nn.Linear(d_model, d_model)\n",
    "        self.v_linear = nn.Linear(d_model, d_model)\n",
    "        self.k_linear = nn.Linear(d_model, d_model)\n",
    "        self.dropout = nn.Dropout(dropout)\n",
    "        self.out = nn.Linear(d_model, d_model)\n",
    "    \n",
    "    def forward(self, q, k, v, mask=None):\n",
    "        # print(\"inside MultiHeadAttention forward\")\n",
    "        bs = q.size(0)\n",
    "        \n",
    "        # perform linear operation and split into h heads\n",
    "        \n",
    "        k = self.k_linear(k).view(bs, -1, self.h, self.d_k)\n",
    "        q = self.q_linear(q).view(bs, -1, self.h, self.d_k)\n",
    "        v = self.v_linear(v).view(bs, -1, self.h, self.d_k)\n",
    "        \n",
    "        # transpose to get dimensions bs * h * sl * d_model\n",
    "       \n",
    "        k = k.transpose(1,2)\n",
    "        q = q.transpose(1,2)\n",
    "        v = v.transpose(1,2)\n",
    "        # calculate attention using function we will define next\n",
    "        scores = attention(q, k, v, self.d_k, mask, self.dropout)\n",
    "        \n",
    "        # concatenate heads and put through final linear layer\n",
    "        concat = scores.transpose(1,2).contiguous()\\\n",
    "        .view(bs, -1, self.d_model)\n",
    "        \n",
    "        output = self.out(concat)\n",
    "    \n",
    "        # print(output)\n",
    "        return output"
   ]
  },
  {
   "cell_type": "code",
   "execution_count": 37,
   "id": "359866d9",
   "metadata": {
    "execution": {
     "iopub.execute_input": "2024-06-28T21:14:52.572116Z",
     "iopub.status.busy": "2024-06-28T21:14:52.571316Z",
     "iopub.status.idle": "2024-06-28T21:14:52.577641Z",
     "shell.execute_reply": "2024-06-28T21:14:52.576779Z"
    },
    "papermill": {
     "duration": 0.031895,
     "end_time": "2024-06-28T21:14:52.579533",
     "exception": false,
     "start_time": "2024-06-28T21:14:52.547638",
     "status": "completed"
    },
    "tags": []
   },
   "outputs": [],
   "source": [
    "class FeedForward(nn.Module):\n",
    "    def __init__(self, d_model, d_ff=2048, dropout = 0.1):\n",
    "        # print(\"inside FeedForward init\")\n",
    "        super().__init__() \n",
    "        # We set d_ff as a default to 2048\n",
    "        self.linear_1 = nn.Linear(d_model, d_ff)\n",
    "        self.dropout = nn.Dropout(dropout)\n",
    "        self.linear_2 = nn.Linear(d_ff, d_model) \n",
    "    def forward(self, x):\n",
    "        # print(\"inside FeedForward forward\")\n",
    "        x = self.dropout(F.relu(self.linear_1(x)))\n",
    "        x = self.linear_2(x)\n",
    "        # print(x)\n",
    "        return x"
   ]
  },
  {
   "cell_type": "code",
   "execution_count": 38,
   "id": "d56dedd5",
   "metadata": {
    "execution": {
     "iopub.execute_input": "2024-06-28T21:14:52.626424Z",
     "iopub.status.busy": "2024-06-28T21:14:52.625870Z",
     "iopub.status.idle": "2024-06-28T21:14:52.633017Z",
     "shell.execute_reply": "2024-06-28T21:14:52.632155Z"
    },
    "papermill": {
     "duration": 0.032982,
     "end_time": "2024-06-28T21:14:52.634946",
     "exception": false,
     "start_time": "2024-06-28T21:14:52.601964",
     "status": "completed"
    },
    "tags": []
   },
   "outputs": [],
   "source": [
    "class Norm(nn.Module):\n",
    "    def __init__(self, d_model, eps = 1e-6):\n",
    "        # print(\"inside Norm init\")\n",
    "        super().__init__()\n",
    "    \n",
    "        self.size = d_model\n",
    "        # create two learnable parameters to calibrate normalisation\n",
    "        self.alpha = nn.Parameter(torch.ones(self.size))\n",
    "        self.bias = nn.Parameter(torch.zeros(self.size))\n",
    "        self.eps = eps\n",
    "    def forward(self, x):\n",
    "        # print(\"inside Norm forward\")\n",
    "        norm = self.alpha * (x - x.mean(dim=-1, keepdim=True)) \\\n",
    "        / (x.std(dim=-1, keepdim=True) + self.eps) + self.bias\n",
    "        # print(norm)\n",
    "        return norm"
   ]
  },
  {
   "cell_type": "code",
   "execution_count": 39,
   "id": "f6de7f04",
   "metadata": {
    "execution": {
     "iopub.execute_input": "2024-06-28T21:14:52.681270Z",
     "iopub.status.busy": "2024-06-28T21:14:52.680530Z",
     "iopub.status.idle": "2024-06-28T21:14:52.694233Z",
     "shell.execute_reply": "2024-06-28T21:14:52.693373Z"
    },
    "papermill": {
     "duration": 0.038995,
     "end_time": "2024-06-28T21:14:52.696302",
     "exception": false,
     "start_time": "2024-06-28T21:14:52.657307",
     "status": "completed"
    },
    "tags": []
   },
   "outputs": [],
   "source": [
    "class EncoderLayer(nn.Module):\n",
    "    def __init__(self, d_model, heads, dropout = 0.1):\n",
    "        # print(\"inside EncoderLayer init\")\n",
    "        super().__init__()\n",
    "        self.norm_1 = Norm(d_model)\n",
    "        self.norm_2 = Norm(d_model)\n",
    "        self.attn = MultiHeadAttention(heads, d_model)\n",
    "        self.ff = FeedForward(d_model)\n",
    "        self.dropout_1 = nn.Dropout(dropout)\n",
    "        self.dropout_2 = nn.Dropout(dropout)\n",
    "        \n",
    "    def forward(self, x, mask):\n",
    "        # print(\"inside EncoderLayer forward\")\n",
    "        x2 = self.norm_1(x)\n",
    "        x = x + self.dropout_1(self.attn(x2,x2,x2,mask))\n",
    "        x2 = self.norm_2(x)\n",
    "        x = x + self.dropout_2(self.ff(x2))\n",
    "        # print(\"inside EncoderLayer forward : \"+x)\n",
    "        return x\n",
    "    \n",
    "# build a decoder layer with two multi-head attention layers and\n",
    "# one feed-forward layer\n",
    "class DecoderLayer(nn.Module):\n",
    "    def __init__(self, d_model, heads, dropout=0.1):\n",
    "        # print(\"inside EncoderLayer __init__\")\n",
    "        super().__init__()\n",
    "        self.norm_1 = Norm(d_model)\n",
    "        self.norm_2 = Norm(d_model)\n",
    "        self.norm_3 = Norm(d_model)\n",
    "        \n",
    "        self.dropout_1 = nn.Dropout(dropout)\n",
    "        self.dropout_2 = nn.Dropout(dropout)\n",
    "        self.dropout_3 = nn.Dropout(dropout)\n",
    "        \n",
    "        self.attn_1 = MultiHeadAttention(heads, d_model)\n",
    "        self.attn_2 = MultiHeadAttention(heads, d_model)\n",
    "        self.ff = FeedForward(d_model).to(device)\n",
    "\n",
    "    def forward(self, x, e_outputs, src_mask, trg_mask):\n",
    "            # print(\"inside EncoderLayer forward\")\n",
    "            x2 = self.norm_1(x)\n",
    "            x = x + self.dropout_1(self.attn_1(x2, x2, x2, trg_mask))\n",
    "            x2 = self.norm_2(x)\n",
    "            x = x + self.dropout_2(self.attn_2(x2, e_outputs, e_outputs,\n",
    "            src_mask))\n",
    "            x2 = self.norm_3(x)\n",
    "            x = x + self.dropout_3(self.ff(x2))\n",
    "            # print(x)\n",
    "            return x\n",
    "\n",
    "# We can then build a convenient cloning function that can generate multiple layers:\n",
    "def get_clones(module, N):\n",
    "    return nn.ModuleList([copy.deepcopy(module) for i in range(N)])"
   ]
  },
  {
   "cell_type": "code",
   "execution_count": 40,
   "id": "445d2924",
   "metadata": {
    "execution": {
     "iopub.execute_input": "2024-06-28T21:14:52.742888Z",
     "iopub.status.busy": "2024-06-28T21:14:52.741958Z",
     "iopub.status.idle": "2024-06-28T21:14:52.751884Z",
     "shell.execute_reply": "2024-06-28T21:14:52.751205Z"
    },
    "papermill": {
     "duration": 0.034861,
     "end_time": "2024-06-28T21:14:52.753734",
     "exception": false,
     "start_time": "2024-06-28T21:14:52.718873",
     "status": "completed"
    },
    "tags": []
   },
   "outputs": [],
   "source": [
    "class Encoder(nn.Module):\n",
    "    def __init__(self, vocab_size, d_model, N, heads):\n",
    "        # print(\"inside Encoder __init__\")\n",
    "        super().__init__()\n",
    "        self.N = N\n",
    "        self.embed = Embedder(vocab_size, d_model)\n",
    "        self.pe = PositionalEncoder(d_model)\n",
    "        self.layers = get_clones(EncoderLayer(d_model, heads), N)\n",
    "        self.norm = Norm(d_model)\n",
    "    def forward(self, src, mask):\n",
    "        # print(\"inside Encoder forward\")\n",
    "        x = self.embed(src)\n",
    "        x = self.pe(x)\n",
    "        for i in range(N):\n",
    "            x = self.layers[i](x, mask)\n",
    "        return self.norm(x)\n",
    "    \n",
    "class Decoder(nn.Module):\n",
    "    def __init__(self, vocab_size, d_model, N, heads):\n",
    "        # print(\"inside Decoder __init__\")\n",
    "        super().__init__()\n",
    "        self.N = N\n",
    "        self.embed = Embedder(vocab_size, d_model)\n",
    "        self.pe = PositionalEncoder(d_model)\n",
    "        self.layers = get_clones(DecoderLayer(d_model, heads), N)\n",
    "        self.norm = Norm(d_model)\n",
    "    def forward(self, trg, e_outputs, src_mask, trg_mask):\n",
    "        # print(\"inside Decoder forward\")\n",
    "        x = self.embed(trg)\n",
    "        x = self.pe(x)\n",
    "        for i in range(self.N):\n",
    "            x = self.layers[i](x, e_outputs, src_mask, trg_mask)\n",
    "        return self.norm(x)"
   ]
  },
  {
   "cell_type": "code",
   "execution_count": 41,
   "id": "778d0a7b",
   "metadata": {
    "execution": {
     "iopub.execute_input": "2024-06-28T21:14:52.799150Z",
     "iopub.status.busy": "2024-06-28T21:14:52.798616Z",
     "iopub.status.idle": "2024-06-28T21:14:52.804970Z",
     "shell.execute_reply": "2024-06-28T21:14:52.804141Z"
    },
    "papermill": {
     "duration": 0.03096,
     "end_time": "2024-06-28T21:14:52.806736",
     "exception": false,
     "start_time": "2024-06-28T21:14:52.775776",
     "status": "completed"
    },
    "tags": []
   },
   "outputs": [],
   "source": [
    "class Transformer(nn.Module):\n",
    "    def __init__(self, src_vocab, trg_vocab, d_model, N, heads):\n",
    "        # print(\"inside Transformer __init__\")\n",
    "        super().__init__()\n",
    "        self.encoder = Encoder(src_vocab, d_model, N, heads)\n",
    "        self.decoder = Decoder(trg_vocab, d_model, N, heads)\n",
    "        self.out = nn.Linear(d_model, trg_vocab)\n",
    "    def forward(self, src, trg, src_mask, trg_mask):\n",
    "        # print(\"inside Transformer forward\")\n",
    "        e_outputs = self.encoder(src, src_mask)\n",
    "        d_output = self.decoder(trg, e_outputs, src_mask, trg_mask)\n",
    "        output = self.out(d_output)\n",
    "        return output\n",
    "# we don't perform softmax on the output as this will be handled \n",
    "# automatically by our loss function"
   ]
  },
  {
   "cell_type": "code",
   "execution_count": 42,
   "id": "b9293077",
   "metadata": {
    "execution": {
     "iopub.execute_input": "2024-06-28T21:14:52.852089Z",
     "iopub.status.busy": "2024-06-28T21:14:52.851773Z",
     "iopub.status.idle": "2024-06-28T21:14:55.751507Z",
     "shell.execute_reply": "2024-06-28T21:14:55.750517Z"
    },
    "papermill": {
     "duration": 2.925043,
     "end_time": "2024-06-28T21:14:55.753961",
     "exception": false,
     "start_time": "2024-06-28T21:14:52.828918",
     "status": "completed"
    },
    "tags": []
   },
   "outputs": [],
   "source": [
    "src_vocab = len(JA_TEXT.vocab)\n",
    "trg_vocab = len(EN_TEXT.vocab)\n",
    "# print(JA_TEXT.vocab)\n",
    "model = Transformer(src_vocab, trg_vocab, D_MODEL, N, HEADS)\n",
    "\n",
    "for p in model.parameters():\n",
    "    if p.dim() > 1:\n",
    "        nn.init.xavier_uniform_(p)\n",
    "\n",
    "optim = torch.optim.Adam(model.parameters(), lr=0.0001, betas=(0.9, 0.98), eps=1e-9)"
   ]
  },
  {
   "cell_type": "code",
   "execution_count": 43,
   "id": "a045864e",
   "metadata": {
    "execution": {
     "iopub.execute_input": "2024-06-28T21:14:55.800577Z",
     "iopub.status.busy": "2024-06-28T21:14:55.800101Z",
     "iopub.status.idle": "2024-06-28T21:14:55.804708Z",
     "shell.execute_reply": "2024-06-28T21:14:55.803887Z"
    },
    "papermill": {
     "duration": 0.02978,
     "end_time": "2024-06-28T21:14:55.806520",
     "exception": false,
     "start_time": "2024-06-28T21:14:55.776740",
     "status": "completed"
    },
    "tags": []
   },
   "outputs": [],
   "source": [
    "input_pad = JA_TEXT.vocab.stoi['<pad>']\n",
    "target_pad = EN_TEXT.vocab.stoi['<pad>'] "
   ]
  },
  {
   "cell_type": "code",
   "execution_count": 44,
   "id": "56a2d164",
   "metadata": {
    "execution": {
     "iopub.execute_input": "2024-06-28T21:14:55.852646Z",
     "iopub.status.busy": "2024-06-28T21:14:55.852047Z",
     "iopub.status.idle": "2024-06-28T21:14:55.858507Z",
     "shell.execute_reply": "2024-06-28T21:14:55.857683Z"
    },
    "papermill": {
     "duration": 0.031718,
     "end_time": "2024-06-28T21:14:55.860322",
     "exception": false,
     "start_time": "2024-06-28T21:14:55.828604",
     "status": "completed"
    },
    "tags": []
   },
   "outputs": [
    {
     "data": {
      "text/plain": [
       "MultiHeadAttention(\n",
       "  (q_linear): Linear(in_features=512, out_features=512, bias=True)\n",
       "  (v_linear): Linear(in_features=512, out_features=512, bias=True)\n",
       "  (k_linear): Linear(in_features=512, out_features=512, bias=True)\n",
       "  (dropout): Dropout(p=0.1, inplace=False)\n",
       "  (out): Linear(in_features=512, out_features=512, bias=True)\n",
       ")"
      ]
     },
     "execution_count": 44,
     "metadata": {},
     "output_type": "execute_result"
    }
   ],
   "source": [
    "MultiHeadAttention(HEADS, D_MODEL)"
   ]
  },
  {
   "cell_type": "code",
   "execution_count": 45,
   "id": "2608093a",
   "metadata": {
    "execution": {
     "iopub.execute_input": "2024-06-28T21:14:55.906871Z",
     "iopub.status.busy": "2024-06-28T21:14:55.906564Z",
     "iopub.status.idle": "2024-06-28T21:14:55.917557Z",
     "shell.execute_reply": "2024-06-28T21:14:55.916751Z"
    },
    "papermill": {
     "duration": 0.036443,
     "end_time": "2024-06-28T21:14:55.919397",
     "exception": false,
     "start_time": "2024-06-28T21:14:55.882954",
     "status": "completed"
    },
    "tags": []
   },
   "outputs": [],
   "source": [
    "Loss_hist = []\n",
    "Perplexity_hist = []\n",
    "def train_model(model, epochs, print_every=50):\n",
    "    \n",
    "    model.train()\n",
    "    \n",
    "    start = datetime.now()\n",
    "    temp = start\n",
    "    \n",
    "    total_loss = 0\n",
    "    \n",
    "    for epoch in range(epochs):\n",
    "       \n",
    "        for i, batch in enumerate(train_iter):\n",
    "            src = batch.Japanese.transpose(0, 1)\n",
    "            trg = batch.English.transpose(0, 1)\n",
    "            # the French sentence we input has all words except\n",
    "            # the last, as it is using each word to predict the next\n",
    "            \n",
    "            trg_input = trg[:, :-1]\n",
    "            \n",
    "            # the words we are trying to predict\n",
    "            \n",
    "            targets = trg[:, 1:].contiguous().view(-1)\n",
    "            \n",
    "            # create function to make masks using mask code above\n",
    "            \n",
    "            src_mask, trg_mask = create_masks(src, trg_input)\n",
    "            \n",
    "            preds = model(src, trg_input, src_mask, trg_mask)\n",
    "            \n",
    "            optim.zero_grad()\n",
    "            \n",
    "            loss = F.cross_entropy(\n",
    "                preds.view(-1, preds.size(-1)),\n",
    "                targets,\n",
    "                ignore_index=target_pad\n",
    "            )\n",
    "            loss.backward()\n",
    "            optim.step()\n",
    "            \n",
    "            total_loss += loss.item()\n",
    "            if (i + 1) % print_every == 0:\n",
    "                loss_avg = total_loss / print_every\n",
    "                perplexity  = math.exp(loss_avg)\n",
    "                print(\"time = {}, epoch {}, iter = {}, loss = {}, perplexity = {}, {} per {} iters\".format(\n",
    "                    (datetime.now() - start) // 60,\n",
    "                    epoch + 1,\n",
    "                    i + 1,\n",
    "                    loss_avg,\n",
    "                    perplexity,\n",
    "                    datetime.now() - temp,\n",
    "                    print_every\n",
    "                ))\n",
    "                if i+1 == 450:\n",
    "                    Loss_hist.append(loss_avg)\n",
    "                    Perplexity_hist.append(perplexity)\n",
    "                total_loss = 0\n",
    "                temp = datetime.now()\n",
    "    \n",
    "        print()"
   ]
  },
  {
   "cell_type": "code",
   "execution_count": 46,
   "id": "7c9f80e7",
   "metadata": {
    "execution": {
     "iopub.execute_input": "2024-06-28T21:14:55.966981Z",
     "iopub.status.busy": "2024-06-28T21:14:55.966650Z",
     "iopub.status.idle": "2024-06-28T23:40:53.248017Z",
     "shell.execute_reply": "2024-06-28T23:40:53.247011Z"
    },
    "papermill": {
     "duration": 8757.406776,
     "end_time": "2024-06-28T23:40:53.350100",
     "exception": false,
     "start_time": "2024-06-28T21:14:55.943324",
     "status": "completed"
    },
    "tags": []
   },
   "outputs": [
    {
     "name": "stdout",
     "output_type": "stream",
     "text": [
      "time = 0:00:00.162370, epoch 1, iter = 50, loss = 9.026400375366212, perplexity = 8319.857242928714, 0:00:09.742247 per 50 iters\n",
      "time = 0:00:00.303936, epoch 1, iter = 100, loss = 7.2491365337371825, perplexity = 1406.889521945882, 0:00:08.493838 per 50 iters\n",
      "time = 0:00:00.445294, epoch 1, iter = 150, loss = 6.561819610595703, perplexity = 707.5580039904867, 0:00:08.481364 per 50 iters\n",
      "time = 0:00:00.588284, epoch 1, iter = 200, loss = 6.1191468429565425, perplexity = 454.47678897728576, 0:00:08.579299 per 50 iters\n",
      "time = 0:00:00.732272, epoch 1, iter = 250, loss = 5.952044076919556, perplexity = 384.5385626596013, 0:00:08.639124 per 50 iters\n",
      "time = 0:00:00.878640, epoch 1, iter = 300, loss = 5.64722861289978, perplexity = 283.50467487755805, 0:00:08.781940 per 50 iters\n",
      "time = 0:00:01.022792, epoch 1, iter = 350, loss = 5.581177368164062, perplexity = 265.3838764487724, 0:00:08.648992 per 50 iters\n",
      "time = 0:00:01.170805, epoch 1, iter = 400, loss = 5.464517831802368, perplexity = 236.16195786667964, 0:00:08.880694 per 50 iters\n",
      "time = 0:00:01.319532, epoch 1, iter = 450, loss = 5.260626602172851, perplexity = 192.6021384128511, 0:00:08.923469 per 50 iters\n",
      "\n",
      "time = 0:00:01.572455, epoch 2, iter = 50, loss = 8.449542617797851, perplexity = 4672.934929383319, 0:00:15.175264 per 50 iters\n",
      "time = 0:00:01.721796, epoch 2, iter = 100, loss = 4.905884766578675, perplexity = 135.082373519814, 0:00:08.960315 per 50 iters\n",
      "time = 0:00:01.871309, epoch 2, iter = 150, loss = 5.028106060028076, perplexity = 152.6436408627825, 0:00:08.970680 per 50 iters\n",
      "time = 0:00:02.026071, epoch 2, iter = 200, loss = 4.861255507469178, perplexity = 129.18629468976044, 0:00:09.285596 per 50 iters\n",
      "time = 0:00:02.178047, epoch 2, iter = 250, loss = 4.894855527877808, perplexity = 133.60070364302803, 0:00:09.118417 per 50 iters\n",
      "time = 0:00:02.328535, epoch 2, iter = 300, loss = 5.018640265464783, perplexity = 151.20556452235715, 0:00:09.029168 per 50 iters\n",
      "time = 0:00:02.480140, epoch 2, iter = 350, loss = 4.922343745231628, perplexity = 137.32408898937612, 0:00:09.096187 per 50 iters\n",
      "time = 0:00:02.629071, epoch 2, iter = 400, loss = 4.900528378486634, perplexity = 134.360754264565, 0:00:08.935789 per 50 iters\n",
      "time = 0:00:02.775924, epoch 2, iter = 450, loss = 4.9218649530410765, perplexity = 137.25835502570337, 0:00:08.811067 per 50 iters\n",
      "\n",
      "time = 0:00:03.028598, epoch 3, iter = 50, loss = 7.755072793960571, perplexity = 2333.3791944968943, 0:00:15.160302 per 50 iters\n",
      "time = 0:00:03.178039, epoch 3, iter = 100, loss = 4.5632147789001465, perplexity = 95.89125403216657, 0:00:08.966371 per 50 iters\n",
      "time = 0:00:03.324737, epoch 3, iter = 150, loss = 4.730146813392639, perplexity = 113.312196875595, 0:00:08.801729 per 50 iters\n",
      "time = 0:00:03.478147, epoch 3, iter = 200, loss = 4.492504453659057, perplexity = 89.34492614105935, 0:00:09.204467 per 50 iters\n",
      "time = 0:00:03.629463, epoch 3, iter = 250, loss = 4.339502272605896, perplexity = 76.6693693945339, 0:00:09.078820 per 50 iters\n",
      "time = 0:00:03.779164, epoch 3, iter = 300, loss = 4.684764752388, perplexity = 108.28479557205642, 0:00:08.981945 per 50 iters\n",
      "time = 0:00:03.931253, epoch 3, iter = 350, loss = 4.195751080513, perplexity = 66.40358729253177, 0:00:09.125260 per 50 iters\n",
      "time = 0:00:04.081858, epoch 3, iter = 400, loss = 4.510035843849182, perplexity = 90.92507755688762, 0:00:09.036194 per 50 iters\n",
      "time = 0:00:04.232456, epoch 3, iter = 450, loss = 4.3787644529342655, perplexity = 79.73945067152162, 0:00:09.035793 per 50 iters\n",
      "\n",
      "time = 0:00:04.486911, epoch 4, iter = 50, loss = 7.027598781585693, perplexity = 1127.3204150638928, 0:00:15.267147 per 50 iters\n",
      "time = 0:00:04.637145, epoch 4, iter = 100, loss = 4.23402560710907, perplexity = 68.99441829909074, 0:00:09.013964 per 50 iters\n",
      "time = 0:00:04.792085, epoch 4, iter = 150, loss = 3.801630525588989, perplexity = 44.77413037237525, 0:00:09.296259 per 50 iters\n",
      "time = 0:00:04.942590, epoch 4, iter = 200, loss = 4.3631108236312866, perplexity = 78.5009576150104, 0:00:09.030185 per 50 iters\n",
      "time = 0:00:05.091243, epoch 4, iter = 250, loss = 4.2926291704177855, perplexity = 73.15856219297575, 0:00:08.919050 per 50 iters\n",
      "time = 0:00:05.239127, epoch 4, iter = 300, loss = 4.352391138076782, perplexity = 77.66394629789372, 0:00:08.872938 per 50 iters\n",
      "time = 0:00:05.389234, epoch 4, iter = 350, loss = 4.299759612083435, perplexity = 73.68207928898754, 0:00:09.006269 per 50 iters\n",
      "time = 0:00:05.538248, epoch 4, iter = 400, loss = 4.263885345458984, perplexity = 71.08563986536032, 0:00:08.940774 per 50 iters\n",
      "time = 0:00:05.689618, epoch 4, iter = 450, loss = 4.043660392761231, perplexity = 57.03473069741369, 0:00:09.082038 per 50 iters\n",
      "\n",
      "time = 0:00:05.944974, epoch 5, iter = 50, loss = 6.685742397308349, perplexity = 800.9050472706548, 0:00:15.321249 per 50 iters\n",
      "time = 0:00:06.095338, epoch 5, iter = 100, loss = 3.797934203147888, perplexity = 44.60893624296737, 0:00:09.021727 per 50 iters\n",
      "time = 0:00:06.243200, epoch 5, iter = 150, loss = 3.9549684953689574, perplexity = 52.194049564254875, 0:00:08.871587 per 50 iters\n",
      "time = 0:00:06.393695, epoch 5, iter = 200, loss = 3.941797776222229, perplexity = 51.5111235815844, 0:00:09.029568 per 50 iters\n",
      "time = 0:00:06.546451, epoch 5, iter = 250, loss = 3.8074533462524416, perplexity = 45.03560261812049, 0:00:09.165270 per 50 iters\n",
      "time = 0:00:06.697584, epoch 5, iter = 300, loss = 3.943342056274414, perplexity = 51.59073263571323, 0:00:09.067839 per 50 iters\n",
      "time = 0:00:06.844774, epoch 5, iter = 350, loss = 4.172020854949952, perplexity = 64.84636488244497, 0:00:08.831320 per 50 iters\n",
      "time = 0:00:06.998371, epoch 5, iter = 400, loss = 3.5592061138153075, perplexity = 35.13529264664698, 0:00:09.215656 per 50 iters\n",
      "time = 0:00:07.147060, epoch 5, iter = 450, loss = 3.9888834953308105, perplexity = 53.99457050636867, 0:00:08.921236 per 50 iters\n",
      "\n",
      "time = 0:00:07.401593, epoch 6, iter = 50, loss = 6.419790968894959, perplexity = 613.8747817892996, 0:00:15.271828 per 50 iters\n",
      "time = 0:00:07.552027, epoch 6, iter = 100, loss = 3.620330638885498, perplexity = 37.34991511500064, 0:00:09.025949 per 50 iters\n",
      "time = 0:00:07.701578, epoch 6, iter = 150, loss = 3.8026535654067994, perplexity = 44.81995952908298, 0:00:08.972937 per 50 iters\n",
      "time = 0:00:07.853192, epoch 6, iter = 200, loss = 3.6398937845230104, perplexity = 38.08779099765507, 0:00:09.096747 per 50 iters\n",
      "time = 0:00:08.006440, epoch 6, iter = 250, loss = 3.4912920570373536, perplexity = 32.82833639909948, 0:00:09.194754 per 50 iters\n",
      "time = 0:00:08.155817, epoch 6, iter = 300, loss = 3.6806746912002564, perplexity = 39.67315217148715, 0:00:08.962507 per 50 iters\n",
      "time = 0:00:08.307533, epoch 6, iter = 350, loss = 3.5002488470077515, perplexity = 33.12369366524205, 0:00:09.102835 per 50 iters\n",
      "time = 0:00:08.454766, epoch 6, iter = 400, loss = 3.80327422618866, perplexity = 44.8477861547616, 0:00:08.833873 per 50 iters\n",
      "time = 0:00:08.603426, epoch 6, iter = 450, loss = 3.8027877902984617, perplexity = 44.82597588705855, 0:00:08.919449 per 50 iters\n",
      "\n",
      "time = 0:00:08.858863, epoch 7, iter = 50, loss = 5.978854999542237, perplexity = 394.9878478701736, 0:00:15.326117 per 50 iters\n",
      "time = 0:00:09.009607, epoch 7, iter = 100, loss = 3.4530166244506835, perplexity = 31.595560633771235, 0:00:09.044512 per 50 iters\n",
      "time = 0:00:09.158046, epoch 7, iter = 150, loss = 3.4282624101638794, perplexity = 30.82303839374064, 0:00:08.906223 per 50 iters\n",
      "time = 0:00:09.305790, epoch 7, iter = 200, loss = 3.6372123050689695, perplexity = 37.98579617826607, 0:00:08.864539 per 50 iters\n",
      "time = 0:00:09.456218, epoch 7, iter = 250, loss = 3.3924333238601685, perplexity = 29.738227038159472, 0:00:09.025536 per 50 iters\n",
      "time = 0:00:09.607073, epoch 7, iter = 300, loss = 3.4130920600891113, perplexity = 30.358971043009696, 0:00:09.051158 per 50 iters\n",
      "time = 0:00:09.759197, epoch 7, iter = 350, loss = 3.4157828807830812, perplexity = 30.440771596494397, 0:00:09.127370 per 50 iters\n",
      "time = 0:00:09.910184, epoch 7, iter = 400, loss = 3.345449924468994, perplexity = 28.373338654575722, 0:00:09.059108 per 50 iters\n",
      "time = 0:00:10.059240, epoch 7, iter = 450, loss = 3.354342541694641, perplexity = 28.62677709001444, 0:00:08.943256 per 50 iters\n",
      "\n",
      "time = 0:00:10.317742, epoch 8, iter = 50, loss = 5.332712554931641, perplexity = 206.99870866894616, 0:00:15.509968 per 50 iters\n",
      "time = 0:00:10.470247, epoch 8, iter = 100, loss = 3.049092001914978, perplexity = 21.096180431990387, 0:00:09.150207 per 50 iters\n",
      "time = 0:00:10.620915, epoch 8, iter = 150, loss = 3.1701691150665283, perplexity = 23.811510901194577, 0:00:09.039941 per 50 iters\n",
      "time = 0:00:10.772261, epoch 8, iter = 200, loss = 3.1911794662475588, perplexity = 24.317091724423133, 0:00:09.080627 per 50 iters\n",
      "time = 0:00:10.921076, epoch 8, iter = 250, loss = 3.289592056274414, perplexity = 26.831915511358645, 0:00:08.928796 per 50 iters\n",
      "time = 0:00:11.071840, epoch 8, iter = 300, loss = 3.100156307220459, perplexity = 22.201421252690036, 0:00:09.045760 per 50 iters\n",
      "time = 0:00:11.221065, epoch 8, iter = 350, loss = 3.215998439788818, perplexity = 24.928168765636055, 0:00:08.953378 per 50 iters\n",
      "time = 0:00:11.371046, epoch 8, iter = 400, loss = 3.230506820678711, perplexity = 25.292472471172427, 0:00:08.998712 per 50 iters\n",
      "time = 0:00:11.518392, epoch 8, iter = 450, loss = 3.3789877605438234, perplexity = 29.341055901902195, 0:00:08.840633 per 50 iters\n",
      "\n",
      "time = 0:00:11.776579, epoch 9, iter = 50, loss = 5.157491044998169, perplexity = 173.72803253493655, 0:00:15.491119 per 50 iters\n",
      "time = 0:00:11.925597, epoch 9, iter = 100, loss = 3.038036720752716, perplexity = 20.864240667804847, 0:00:08.940956 per 50 iters\n",
      "time = 0:00:12.077418, epoch 9, iter = 150, loss = 2.912338812351227, perplexity = 18.399781919640056, 0:00:09.109138 per 50 iters\n",
      "time = 0:00:12.230467, epoch 9, iter = 200, loss = 2.913769986629486, perplexity = 18.42613406700876, 0:00:09.182798 per 50 iters\n",
      "time = 0:00:12.380805, epoch 9, iter = 250, loss = 2.9749392747879027, perplexity = 19.588433701687393, 0:00:09.020168 per 50 iters\n",
      "time = 0:00:12.530581, epoch 9, iter = 300, loss = 3.003530876636505, perplexity = 20.15658182782813, 0:00:08.986462 per 50 iters\n",
      "time = 0:00:12.679124, epoch 9, iter = 350, loss = 3.235532703399658, perplexity = 25.419909444928155, 0:00:08.912493 per 50 iters\n",
      "time = 0:00:12.828919, epoch 9, iter = 400, loss = 2.802901175022125, perplexity = 16.492424842318844, 0:00:08.987541 per 50 iters\n",
      "time = 0:00:12.979536, epoch 9, iter = 450, loss = 2.91692684173584, perplexity = 18.484394614097262, 0:00:09.036921 per 50 iters\n",
      "\n",
      "time = 0:00:13.235495, epoch 10, iter = 50, loss = 4.85545916557312, perplexity = 128.43965274389552, 0:00:15.357408 per 50 iters\n",
      "time = 0:00:13.384131, epoch 10, iter = 100, loss = 2.90446085691452, perplexity = 18.25539872653976, 0:00:08.918026 per 50 iters\n",
      "time = 0:00:13.532694, epoch 10, iter = 150, loss = 2.7554057931900022, perplexity = 15.727421688693873, 0:00:08.913684 per 50 iters\n",
      "time = 0:00:13.684483, epoch 10, iter = 200, loss = 2.710933794975281, perplexity = 15.043316331435015, 0:00:09.107185 per 50 iters\n",
      "time = 0:00:13.834531, epoch 10, iter = 250, loss = 2.7457480359077455, perplexity = 15.576261178031993, 0:00:09.002770 per 50 iters\n",
      "time = 0:00:13.987489, epoch 10, iter = 300, loss = 2.627560975551605, perplexity = 13.839972671038193, 0:00:09.177374 per 50 iters\n",
      "time = 0:00:14.137126, epoch 10, iter = 350, loss = 2.8638144874572755, perplexity = 17.528260909098353, 0:00:08.978055 per 50 iters\n",
      "time = 0:00:14.287958, epoch 10, iter = 400, loss = 2.82469096660614, perplexity = 16.855735196077298, 0:00:09.049829 per 50 iters\n",
      "time = 0:00:14.437673, epoch 10, iter = 450, loss = 2.6176128125190736, perplexity = 13.702972944207009, 0:00:08.982783 per 50 iters\n",
      "\n",
      "time = 0:00:14.692805, epoch 11, iter = 50, loss = 4.2681813597679135, perplexity = 71.39168170074774, 0:00:15.307777 per 50 iters\n",
      "time = 0:00:14.842186, epoch 11, iter = 100, loss = 2.509942693710327, perplexity = 12.304224930828335, 0:00:08.962746 per 50 iters\n",
      "time = 0:00:14.992717, epoch 11, iter = 150, loss = 2.619166147708893, perplexity = 13.72427479446001, 0:00:09.031785 per 50 iters\n",
      "time = 0:00:15.147856, epoch 11, iter = 200, loss = 2.1743650317192076, perplexity = 8.796597787911102, 0:00:09.308207 per 50 iters\n",
      "time = 0:00:15.297236, epoch 11, iter = 250, loss = 2.542080233097076, perplexity = 12.706075095893164, 0:00:08.962669 per 50 iters\n",
      "time = 0:00:15.447127, epoch 11, iter = 300, loss = 2.4570581793785093, perplexity = 11.670428682917496, 0:00:08.993325 per 50 iters\n",
      "time = 0:00:15.598793, epoch 11, iter = 350, loss = 2.5729989409446716, perplexity = 13.105066890309413, 0:00:09.099831 per 50 iters\n",
      "time = 0:00:15.745605, epoch 11, iter = 400, loss = 2.8593953013420106, perplexity = 17.45097116652664, 0:00:08.808587 per 50 iters\n",
      "time = 0:00:15.893612, epoch 11, iter = 450, loss = 2.698194637298584, perplexity = 14.852892646634864, 0:00:08.880327 per 50 iters\n",
      "\n",
      "time = 0:00:16.149801, epoch 12, iter = 50, loss = 4.019870197772979, perplexity = 55.69387616843481, 0:00:15.371212 per 50 iters\n",
      "time = 0:00:16.300313, epoch 12, iter = 100, loss = 2.354902753829956, perplexity = 10.53710411885121, 0:00:09.030644 per 50 iters\n",
      "time = 0:00:16.450810, epoch 12, iter = 150, loss = 2.464583911895752, perplexity = 11.758588525152952, 0:00:09.029718 per 50 iters\n",
      "time = 0:00:16.602944, epoch 12, iter = 200, loss = 2.209258668422699, perplexity = 9.108961128883118, 0:00:09.127885 per 50 iters\n",
      "time = 0:00:16.752064, epoch 12, iter = 250, loss = 2.3971682834625243, perplexity = 10.99200602342563, 0:00:08.947134 per 50 iters\n",
      "time = 0:00:16.901465, epoch 12, iter = 300, loss = 2.3858010268211363, perplexity = 10.867764550123946, 0:00:08.963936 per 50 iters\n",
      "time = 0:00:17.053157, epoch 12, iter = 350, loss = 2.2412090134620666, perplexity = 9.404694819370304, 0:00:09.101381 per 50 iters\n",
      "time = 0:00:17.203181, epoch 12, iter = 400, loss = 2.312559244632721, perplexity = 10.100240592799166, 0:00:09.001354 per 50 iters\n",
      "time = 0:00:17.350213, epoch 12, iter = 450, loss = 2.5128124260902407, perplexity = 12.339585476906857, 0:00:08.821739 per 50 iters\n",
      "\n",
      "time = 0:00:17.604737, epoch 13, iter = 50, loss = 3.745398213863373, perplexity = 42.32585860706342, 0:00:15.271370 per 50 iters\n",
      "time = 0:00:17.756498, epoch 13, iter = 100, loss = 2.091177580356598, perplexity = 8.094441409446048, 0:00:09.105495 per 50 iters\n",
      "time = 0:00:17.905503, epoch 13, iter = 150, loss = 2.079049439430237, perplexity = 7.996863796899535, 0:00:08.940157 per 50 iters\n",
      "time = 0:00:18.060599, epoch 13, iter = 200, loss = 1.9723672366142273, perplexity = 7.187671283693206, 0:00:09.305710 per 50 iters\n",
      "time = 0:00:18.212645, epoch 13, iter = 250, loss = 2.112072591781616, perplexity = 8.265354249695422, 0:00:09.122608 per 50 iters\n",
      "time = 0:00:18.360902, epoch 13, iter = 300, loss = 2.315316081047058, perplexity = 10.128123720810631, 0:00:08.895312 per 50 iters\n",
      "time = 0:00:18.512578, epoch 13, iter = 350, loss = 2.137043478488922, perplexity = 8.474345968997582, 0:00:09.100433 per 50 iters\n",
      "time = 0:00:18.661916, epoch 13, iter = 400, loss = 2.2675769567489623, perplexity = 9.655975598872066, 0:00:08.960201 per 50 iters\n",
      "time = 0:00:18.810469, epoch 13, iter = 450, loss = 2.3079508423805235, perplexity = 10.0538017080208, 0:00:08.913041 per 50 iters\n",
      "\n",
      "time = 0:00:19.062516, epoch 14, iter = 50, loss = 3.6010040426254273, perplexity = 36.63499908461959, 0:00:15.122720 per 50 iters\n",
      "time = 0:00:19.211705, epoch 14, iter = 100, loss = 2.041946849822998, perplexity = 7.7055962440660295, 0:00:08.951241 per 50 iters\n",
      "time = 0:00:19.364034, epoch 14, iter = 150, loss = 1.8459354281425475, perplexity = 6.334022042523668, 0:00:09.139605 per 50 iters\n",
      "time = 0:00:19.514718, epoch 14, iter = 200, loss = 2.0851667070388795, perplexity = 8.045932683513385, 0:00:09.040913 per 50 iters\n",
      "time = 0:00:19.665057, epoch 14, iter = 250, loss = 1.869635579586029, perplexity = 6.485932362404729, 0:00:09.020227 per 50 iters\n",
      "time = 0:00:19.815574, epoch 14, iter = 300, loss = 2.0202259063720702, perplexity = 7.540028081667923, 0:00:09.030949 per 50 iters\n",
      "time = 0:00:19.964644, epoch 14, iter = 350, loss = 1.9088421058654785, perplexity = 6.745273961871455, 0:00:08.944086 per 50 iters\n",
      "time = 0:00:20.115006, epoch 14, iter = 400, loss = 2.0477058625221254, perplexity = 7.75010089912255, 0:00:09.021543 per 50 iters\n",
      "time = 0:00:20.263772, epoch 14, iter = 450, loss = 2.0974598598480223, perplexity = 8.1454530195301, 0:00:08.925846 per 50 iters\n",
      "\n",
      "time = 0:00:20.515813, epoch 15, iter = 50, loss = 3.2784311783313753, perplexity = 26.534112738871183, 0:00:15.122366 per 50 iters\n",
      "time = 0:00:20.668102, epoch 15, iter = 100, loss = 1.721667160987854, perplexity = 5.593846537473072, 0:00:09.137242 per 50 iters\n",
      "time = 0:00:20.816499, epoch 15, iter = 150, loss = 2.009681612253189, perplexity = 7.460941496766169, 0:00:08.903702 per 50 iters\n",
      "time = 0:00:20.963730, epoch 15, iter = 200, loss = 2.0596264934539796, perplexity = 7.843039836450689, 0:00:08.833752 per 50 iters\n",
      "time = 0:00:21.114005, epoch 15, iter = 250, loss = 1.9553879594802857, perplexity = 7.066660069727441, 0:00:09.016405 per 50 iters\n",
      "time = 0:00:21.268480, epoch 15, iter = 300, loss = 1.727309981584549, perplexity = 5.625500835699362, 0:00:09.268392 per 50 iters\n",
      "time = 0:00:21.418391, epoch 15, iter = 350, loss = 1.7292859983444213, perplexity = 5.636627909655089, 0:00:08.994529 per 50 iters\n",
      "time = 0:00:21.568154, epoch 15, iter = 400, loss = 2.044971401691437, perplexity = 7.728937500209748, 0:00:08.985687 per 50 iters\n",
      "time = 0:00:21.719160, epoch 15, iter = 450, loss = 1.7360361313819885, perplexity = 5.674804601846406, 0:00:09.060248 per 50 iters\n",
      "\n",
      "time = 0:00:21.971468, epoch 16, iter = 50, loss = 3.080928211212158, perplexity = 21.778608165419914, 0:00:15.138355 per 50 iters\n",
      "time = 0:00:22.125842, epoch 16, iter = 100, loss = 1.5682996356487273, perplexity = 4.7984820851848555, 0:00:09.262301 per 50 iters\n",
      "time = 0:00:22.277253, epoch 16, iter = 150, loss = 1.6438785290718079, perplexity = 5.175202811812005, 0:00:09.084540 per 50 iters\n",
      "time = 0:00:22.426832, epoch 16, iter = 200, loss = 1.80661181807518, perplexity = 6.089779158396335, 0:00:08.974653 per 50 iters\n",
      "time = 0:00:22.579156, epoch 16, iter = 250, loss = 1.5661897361278534, perplexity = 4.788368443268407, 0:00:09.139322 per 50 iters\n",
      "time = 0:00:22.731761, epoch 16, iter = 300, loss = 1.5433820867538453, perplexity = 4.680393028040069, 0:00:09.156210 per 50 iters\n",
      "time = 0:00:22.882531, epoch 16, iter = 350, loss = 1.7963767898082734, perplexity = 6.027767980982724, 0:00:09.046081 per 50 iters\n",
      "time = 0:00:23.028914, epoch 16, iter = 400, loss = 1.8664389145374298, perplexity = 6.465232112624148, 0:00:08.782845 per 50 iters\n",
      "time = 0:00:23.180432, epoch 16, iter = 450, loss = 1.6082481992244722, perplexity = 4.994054971092795, 0:00:09.090965 per 50 iters\n",
      "\n",
      "time = 0:00:23.433399, epoch 17, iter = 50, loss = 2.653599514961243, perplexity = 14.205078122815399, 0:00:15.177893 per 50 iters\n",
      "time = 0:00:23.583547, epoch 17, iter = 100, loss = 1.575488269329071, perplexity = 4.83310089701396, 0:00:09.008802 per 50 iters\n",
      "time = 0:00:23.734957, epoch 17, iter = 150, loss = 1.5002748155593872, perplexity = 4.482920877479061, 0:00:09.084446 per 50 iters\n",
      "time = 0:00:23.883994, epoch 17, iter = 200, loss = 1.6359308075904846, perplexity = 5.134234758243782, 0:00:08.942093 per 50 iters\n",
      "time = 0:00:24.035597, epoch 17, iter = 250, loss = 1.6211169457435608, perplexity = 5.05873749749503, 0:00:09.096060 per 50 iters\n",
      "time = 0:00:24.186291, epoch 17, iter = 300, loss = 1.5692589473724365, perplexity = 4.803087533982503, 0:00:09.041512 per 50 iters\n",
      "time = 0:00:24.336336, epoch 17, iter = 350, loss = 1.7300015830993651, perplexity = 5.640662838151011, 0:00:09.002608 per 50 iters\n",
      "time = 0:00:24.486475, epoch 17, iter = 400, loss = 1.614672328233719, perplexity = 5.026240696441836, 0:00:09.008240 per 50 iters\n",
      "time = 0:00:24.635527, epoch 17, iter = 450, loss = 1.6655841088294983, perplexity = 5.288761560042636, 0:00:08.942974 per 50 iters\n",
      "\n",
      "time = 0:00:24.891895, epoch 18, iter = 50, loss = 2.52773126244545, perplexity = 12.52505780895179, 0:00:15.382003 per 50 iters\n",
      "time = 0:00:25.041577, epoch 18, iter = 100, loss = 1.4417658841609955, perplexity = 4.228155661560314, 0:00:08.980796 per 50 iters\n",
      "time = 0:00:25.190655, epoch 18, iter = 150, loss = 1.4316229784488679, perplexity = 4.185486637104788, 0:00:08.944555 per 50 iters\n",
      "time = 0:00:25.339371, epoch 18, iter = 200, loss = 1.4054242146015168, perplexity = 4.077256005983783, 0:00:08.922855 per 50 iters\n",
      "time = 0:00:25.493318, epoch 18, iter = 250, loss = 1.377132034301758, perplexity = 3.9635180775912198, 0:00:09.236701 per 50 iters\n",
      "time = 0:00:25.642508, epoch 18, iter = 300, loss = 1.4915031456947327, perplexity = 4.443770135233753, 0:00:08.951318 per 50 iters\n",
      "time = 0:00:25.795582, epoch 18, iter = 350, loss = 1.4770014142990113, perplexity = 4.379792786710354, 0:00:09.184316 per 50 iters\n",
      "time = 0:00:25.942908, epoch 18, iter = 400, loss = 1.6590849494934081, perplexity = 5.254500510579232, 0:00:08.839440 per 50 iters\n",
      "time = 0:00:26.092277, epoch 18, iter = 450, loss = 1.5702276360988616, perplexity = 4.807742484963972, 0:00:08.961980 per 50 iters\n",
      "\n",
      "time = 0:00:26.348882, epoch 19, iter = 50, loss = 2.269675052165985, perplexity = 9.676256024717663, 0:00:15.396203 per 50 iters\n",
      "time = 0:00:26.497551, epoch 19, iter = 100, loss = 1.3126370131969451, perplexity = 3.7159598386007597, 0:00:08.920022 per 50 iters\n",
      "time = 0:00:26.647795, epoch 19, iter = 150, loss = 1.2422377693653106, perplexity = 3.463354989355218, 0:00:09.014525 per 50 iters\n",
      "time = 0:00:26.796024, epoch 19, iter = 200, loss = 1.3424350786209107, perplexity = 3.8283545084699973, 0:00:08.893627 per 50 iters\n",
      "time = 0:00:26.945884, epoch 19, iter = 250, loss = 1.3987202489376067, perplexity = 4.050013639690562, 0:00:08.991507 per 50 iters\n",
      "time = 0:00:27.097128, epoch 19, iter = 300, loss = 1.3845756614208222, perplexity = 3.9931311056778807, 0:00:09.074502 per 50 iters\n",
      "time = 0:00:27.248234, epoch 19, iter = 350, loss = 1.2234937012195588, perplexity = 3.3990422515510694, 0:00:09.066269 per 50 iters\n",
      "time = 0:00:27.397017, epoch 19, iter = 400, loss = 1.5432504785060883, perplexity = 4.67977709024697, 0:00:08.926833 per 50 iters\n",
      "time = 0:00:27.546360, epoch 19, iter = 450, loss = 1.5578391146659851, perplexity = 4.748549080583996, 0:00:08.960505 per 50 iters\n",
      "\n",
      "time = 0:00:27.803295, epoch 20, iter = 50, loss = 2.135134835243225, perplexity = 8.458186891664576, 0:00:15.415982 per 50 iters\n",
      "time = 0:00:27.951988, epoch 20, iter = 100, loss = 1.326765068769455, perplexity = 3.768831734808088, 0:00:08.921483 per 50 iters\n",
      "time = 0:00:28.102244, epoch 20, iter = 150, loss = 1.1915820670127868, perplexity = 3.2922857059768984, 0:00:09.015236 per 50 iters\n",
      "time = 0:00:28.252386, epoch 20, iter = 200, loss = 1.1794533669948577, perplexity = 3.2525957406666475, 0:00:09.008439 per 50 iters\n",
      "time = 0:00:28.401767, epoch 20, iter = 250, loss = 1.2633799362182616, perplexity = 3.537357346994389, 0:00:08.962717 per 50 iters\n",
      "time = 0:00:28.552319, epoch 20, iter = 300, loss = 1.2387607681751251, perplexity = 3.451333810872013, 0:00:09.033039 per 50 iters\n",
      "time = 0:00:28.702788, epoch 20, iter = 350, loss = 1.1763632822036743, perplexity = 3.242560456960584, 0:00:09.028042 per 50 iters\n",
      "time = 0:00:28.854845, epoch 20, iter = 400, loss = 1.2300087094306946, perplexity = 3.4212593333809678, 0:00:09.123251 per 50 iters\n",
      "time = 0:00:29.006502, epoch 20, iter = 450, loss = 1.2468442797660828, perplexity = 3.4793457727132338, 0:00:09.099330 per 50 iters\n",
      "\n",
      "time = 0:00:29.258714, epoch 21, iter = 50, loss = 2.0754250538349153, perplexity = 7.967932539632836, 0:00:15.132605 per 50 iters\n",
      "time = 0:00:29.408308, epoch 21, iter = 100, loss = 1.1088989138603211, perplexity = 3.0310191432037414, 0:00:08.975492 per 50 iters\n",
      "time = 0:00:29.560046, epoch 21, iter = 150, loss = 1.1725083768367768, perplexity = 3.2300847550271077, 0:00:09.104197 per 50 iters\n",
      "time = 0:00:29.709789, epoch 21, iter = 200, loss = 1.1886270034313202, perplexity = 3.2825711530174932, 0:00:08.984465 per 50 iters\n",
      "time = 0:00:29.859859, epoch 21, iter = 250, loss = 1.0823879873752593, perplexity = 2.951719811338397, 0:00:09.004107 per 50 iters\n",
      "time = 0:00:30.008763, epoch 21, iter = 300, loss = 1.2643796575069428, perplexity = 3.5408954867219755, 0:00:08.934075 per 50 iters\n",
      "time = 0:00:30.158053, epoch 21, iter = 350, loss = 1.2623270559310913, perplexity = 3.5336348931680677, 0:00:08.957308 per 50 iters\n",
      "time = 0:00:30.306458, epoch 21, iter = 400, loss = 1.3189144682884217, perplexity = 3.739359979432936, 0:00:08.904178 per 50 iters\n",
      "time = 0:00:30.457831, epoch 21, iter = 450, loss = 1.1596714901924132, perplexity = 3.1888855238573024, 0:00:09.082279 per 50 iters\n",
      "\n",
      "time = 0:00:30.713422, epoch 22, iter = 50, loss = 1.6341333639621736, perplexity = 5.125014549576374, 0:00:15.335313 per 50 iters\n",
      "time = 0:00:30.860896, epoch 22, iter = 100, loss = 1.1349924039840698, perplexity = 3.11114991047109, 0:00:08.848350 per 50 iters\n",
      "time = 0:00:31.014021, epoch 22, iter = 150, loss = 0.9250347262620926, perplexity = 2.521955836936915, 0:00:09.187360 per 50 iters\n",
      "time = 0:00:31.161919, epoch 22, iter = 200, loss = 1.0290482181310654, perplexity = 2.7984010993484794, 0:00:08.873790 per 50 iters\n",
      "time = 0:00:31.315243, epoch 22, iter = 250, loss = 1.2170807909965515, perplexity = 3.3773142430958387, 0:00:09.199282 per 50 iters\n",
      "time = 0:00:31.464868, epoch 22, iter = 300, loss = 0.9869188368320465, perplexity = 2.682955101413186, 0:00:08.977445 per 50 iters\n",
      "time = 0:00:31.617546, epoch 22, iter = 350, loss = 1.0641889083385467, perplexity = 2.898487091677531, 0:00:09.160549 per 50 iters\n",
      "time = 0:00:31.769132, epoch 22, iter = 400, loss = 1.053262152671814, perplexity = 2.8669884338875864, 0:00:09.094999 per 50 iters\n",
      "time = 0:00:31.919716, epoch 22, iter = 450, loss = 1.207019430398941, perplexity = 3.3435042391830216, 0:00:09.034943 per 50 iters\n",
      "\n",
      "time = 0:00:32.173011, epoch 23, iter = 50, loss = 1.8089785712957382, perplexity = 6.104209232308047, 0:00:15.197595 per 50 iters\n",
      "time = 0:00:32.324277, epoch 23, iter = 100, loss = 0.8940196573734284, perplexity = 2.4449377375146977, 0:00:09.075759 per 50 iters\n",
      "time = 0:00:32.476773, epoch 23, iter = 150, loss = 0.9556636619567871, perplexity = 2.600395794138832, 0:00:09.149675 per 50 iters\n",
      "time = 0:00:32.627541, epoch 23, iter = 200, loss = 1.0279699432849885, perplexity = 2.7953852800670553, 0:00:09.045941 per 50 iters\n",
      "time = 0:00:32.776608, epoch 23, iter = 250, loss = 1.0446293622255325, perplexity = 2.8423448480290947, 0:00:08.943892 per 50 iters\n",
      "time = 0:00:32.929394, epoch 23, iter = 300, loss = 0.8982746386528015, perplexity = 2.4553630658764685, 0:00:09.167085 per 50 iters\n",
      "time = 0:00:33.081015, epoch 23, iter = 350, loss = 0.9749757993221283, perplexity = 2.651103051715302, 0:00:09.097152 per 50 iters\n",
      "time = 0:00:33.232845, epoch 23, iter = 400, loss = 1.0374570095539093, perplexity = 2.8220314827555284, 0:00:09.109634 per 50 iters\n",
      "time = 0:00:33.384402, epoch 23, iter = 450, loss = 0.9570258855819702, perplexity = 2.603940528536756, 0:00:09.093288 per 50 iters\n",
      "\n",
      "time = 0:00:33.637762, epoch 24, iter = 50, loss = 1.8632190889120102, perplexity = 6.4444486700797174, 0:00:15.201459 per 50 iters\n",
      "time = 0:00:33.788055, epoch 24, iter = 100, loss = 0.8498941230773925, perplexity = 2.3393991504304883, 0:00:09.017453 per 50 iters\n",
      "time = 0:00:33.941925, epoch 24, iter = 150, loss = 0.8648832887411118, perplexity = 2.374728912201915, 0:00:09.232096 per 50 iters\n",
      "time = 0:00:34.093622, epoch 24, iter = 200, loss = 0.8560888952016831, perplexity = 2.3539361753651726, 0:00:09.101685 per 50 iters\n",
      "time = 0:00:34.244367, epoch 24, iter = 250, loss = 0.9710886710882187, perplexity = 2.640817877038958, 0:00:09.044565 per 50 iters\n",
      "time = 0:00:34.395077, epoch 24, iter = 300, loss = 0.848272864818573, perplexity = 2.3356094531063145, 0:00:09.042502 per 50 iters\n",
      "time = 0:00:34.543023, epoch 24, iter = 350, loss = 0.9942954570055008, perplexity = 2.702819417821788, 0:00:08.876643 per 50 iters\n",
      "time = 0:00:34.694158, epoch 24, iter = 400, loss = 0.8823049449920655, perplexity = 2.4164631068247533, 0:00:09.068025 per 50 iters\n",
      "time = 0:00:34.843809, epoch 24, iter = 450, loss = 1.0002865594625474, perplexity = 2.71906088945718, 0:00:08.978926 per 50 iters\n",
      "\n",
      "time = 0:00:35.099239, epoch 25, iter = 50, loss = 1.2923373937606812, perplexity = 3.641287739818956, 0:00:15.325669 per 50 iters\n",
      "time = 0:00:35.251116, epoch 25, iter = 100, loss = 0.8355674201250076, perplexity = 2.3061222172680154, 0:00:09.112546 per 50 iters\n",
      "time = 0:00:35.402919, epoch 25, iter = 150, loss = 0.6733350569009781, perplexity = 1.9607656934947113, 0:00:09.108039 per 50 iters\n",
      "time = 0:00:35.550611, epoch 25, iter = 200, loss = 0.9132564574480057, perplexity = 2.492425810830058, 0:00:08.861410 per 50 iters\n",
      "time = 0:00:35.697947, epoch 25, iter = 250, loss = 0.9281073999404907, perplexity = 2.5297169017587247, 0:00:08.840085 per 50 iters\n",
      "time = 0:00:35.848636, epoch 25, iter = 300, loss = 0.8853614372015, perplexity = 2.423860306467881, 0:00:09.041212 per 50 iters\n",
      "time = 0:00:36.001486, epoch 25, iter = 350, loss = 0.9397458052635193, perplexity = 2.5593307672267898, 0:00:09.170862 per 50 iters\n",
      "time = 0:00:36.151659, epoch 25, iter = 400, loss = 0.8895511025190354, perplexity = 2.4340367730370875, 0:00:09.010258 per 50 iters\n",
      "time = 0:00:36.300932, epoch 25, iter = 450, loss = 1.005880491733551, perplexity = 2.734313753884346, 0:00:08.956301 per 50 iters\n",
      "\n",
      "time = 0:00:36.558046, epoch 26, iter = 50, loss = 1.25548075735569, perplexity = 3.509525198887784, 0:00:15.426685 per 50 iters\n",
      "time = 0:00:36.707963, epoch 26, iter = 100, loss = 0.7318246996402741, perplexity = 2.0788704631348973, 0:00:08.994933 per 50 iters\n",
      "time = 0:00:36.856518, epoch 26, iter = 150, loss = 0.943765709400177, perplexity = 2.5696397382201854, 0:00:08.913208 per 50 iters\n",
      "time = 0:00:37.007523, epoch 26, iter = 200, loss = 0.7108280742168427, perplexity = 2.035676251918777, 0:00:09.060203 per 50 iters\n",
      "time = 0:00:37.159001, epoch 26, iter = 250, loss = 0.6871482574939728, perplexity = 1.9880380690925623, 0:00:09.088558 per 50 iters\n",
      "time = 0:00:37.308251, epoch 26, iter = 300, loss = 0.8305068993568421, perplexity = 2.294481516739083, 0:00:08.954892 per 50 iters\n",
      "time = 0:00:37.457851, epoch 26, iter = 350, loss = 0.7808748191595077, perplexity = 2.1833814942251664, 0:00:08.975905 per 50 iters\n",
      "time = 0:00:37.609791, epoch 26, iter = 400, loss = 0.7607848733663559, perplexity = 2.1399551553416316, 0:00:09.116259 per 50 iters\n",
      "time = 0:00:37.759575, epoch 26, iter = 450, loss = 0.8984271490573883, perplexity = 2.455737562847669, 0:00:08.986984 per 50 iters\n",
      "\n",
      "time = 0:00:38.013777, epoch 27, iter = 50, loss = 1.3308406513929367, perplexity = 3.7842232633555324, 0:00:15.251992 per 50 iters\n",
      "time = 0:00:38.161263, epoch 27, iter = 100, loss = 0.7351346629858017, perplexity = 2.085762848647013, 0:00:08.849038 per 50 iters\n",
      "time = 0:00:38.313707, epoch 27, iter = 150, loss = 0.7521184426546097, perplexity = 2.121489513439468, 0:00:09.146504 per 50 iters\n",
      "time = 0:00:38.463651, epoch 27, iter = 200, loss = 0.7048307472467422, perplexity = 2.023504172285174, 0:00:08.996538 per 50 iters\n",
      "time = 0:00:38.611060, epoch 27, iter = 250, loss = 0.8300301426649094, perplexity = 2.2933878680443436, 0:00:08.844432 per 50 iters\n",
      "time = 0:00:38.762044, epoch 27, iter = 300, loss = 0.7199575132131577, perplexity = 2.0543459262322155, 0:00:09.058936 per 50 iters\n",
      "time = 0:00:38.913470, epoch 27, iter = 350, loss = 0.8725995874404907, perplexity = 2.3931239091925, 0:00:09.085412 per 50 iters\n",
      "time = 0:00:39.068846, epoch 27, iter = 400, loss = 0.7188378828763962, perplexity = 2.0520471053659386, 0:00:09.322450 per 50 iters\n",
      "time = 0:00:39.221021, epoch 27, iter = 450, loss = 0.7226766312122345, perplexity = 2.059939536613487, 0:00:09.130338 per 50 iters\n",
      "\n",
      "time = 0:00:39.477174, epoch 28, iter = 50, loss = 1.2116410812735559, perplexity = 3.3589925115995283, 0:00:15.369049 per 50 iters\n",
      "time = 0:00:39.627804, epoch 28, iter = 100, loss = 0.7413589110970498, perplexity = 2.0987856406191248, 0:00:09.037720 per 50 iters\n",
      "time = 0:00:39.782021, epoch 28, iter = 150, loss = 0.5406932592391968, perplexity = 1.7171969122555342, 0:00:09.252881 per 50 iters\n",
      "time = 0:00:39.934374, epoch 28, iter = 200, loss = 0.6045292350649834, perplexity = 1.8303903224475322, 0:00:09.141036 per 50 iters\n",
      "time = 0:00:40.087154, epoch 28, iter = 250, loss = 0.5711689656972885, perplexity = 1.7703353035828955, 0:00:09.166694 per 50 iters\n",
      "time = 0:00:40.234719, epoch 28, iter = 300, loss = 0.8479757779836654, perplexity = 2.334915677347236, 0:00:08.853786 per 50 iters\n",
      "time = 0:00:40.387584, epoch 28, iter = 350, loss = 0.6763202542066574, perplexity = 1.9666277112465667, 0:00:09.171730 per 50 iters\n",
      "time = 0:00:40.535347, epoch 28, iter = 400, loss = 0.8575537049770355, perplexity = 2.357386770701307, 0:00:08.865682 per 50 iters\n",
      "time = 0:00:40.687557, epoch 28, iter = 450, loss = 0.6016371917724609, perplexity = 1.8251044016329667, 0:00:09.132465 per 50 iters\n",
      "\n",
      "time = 0:00:40.941642, epoch 29, iter = 50, loss = 1.2581414774060249, perplexity = 3.5188754966978184, 0:00:15.244997 per 50 iters\n",
      "time = 0:00:41.090730, epoch 29, iter = 100, loss = 0.67841800481081, perplexity = 1.9707575358725689, 0:00:08.945167 per 50 iters\n",
      "time = 0:00:41.243986, epoch 29, iter = 150, loss = 0.626921365559101, perplexity = 1.8718389915313973, 0:00:09.195238 per 50 iters\n",
      "time = 0:00:41.393545, epoch 29, iter = 200, loss = 0.7017596739530564, perplexity = 2.0172993752319752, 0:00:08.973379 per 50 iters\n",
      "time = 0:00:41.547009, epoch 29, iter = 250, loss = 0.6156789028644561, perplexity = 1.850912763080286, 0:00:09.207744 per 50 iters\n",
      "time = 0:00:41.696585, epoch 29, iter = 300, loss = 0.6133652725815772, perplexity = 1.8466353853040594, 0:00:08.974421 per 50 iters\n",
      "time = 0:00:41.848036, epoch 29, iter = 350, loss = 0.6855888277292251, perplexity = 1.9849402793746858, 0:00:09.086948 per 50 iters\n",
      "time = 0:00:41.999023, epoch 29, iter = 400, loss = 0.6607309499382973, perplexity = 1.9362070877334205, 0:00:09.059086 per 50 iters\n",
      "time = 0:00:42.151689, epoch 29, iter = 450, loss = 0.5594005382061005, perplexity = 1.7496233535116676, 0:00:09.159826 per 50 iters\n",
      "\n",
      "time = 0:00:42.411571, epoch 30, iter = 50, loss = 0.8832677465677261, perplexity = 2.4187908016858577, 0:00:15.592777 per 50 iters\n",
      "time = 0:00:42.564285, epoch 30, iter = 100, loss = 0.5583349525928497, perplexity = 1.7477599730096038, 0:00:09.162682 per 50 iters\n",
      "time = 0:00:42.715393, epoch 30, iter = 150, loss = 0.6074450087547302, perplexity = 1.8357351147073488, 0:00:09.066378 per 50 iters\n",
      "time = 0:00:42.866748, epoch 30, iter = 200, loss = 0.6024710440635681, perplexity = 1.8266269038025218, 0:00:09.081190 per 50 iters\n",
      "time = 0:00:43.016353, epoch 30, iter = 250, loss = 0.6876371276378631, perplexity = 1.989010199152779, 0:00:08.976134 per 50 iters\n",
      "time = 0:00:43.170203, epoch 30, iter = 300, loss = 0.5036122542619705, perplexity = 1.6546876406720752, 0:00:09.230853 per 50 iters\n",
      "time = 0:00:43.316779, epoch 30, iter = 350, loss = 0.7977840927243233, perplexity = 2.2206147960987206, 0:00:08.794444 per 50 iters\n",
      "time = 0:00:43.467615, epoch 30, iter = 400, loss = 0.6585791715979576, perplexity = 1.932045278510911, 0:00:09.049997 per 50 iters\n",
      "time = 0:00:43.621270, epoch 30, iter = 450, loss = 0.5751991975307464, perplexity = 1.7774845621871191, 0:00:09.219178 per 50 iters\n",
      "\n",
      "time = 0:00:43.881927, epoch 31, iter = 50, loss = 0.8977801442146301, perplexity = 2.454149202645744, 0:00:15.639303 per 50 iters\n",
      "time = 0:00:44.034047, epoch 31, iter = 100, loss = 0.5314284402132035, perplexity = 1.7013608659592308, 0:00:09.127035 per 50 iters\n",
      "time = 0:00:44.184745, epoch 31, iter = 150, loss = 0.5724993935227394, perplexity = 1.772692174406777, 0:00:09.041724 per 50 iters\n",
      "time = 0:00:44.336095, epoch 31, iter = 200, loss = 0.5623398184776306, perplexity = 1.7547735521480046, 0:00:09.080866 per 50 iters\n",
      "time = 0:00:44.487912, epoch 31, iter = 250, loss = 0.5786688861250877, perplexity = 1.7836625918206623, 0:00:09.108917 per 50 iters\n",
      "time = 0:00:44.640762, epoch 31, iter = 300, loss = 0.5259349060058593, perplexity = 1.692040007511516, 0:00:09.170842 per 50 iters\n",
      "time = 0:00:44.791391, epoch 31, iter = 350, loss = 0.5905984181165695, perplexity = 1.8050682778201057, 0:00:09.037656 per 50 iters\n",
      "time = 0:00:44.941952, epoch 31, iter = 400, loss = 0.6218672630190849, perplexity = 1.8624023921874822, 0:00:09.033499 per 50 iters\n",
      "time = 0:00:45.092233, epoch 31, iter = 450, loss = 0.6144820144772529, perplexity = 1.8486987523146214, 0:00:09.016759 per 50 iters\n",
      "\n",
      "time = 0:00:45.351374, epoch 32, iter = 50, loss = 1.0248346549272538, perplexity = 2.786634666160265, 0:00:15.548293 per 50 iters\n",
      "time = 0:00:45.504440, epoch 32, iter = 100, loss = 0.4196641898155212, perplexity = 1.5214505512329126, 0:00:09.183841 per 50 iters\n",
      "time = 0:00:45.655898, epoch 32, iter = 150, loss = 0.45835556238889696, perplexity = 1.5814712147879262, 0:00:09.087332 per 50 iters\n",
      "time = 0:00:45.807553, epoch 32, iter = 200, loss = 0.5127104645967484, perplexity = 1.6698110304329743, 0:00:09.099143 per 50 iters\n",
      "time = 0:00:45.959371, epoch 32, iter = 250, loss = 0.6076008197665215, perplexity = 1.8360211647372457, 0:00:09.108947 per 50 iters\n",
      "time = 0:00:46.113617, epoch 32, iter = 300, loss = 0.4831882241368294, perplexity = 1.621235031859524, 0:00:09.254661 per 50 iters\n",
      "time = 0:00:46.263913, epoch 32, iter = 350, loss = 0.5706344896554947, perplexity = 1.7693893545932433, 0:00:09.017645 per 50 iters\n",
      "time = 0:00:46.414602, epoch 32, iter = 400, loss = 0.5795229631662369, perplexity = 1.785186627818929, 0:00:09.041192 per 50 iters\n",
      "time = 0:00:46.566689, epoch 32, iter = 450, loss = 0.5521178457140923, perplexity = 1.7369276701425251, 0:00:09.125042 per 50 iters\n",
      "\n",
      "time = 0:00:46.823451, epoch 33, iter = 50, loss = 0.9153063797950745, perplexity = 2.4975403305912547, 0:00:15.405561 per 50 iters\n",
      "time = 0:00:46.974905, epoch 33, iter = 100, loss = 0.4481688502430916, perplexity = 1.5654429987699594, 0:00:09.087126 per 50 iters\n",
      "time = 0:00:47.123868, epoch 33, iter = 150, loss = 0.513699920475483, perplexity = 1.6714640524347184, 0:00:08.937598 per 50 iters\n",
      "time = 0:00:47.274483, epoch 33, iter = 200, loss = 0.5325852072238922, perplexity = 1.7033300828252171, 0:00:09.036785 per 50 iters\n",
      "time = 0:00:47.429082, epoch 33, iter = 250, loss = 0.49773630887269976, perplexity = 1.644993296071735, 0:00:09.275818 per 50 iters\n",
      "time = 0:00:47.583299, epoch 33, iter = 300, loss = 0.4279880407452583, perplexity = 1.5341677333551282, 0:00:09.252885 per 50 iters\n",
      "time = 0:00:47.732469, epoch 33, iter = 350, loss = 0.6390604904294014, perplexity = 1.8946999540975242, 0:00:08.950059 per 50 iters\n",
      "time = 0:00:47.884938, epoch 33, iter = 400, loss = 0.527056271135807, perplexity = 1.6939384664082833, 0:00:09.147979 per 50 iters\n",
      "time = 0:00:48.038195, epoch 33, iter = 450, loss = 0.49070435971021653, perplexity = 1.6334663627446184, 0:00:09.195300 per 50 iters\n",
      "\n",
      "time = 0:00:48.293329, epoch 34, iter = 50, loss = 0.8811316955089569, perplexity = 2.4136296552315524, 0:00:15.307894 per 50 iters\n",
      "time = 0:00:48.443109, epoch 34, iter = 100, loss = 0.48432274281978605, perplexity = 1.6230753970595844, 0:00:08.986688 per 50 iters\n",
      "time = 0:00:48.594861, epoch 34, iter = 150, loss = 0.49552659034729, perplexity = 1.641362337087351, 0:00:09.104926 per 50 iters\n",
      "time = 0:00:48.746338, epoch 34, iter = 200, loss = 0.4912353599071503, perplexity = 1.634333964032762, 0:00:09.088532 per 50 iters\n",
      "time = 0:00:48.896674, epoch 34, iter = 250, loss = 0.4499554255604744, perplexity = 1.5682422804115008, 0:00:09.019992 per 50 iters\n",
      "time = 0:00:49.050247, epoch 34, iter = 300, loss = 0.4396974590420723, perplexity = 1.5522375320353472, 0:00:09.214222 per 50 iters\n",
      "time = 0:00:49.201625, epoch 34, iter = 350, loss = 0.43594761162996293, perplexity = 1.546427777796564, 0:00:09.082560 per 50 iters\n",
      "time = 0:00:49.352704, epoch 34, iter = 400, loss = 0.624809763431549, perplexity = 1.8678905825359802, 0:00:09.064637 per 50 iters\n",
      "time = 0:00:49.506788, epoch 34, iter = 450, loss = 0.5151848208904266, perplexity = 1.6739478537421544, 0:00:09.244894 per 50 iters\n",
      "\n",
      "time = 0:00:49.765463, epoch 35, iter = 50, loss = 0.736069493740797, perplexity = 2.087713595572601, 0:00:15.520326 per 50 iters\n",
      "time = 0:00:49.918018, epoch 35, iter = 100, loss = 0.3705832730233669, perplexity = 1.448579285521968, 0:00:09.153169 per 50 iters\n",
      "time = 0:00:50.068662, epoch 35, iter = 150, loss = 0.424964290112257, perplexity = 1.529535799136452, 0:00:09.038483 per 50 iters\n",
      "time = 0:00:50.221527, epoch 35, iter = 200, loss = 0.4443625357747078, perplexity = 1.5594957561524394, 0:00:09.171756 per 50 iters\n",
      "time = 0:00:50.375091, epoch 35, iter = 250, loss = 0.5292626228928566, perplexity = 1.6976800165900676, 0:00:09.213719 per 50 iters\n",
      "time = 0:00:50.526059, epoch 35, iter = 300, loss = 0.4253527715802193, perplexity = 1.5301301108810765, 0:00:09.057916 per 50 iters\n",
      "time = 0:00:50.677043, epoch 35, iter = 350, loss = 0.4253585708141327, perplexity = 1.5301389844892375, 0:00:09.058912 per 50 iters\n",
      "time = 0:00:50.829464, epoch 35, iter = 400, loss = 0.5096475076675415, perplexity = 1.664704296013121, 0:00:09.145101 per 50 iters\n",
      "time = 0:00:50.979680, epoch 35, iter = 450, loss = 0.5125844824314117, perplexity = 1.6696006772743086, 0:00:09.012883 per 50 iters\n",
      "\n",
      "time = 0:00:51.234914, epoch 36, iter = 50, loss = 0.728730112016201, perplexity = 2.0724471601905754, 0:00:15.313909 per 50 iters\n",
      "time = 0:00:51.386181, epoch 36, iter = 100, loss = 0.4001970389485359, perplexity = 1.4921186741725556, 0:00:09.075850 per 50 iters\n",
      "time = 0:00:51.537680, epoch 36, iter = 150, loss = 0.4187820148468018, perplexity = 1.5201089574876865, 0:00:09.089832 per 50 iters\n",
      "time = 0:00:51.689182, epoch 36, iter = 200, loss = 0.3785280591249466, perplexity = 1.4601337762992905, 0:00:09.089910 per 50 iters\n",
      "time = 0:00:51.841448, epoch 36, iter = 250, loss = 0.456295782327652, perplexity = 1.5782170844591803, 0:00:09.135824 per 50 iters\n",
      "time = 0:00:51.994453, epoch 36, iter = 300, loss = 0.43619839787483217, perplexity = 1.5468156492462986, 0:00:09.180171 per 50 iters\n",
      "time = 0:00:52.145711, epoch 36, iter = 350, loss = 0.38655900716781616, perplexity = 1.471907247581927, 0:00:09.075335 per 50 iters\n",
      "time = 0:00:52.297383, epoch 36, iter = 400, loss = 0.4453497371077538, perplexity = 1.5610360526080564, 0:00:09.100148 per 50 iters\n",
      "time = 0:00:52.448126, epoch 36, iter = 450, loss = 0.516347039937973, perplexity = 1.675894478805619, 0:00:09.044452 per 50 iters\n",
      "\n",
      "time = 0:00:52.705221, epoch 37, iter = 50, loss = 0.7579868981242179, perplexity = 2.1339759824872524, 0:00:15.425571 per 50 iters\n",
      "time = 0:00:52.856373, epoch 37, iter = 100, loss = 0.4197274649143219, perplexity = 1.521546824212671, 0:00:09.069033 per 50 iters\n",
      "time = 0:00:53.006862, epoch 37, iter = 150, loss = 0.344564645588398, perplexity = 1.4113753374172482, 0:00:09.029177 per 50 iters\n",
      "time = 0:00:53.159841, epoch 37, iter = 200, loss = 0.3248617862164974, perplexity = 1.3838393670876812, 0:00:09.178628 per 50 iters\n",
      "time = 0:00:53.309335, epoch 37, iter = 250, loss = 0.4275416773557663, perplexity = 1.5334830898568823, 0:00:08.969497 per 50 iters\n",
      "time = 0:00:53.459425, epoch 37, iter = 300, loss = 0.4097530210018158, perplexity = 1.506445678718964, 0:00:09.005308 per 50 iters\n",
      "time = 0:00:53.611366, epoch 37, iter = 350, loss = 0.33773547410964966, perplexity = 1.401769649992588, 0:00:09.116294 per 50 iters\n",
      "time = 0:00:53.765419, epoch 37, iter = 400, loss = 0.3722011736035347, perplexity = 1.4509248397135326, 0:00:09.243054 per 50 iters\n",
      "time = 0:00:53.915310, epoch 37, iter = 450, loss = 0.5252353662252426, perplexity = 1.6908567721242302, 0:00:08.993369 per 50 iters\n",
      "\n",
      "time = 0:00:54.170569, epoch 38, iter = 50, loss = 0.7421156750619411, perplexity = 2.100374527092162, 0:00:15.315392 per 50 iters\n",
      "time = 0:00:54.318964, epoch 38, iter = 100, loss = 0.4033861327171326, perplexity = 1.4968847762722217, 0:00:08.903565 per 50 iters\n",
      "time = 0:00:54.471015, epoch 38, iter = 150, loss = 0.3777909569442272, perplexity = 1.4590579050708645, 0:00:09.122930 per 50 iters\n",
      "time = 0:00:54.621482, epoch 38, iter = 200, loss = 0.372895125746727, perplexity = 1.4519320615571207, 0:00:09.027895 per 50 iters\n",
      "time = 0:00:54.773330, epoch 38, iter = 250, loss = 0.4155630657076836, perplexity = 1.515223671030229, 0:00:09.110725 per 50 iters\n",
      "time = 0:00:54.924796, epoch 38, iter = 300, loss = 0.4361663126945496, perplexity = 1.5467660201835114, 0:00:09.087858 per 50 iters\n",
      "time = 0:00:55.075272, epoch 38, iter = 350, loss = 0.4140640640258789, perplexity = 1.5129540497071223, 0:00:09.028450 per 50 iters\n",
      "time = 0:00:55.228520, epoch 38, iter = 400, loss = 0.3742777644097805, perplexity = 1.45394094742316, 0:00:09.194736 per 50 iters\n",
      "time = 0:00:55.380397, epoch 38, iter = 450, loss = 0.40684390664100645, perplexity = 1.502069624268838, 0:00:09.112494 per 50 iters\n",
      "\n",
      "time = 0:00:55.640725, epoch 39, iter = 50, loss = 0.5978772526979447, perplexity = 1.8182550050044446, 0:00:15.619582 per 50 iters\n",
      "time = 0:00:55.791787, epoch 39, iter = 100, loss = 0.35623574018478393, perplexity = 1.4279441324027164, 0:00:09.063595 per 50 iters\n",
      "time = 0:00:55.944531, epoch 39, iter = 150, loss = 0.3258626118302345, perplexity = 1.3852250422655017, 0:00:09.164476 per 50 iters\n",
      "time = 0:00:56.092601, epoch 39, iter = 200, loss = 0.3936872981488705, perplexity = 1.4824369154214077, 0:00:08.884096 per 50 iters\n",
      "time = 0:00:56.245734, epoch 39, iter = 250, loss = 0.27832900211215017, perplexity = 1.3209207114311714, 0:00:09.187823 per 50 iters\n",
      "time = 0:00:56.397865, epoch 39, iter = 300, loss = 0.38836631298065183, perplexity = 1.474569839440561, 0:00:09.127736 per 50 iters\n",
      "time = 0:00:56.550552, epoch 39, iter = 350, loss = 0.3658125078678131, perplexity = 1.441684912734711, 0:00:09.161091 per 50 iters\n",
      "time = 0:00:56.701440, epoch 39, iter = 400, loss = 0.4026909482479095, perplexity = 1.4958445268480571, 0:00:09.053150 per 50 iters\n",
      "time = 0:00:56.850032, epoch 39, iter = 450, loss = 0.5246753883361817, perplexity = 1.6899101947742001, 0:00:08.915338 per 50 iters\n",
      "\n",
      "time = 0:00:57.104358, epoch 40, iter = 50, loss = 0.6873963755369187, perplexity = 1.9885313984069886, 0:00:15.259448 per 50 iters\n",
      "time = 0:00:57.256707, epoch 40, iter = 100, loss = 0.29310146898031236, perplexity = 1.3405788106955956, 0:00:09.140815 per 50 iters\n",
      "time = 0:00:57.410643, epoch 40, iter = 150, loss = 0.2986996483802795, perplexity = 1.348104657242468, 0:00:09.236021 per 50 iters\n",
      "time = 0:00:57.564422, epoch 40, iter = 200, loss = 0.32786858767271043, perplexity = 1.3880065591317774, 0:00:09.226652 per 50 iters\n",
      "time = 0:00:57.713685, epoch 40, iter = 250, loss = 0.40336834609508515, perplexity = 1.4968581519852364, 0:00:08.955606 per 50 iters\n",
      "time = 0:00:57.860265, epoch 40, iter = 300, loss = 0.5997552610933781, perplexity = 1.8216729115929602, 0:00:08.794711 per 50 iters\n",
      "time = 0:00:58.013964, epoch 40, iter = 350, loss = 0.29051589012145995, perplexity = 1.3371171156353328, 0:00:09.221800 per 50 iters\n",
      "time = 0:00:58.165650, epoch 40, iter = 400, loss = 0.3406002500653267, perplexity = 1.4057911635986666, 0:00:09.101020 per 50 iters\n",
      "time = 0:00:58.317867, epoch 40, iter = 450, loss = 0.3316850221157074, perplexity = 1.393313916319661, 0:00:09.132904 per 50 iters\n",
      "\n",
      "time = 0:00:58.574189, epoch 41, iter = 50, loss = 0.6193182277679443, perplexity = 1.8576611082551666, 0:00:15.379213 per 50 iters\n",
      "time = 0:00:58.723362, epoch 41, iter = 100, loss = 0.3577327598631382, perplexity = 1.4300833937271444, 0:00:08.950282 per 50 iters\n",
      "time = 0:00:58.872219, epoch 41, iter = 150, loss = 0.3109847341477871, perplexity = 1.3647683866746376, 0:00:08.931282 per 50 iters\n",
      "time = 0:00:59.021550, epoch 41, iter = 200, loss = 0.3473540624976158, perplexity = 1.4153177476052399, 0:00:08.959734 per 50 iters\n",
      "time = 0:00:59.170520, epoch 41, iter = 250, loss = 0.28941413074731825, perplexity = 1.3356447455665583, 0:00:08.938106 per 50 iters\n",
      "time = 0:00:59.321283, epoch 41, iter = 300, loss = 0.35499164685606954, perplexity = 1.4261687412389599, 0:00:09.045669 per 50 iters\n",
      "time = 0:00:59.468619, epoch 41, iter = 350, loss = 0.48977504327893256, perplexity = 1.6319490607498064, 0:00:08.840018 per 50 iters\n",
      "time = 0:00:59.622560, epoch 41, iter = 400, loss = 0.2840190041065216, perplexity = 1.3284581766736048, 0:00:09.236351 per 50 iters\n",
      "time = 0:00:59.774137, epoch 41, iter = 450, loss = 0.3277990186214447, perplexity = 1.387910000191104, 0:00:09.094526 per 50 iters\n",
      "\n",
      "time = 0:01:00.029277, epoch 42, iter = 50, loss = 0.5237412232160569, perplexity = 1.68833227674684, 0:00:15.308266 per 50 iters\n",
      "time = 0:01:00.177847, epoch 42, iter = 100, loss = 0.34475179851055143, perplexity = 1.4116395051550121, 0:00:08.914112 per 50 iters\n",
      "time = 0:01:00.330064, epoch 42, iter = 150, loss = 0.27004310607910154, perplexity = 1.310020919381543, 0:00:09.132893 per 50 iters\n",
      "time = 0:01:00.479449, epoch 42, iter = 200, loss = 0.2984844473004341, perplexity = 1.3478145748786232, 0:00:08.963027 per 50 iters\n",
      "time = 0:01:00.632155, epoch 42, iter = 250, loss = 0.35712399512529375, perplexity = 1.429213074321627, 0:00:09.162215 per 50 iters\n",
      "time = 0:01:00.784876, epoch 42, iter = 300, loss = 0.2909619867801666, perplexity = 1.337713732177346, 0:00:09.163162 per 50 iters\n",
      "time = 0:01:00.933241, epoch 42, iter = 350, loss = 0.37133343249559403, perplexity = 1.4496663586824101, 0:00:08.901800 per 50 iters\n",
      "time = 0:01:01.083050, epoch 42, iter = 400, loss = 0.3337385356426239, perplexity = 1.396178045051128, 0:00:08.988406 per 50 iters\n",
      "time = 0:01:01.233383, epoch 42, iter = 450, loss = 0.4014613237977028, perplexity = 1.494006330221504, 0:00:09.019815 per 50 iters\n",
      "\n",
      "time = 0:01:01.495677, epoch 43, iter = 50, loss = 0.5454392719268799, perplexity = 1.725366120838108, 0:00:15.737522 per 50 iters\n",
      "time = 0:01:01.642966, epoch 43, iter = 100, loss = 0.3669305896759033, perplexity = 1.4432977358747274, 0:00:08.837247 per 50 iters\n",
      "time = 0:01:01.791193, epoch 43, iter = 150, loss = 0.34558085158467294, perplexity = 1.4128103144907909, 0:00:08.893523 per 50 iters\n",
      "time = 0:01:01.940811, epoch 43, iter = 200, loss = 0.3002734738588333, perplexity = 1.35022800915418, 0:00:08.976976 per 50 iters\n",
      "time = 0:01:02.092851, epoch 43, iter = 250, loss = 0.3076615709066391, perplexity = 1.3602405660497736, 0:00:09.122291 per 50 iters\n",
      "time = 0:01:02.242282, epoch 43, iter = 300, loss = 0.28517908036708833, perplexity = 1.330000183717469, 0:00:08.965716 per 50 iters\n",
      "time = 0:01:02.395939, epoch 43, iter = 350, loss = 0.2816719700396061, perplexity = 1.3253438961673027, 0:00:09.219305 per 50 iters\n",
      "time = 0:01:02.548466, epoch 43, iter = 400, loss = 0.3343023902177811, perplexity = 1.3969655084161112, 0:00:09.151529 per 50 iters\n",
      "time = 0:01:02.697466, epoch 43, iter = 450, loss = 0.35532706692814825, perplexity = 1.4266471870966289, 0:00:08.939827 per 50 iters\n",
      "\n",
      "time = 0:01:02.956055, epoch 44, iter = 50, loss = 0.5161848245561123, perplexity = 1.6756226449911902, 0:00:15.515218 per 50 iters\n",
      "time = 0:01:03.106215, epoch 44, iter = 100, loss = 0.26149010673165324, perplexity = 1.298864091497347, 0:00:09.009479 per 50 iters\n",
      "time = 0:01:03.258400, epoch 44, iter = 150, loss = 0.2849850545823574, perplexity = 1.329742154421109, 0:00:09.130984 per 50 iters\n",
      "time = 0:01:03.411026, epoch 44, iter = 200, loss = 0.263926248550415, perplexity = 1.302032166000102, 0:00:09.157387 per 50 iters\n",
      "time = 0:01:03.561977, epoch 44, iter = 250, loss = 0.2699676638841629, perplexity = 1.3099220922558839, 0:00:09.056970 per 50 iters\n",
      "time = 0:01:03.710145, epoch 44, iter = 300, loss = 0.3390708926320076, perplexity = 1.403642849621628, 0:00:08.889983 per 50 iters\n",
      "time = 0:01:03.860032, epoch 44, iter = 350, loss = 0.32394255205988887, perplexity = 1.3825678791612934, 0:00:08.993135 per 50 iters\n",
      "time = 0:01:04.009622, epoch 44, iter = 400, loss = 0.4053009895980358, perplexity = 1.499753842434866, 0:00:08.975252 per 50 iters\n",
      "time = 0:01:04.160805, epoch 44, iter = 450, loss = 0.3405195765197277, perplexity = 1.4056777580156041, 0:00:09.070856 per 50 iters\n",
      "\n",
      "time = 0:01:04.421002, epoch 45, iter = 50, loss = 0.4533460642397404, perplexity = 1.5735686481372895, 0:00:15.611644 per 50 iters\n",
      "time = 0:01:04.570948, epoch 45, iter = 100, loss = 0.31083703368902205, perplexity = 1.3645668246435865, 0:00:08.996661 per 50 iters\n",
      "time = 0:01:04.723338, epoch 45, iter = 150, loss = 0.25772512048482893, perplexity = 1.2939830802921373, 0:00:09.143228 per 50 iters\n",
      "time = 0:01:04.873088, epoch 45, iter = 200, loss = 0.2605964118242264, perplexity = 1.2977038218141146, 0:00:08.984865 per 50 iters\n",
      "time = 0:01:05.028256, epoch 45, iter = 250, loss = 0.2086658324301243, perplexity = 1.2320332241847385, 0:00:09.309915 per 50 iters\n",
      "time = 0:01:05.181080, epoch 45, iter = 300, loss = 0.2590727047622204, perplexity = 1.2957280070001849, 0:00:09.169327 per 50 iters\n",
      "time = 0:01:05.333752, epoch 45, iter = 350, loss = 0.30145591393113136, perplexity = 1.3518255171515476, 0:00:09.160177 per 50 iters\n",
      "time = 0:01:05.489208, epoch 45, iter = 400, loss = 0.2618214122951031, perplexity = 1.2992944836887523, 0:00:09.327201 per 50 iters\n",
      "time = 0:01:05.637861, epoch 45, iter = 450, loss = 0.43280486345291136, perplexity = 1.5415753736529685, 0:00:08.919072 per 50 iters\n",
      "\n",
      "time = 0:01:05.896629, epoch 46, iter = 50, loss = 0.5057971477508545, perplexity = 1.6583069093427998, 0:00:15.525944 per 50 iters\n",
      "time = 0:01:06.050173, epoch 46, iter = 100, loss = 0.2578910703957081, perplexity = 1.2941978344877179, 0:00:09.212497 per 50 iters\n",
      "time = 0:01:06.200066, epoch 46, iter = 150, loss = 0.3358790794759989, perplexity = 1.3991698262327916, 0:00:08.993437 per 50 iters\n",
      "time = 0:01:06.354492, epoch 46, iter = 200, loss = 0.17876550689339638, perplexity = 1.1957403184282576, 0:00:09.265381 per 50 iters\n",
      "time = 0:01:06.505411, epoch 46, iter = 250, loss = 0.3347520619630814, perplexity = 1.3975938255920584, 0:00:09.055020 per 50 iters\n",
      "time = 0:01:06.655309, epoch 46, iter = 300, loss = 0.3131531921029091, perplexity = 1.3677310405739111, 0:00:08.993779 per 50 iters\n",
      "time = 0:01:06.807509, epoch 46, iter = 350, loss = 0.2659080770611763, perplexity = 1.3046151291181707, 0:00:09.131817 per 50 iters\n",
      "time = 0:01:06.958115, epoch 46, iter = 400, loss = 0.3630311232805252, perplexity = 1.4376806038816463, 0:00:09.036234 per 50 iters\n",
      "time = 0:01:07.111740, epoch 46, iter = 450, loss = 0.24638795584440232, perplexity = 1.2793958263615641, 0:00:09.217351 per 50 iters\n",
      "\n",
      "time = 0:01:07.368723, epoch 47, iter = 50, loss = 0.5108991131186486, perplexity = 1.6667891534217776, 0:00:15.418860 per 50 iters\n",
      "time = 0:01:07.520763, epoch 47, iter = 100, loss = 0.20813947558403015, perplexity = 1.2313849057009778, 0:00:09.122266 per 50 iters\n",
      "time = 0:01:07.672550, epoch 47, iter = 150, loss = 0.22624825686216354, perplexity = 1.2538869126723857, 0:00:09.107073 per 50 iters\n",
      "time = 0:01:07.824603, epoch 47, iter = 200, loss = 0.23343735426664353, perplexity = 1.2629337080043586, 0:00:09.123012 per 50 iters\n",
      "time = 0:01:07.975639, epoch 47, iter = 250, loss = 0.3109346607327461, perplexity = 1.3647000497717223, 0:00:09.062021 per 50 iters\n",
      "time = 0:01:08.127539, epoch 47, iter = 300, loss = 0.22174249798059464, perplexity = 1.248249909604251, 0:00:09.113877 per 50 iters\n",
      "time = 0:01:08.279881, epoch 47, iter = 350, loss = 0.2838247491419315, perplexity = 1.3282001421405918, 0:00:09.140404 per 50 iters\n",
      "time = 0:01:08.431591, epoch 47, iter = 400, loss = 0.313208816498518, perplexity = 1.367807121902368, 0:00:09.102459 per 50 iters\n",
      "time = 0:01:08.583744, epoch 47, iter = 450, loss = 0.35336507081985474, perplexity = 1.4238508549610445, 0:00:09.129002 per 50 iters\n",
      "\n",
      "time = 0:01:08.839313, epoch 48, iter = 50, loss = 0.47955364525318145, perplexity = 1.615353220675633, 0:00:15.334055 per 50 iters\n",
      "time = 0:01:08.988781, epoch 48, iter = 100, loss = 0.2593193502724171, perplexity = 1.2960476319109517, 0:00:08.967918 per 50 iters\n",
      "time = 0:01:09.139660, epoch 48, iter = 150, loss = 0.21386003941297532, perplexity = 1.2384493085706878, 0:00:09.052569 per 50 iters\n",
      "time = 0:01:09.291466, epoch 48, iter = 200, loss = 0.23755638241767885, perplexity = 1.268146495940465, 0:00:09.108269 per 50 iters\n",
      "time = 0:01:09.442299, epoch 48, iter = 250, loss = 0.2625155142694712, perplexity = 1.3001966396130507, 0:00:09.049806 per 50 iters\n",
      "time = 0:01:09.596007, epoch 48, iter = 300, loss = 0.28388341411948204, perplexity = 1.328278063257711, 0:00:09.222361 per 50 iters\n",
      "time = 0:01:09.746381, epoch 48, iter = 350, loss = 0.36136832639575006, perplexity = 1.4352920194679197, 0:00:09.022292 per 50 iters\n",
      "time = 0:01:09.900381, epoch 48, iter = 400, loss = 0.23337169691920281, perplexity = 1.2628507898492203, 0:00:09.239814 per 50 iters\n",
      "time = 0:01:10.053603, epoch 48, iter = 450, loss = 0.2839581863582134, perplexity = 1.3283773852953777, 0:00:09.193193 per 50 iters\n",
      "\n",
      "time = 0:01:10.313590, epoch 49, iter = 50, loss = 0.46443103849887846, perplexity = 1.5911086517367015, 0:00:15.599096 per 50 iters\n",
      "time = 0:01:10.467402, epoch 49, iter = 100, loss = 0.2001970551908016, perplexity = 1.2216434656292738, 0:00:09.228579 per 50 iters\n",
      "time = 0:01:10.617452, epoch 49, iter = 150, loss = 0.23071684792637825, perplexity = 1.2595025581930115, 0:00:09.002871 per 50 iters\n",
      "time = 0:01:10.769864, epoch 49, iter = 200, loss = 0.24706187337636948, perplexity = 1.28025832423285, 0:00:09.144572 per 50 iters\n",
      "time = 0:01:10.923299, epoch 49, iter = 250, loss = 0.23323194772005082, perplexity = 1.262674319793752, 0:00:09.205931 per 50 iters\n",
      "time = 0:01:11.073770, epoch 49, iter = 300, loss = 0.2475319503247738, perplexity = 1.2808602856320788, 0:00:09.028120 per 50 iters\n",
      "time = 0:01:11.221429, epoch 49, iter = 350, loss = 0.3225591000914574, perplexity = 1.3806564853729848, 0:00:08.859437 per 50 iters\n",
      "time = 0:01:11.373214, epoch 49, iter = 400, loss = 0.26502302318811416, perplexity = 1.3034609852603736, 0:00:09.106913 per 50 iters\n",
      "time = 0:01:11.525505, epoch 49, iter = 450, loss = 0.29154098689556124, perplexity = 1.3384884928542582, 0:00:09.137336 per 50 iters\n",
      "\n",
      "time = 0:01:11.783465, epoch 50, iter = 50, loss = 0.40616842836141587, perplexity = 1.5010553514614025, 0:00:15.477460 per 50 iters\n",
      "time = 0:01:11.937033, epoch 50, iter = 100, loss = 0.16696108028292656, perplexity = 1.1817082726617216, 0:00:09.213942 per 50 iters\n",
      "time = 0:01:12.089292, epoch 50, iter = 150, loss = 0.1944864032417536, perplexity = 1.2146869669677274, 0:00:09.135409 per 50 iters\n",
      "time = 0:01:12.239176, epoch 50, iter = 200, loss = 0.23018778130412101, perplexity = 1.2588363736723605, 0:00:08.992858 per 50 iters\n",
      "time = 0:01:12.391096, epoch 50, iter = 250, loss = 0.3071265706419945, perplexity = 1.359513031619866, 0:00:09.115089 per 50 iters\n",
      "time = 0:01:12.544233, epoch 50, iter = 300, loss = 0.26509300962090493, perplexity = 1.30355221303733, 0:00:09.188076 per 50 iters\n",
      "time = 0:01:12.694741, epoch 50, iter = 350, loss = 0.2644078147411346, perplexity = 1.3026593316692479, 0:00:09.030320 per 50 iters\n",
      "time = 0:01:12.847859, epoch 50, iter = 400, loss = 0.24486299023032188, perplexity = 1.2774462785940282, 0:00:09.186954 per 50 iters\n",
      "time = 0:01:12.997489, epoch 50, iter = 450, loss = 0.31791365414857864, perplexity = 1.3742575946623687, 0:00:08.977692 per 50 iters\n",
      "\n",
      "time = 0:01:13.260254, epoch 51, iter = 50, loss = 0.3742108900845051, perplexity = 1.4538437193543778, 0:00:15.765740 per 50 iters\n",
      "time = 0:01:13.415351, epoch 51, iter = 100, loss = 0.190262491106987, perplexity = 1.2095670565860142, 0:00:09.305675 per 50 iters\n",
      "time = 0:01:13.566402, epoch 51, iter = 150, loss = 0.20639945834875106, perplexity = 1.2292441377684717, 0:00:09.062908 per 50 iters\n",
      "time = 0:01:13.717632, epoch 51, iter = 200, loss = 0.21083551853895188, perplexity = 1.2347092515768043, 0:00:09.073662 per 50 iters\n",
      "time = 0:01:13.869477, epoch 51, iter = 250, loss = 0.19293890751898288, perplexity = 1.2128086977634502, 0:00:09.110605 per 50 iters\n",
      "time = 0:01:14.022627, epoch 51, iter = 300, loss = 0.2712394295632839, perplexity = 1.3115890659904506, 0:00:09.188834 per 50 iters\n",
      "time = 0:01:14.171728, epoch 51, iter = 350, loss = 0.2283956803381443, perplexity = 1.256582432039819, 0:00:08.945876 per 50 iters\n",
      "time = 0:01:14.320753, epoch 51, iter = 400, loss = 0.3895042285323143, perplexity = 1.4762487304297964, 0:00:08.941370 per 50 iters\n",
      "time = 0:01:14.472021, epoch 51, iter = 450, loss = 0.2647792145609856, perplexity = 1.3031432289644789, 0:00:09.075980 per 50 iters\n",
      "\n",
      "time = 0:01:14.737561, epoch 52, iter = 50, loss = 0.3129877385497093, perplexity = 1.3675047633331294, 0:00:15.932255 per 50 iters\n",
      "time = 0:01:14.886461, epoch 52, iter = 100, loss = 0.22933452360332013, perplexity = 1.257762719959265, 0:00:08.933785 per 50 iters\n",
      "time = 0:01:15.037626, epoch 52, iter = 150, loss = 0.2116725804656744, perplexity = 1.2357432123661043, 0:00:09.069773 per 50 iters\n",
      "time = 0:01:15.187825, epoch 52, iter = 200, loss = 0.22157701686024667, perplexity = 1.2480433649008313, 0:00:09.011796 per 50 iters\n",
      "time = 0:01:15.340133, epoch 52, iter = 250, loss = 0.2236800618469715, perplexity = 1.2506708181003494, 0:00:09.138360 per 50 iters\n",
      "time = 0:01:15.492483, epoch 52, iter = 300, loss = 0.18891533374786376, perplexity = 1.2079386765127507, 0:00:09.140895 per 50 iters\n",
      "time = 0:01:15.642080, epoch 52, iter = 350, loss = 0.22483495473861695, perplexity = 1.252116043317493, 0:00:08.975679 per 50 iters\n",
      "time = 0:01:15.795519, epoch 52, iter = 400, loss = 0.2674629530310631, perplexity = 1.3066452216944664, 0:00:09.206181 per 50 iters\n",
      "time = 0:01:15.945587, epoch 52, iter = 450, loss = 0.3209787966310978, perplexity = 1.3784763522412624, 0:00:09.003971 per 50 iters\n",
      "\n",
      "time = 0:01:16.201898, epoch 53, iter = 50, loss = 0.42261386327445505, perplexity = 1.5259449588016643, 0:00:15.378481 per 50 iters\n",
      "time = 0:01:16.352600, epoch 53, iter = 100, loss = 0.23119157545268534, perplexity = 1.260100620673969, 0:00:09.042002 per 50 iters\n",
      "time = 0:01:16.503325, epoch 53, iter = 150, loss = 0.19851280950009823, perplexity = 1.2195876496223121, 0:00:09.043382 per 50 iters\n",
      "time = 0:01:16.659298, epoch 53, iter = 200, loss = 0.15232096545398235, perplexity = 1.1645339516225315, 0:00:09.358207 per 50 iters\n",
      "time = 0:01:16.810284, epoch 53, iter = 250, loss = 0.26258467987179757, perplexity = 1.3002865716068366, 0:00:09.058997 per 50 iters\n",
      "time = 0:01:16.960729, epoch 53, iter = 300, loss = 0.23911428764462472, perplexity = 1.2701236877338402, 0:00:09.026571 per 50 iters\n",
      "time = 0:01:17.110955, epoch 53, iter = 350, loss = 0.24552044942975043, perplexity = 1.2782864235519185, 0:00:09.013434 per 50 iters\n",
      "time = 0:01:17.263500, epoch 53, iter = 400, loss = 0.20249846279621125, perplexity = 1.2244582028786795, 0:00:09.152532 per 50 iters\n",
      "time = 0:01:17.415996, epoch 53, iter = 450, loss = 0.22868018507957458, perplexity = 1.2569399865602986, 0:00:09.149655 per 50 iters\n",
      "\n",
      "time = 0:01:17.671372, epoch 54, iter = 50, loss = 0.3285825753957033, perplexity = 1.3889979326465753, 0:00:15.322442 per 50 iters\n",
      "time = 0:01:17.819630, epoch 54, iter = 100, loss = 0.16174865573644637, perplexity = 1.1755647327333527, 0:00:08.895397 per 50 iters\n",
      "time = 0:01:17.967903, epoch 54, iter = 150, loss = 0.2290618549287319, perplexity = 1.2574198142174189, 0:00:08.896290 per 50 iters\n",
      "time = 0:01:18.119379, epoch 54, iter = 200, loss = 0.17248727157711982, perplexity = 1.1882566958850163, 0:00:09.088438 per 50 iters\n",
      "time = 0:01:18.268741, epoch 54, iter = 250, loss = 0.20728918202221394, perplexity = 1.2303383120625162, 0:00:08.961600 per 50 iters\n",
      "time = 0:01:18.417276, epoch 54, iter = 300, loss = 0.2597060288488865, perplexity = 1.296548882669515, 0:00:08.911998 per 50 iters\n",
      "time = 0:01:18.566105, epoch 54, iter = 350, loss = 0.25299074307084085, perplexity = 1.2878713550455512, 0:00:08.929616 per 50 iters\n",
      "time = 0:01:18.718193, epoch 54, iter = 400, loss = 0.28985877737402915, perplexity = 1.3362387675523075, 0:00:09.125191 per 50 iters\n",
      "time = 0:01:18.870638, epoch 54, iter = 450, loss = 0.20615963339805604, perplexity = 1.2289493697015206, 0:00:09.146577 per 50 iters\n",
      "\n",
      "time = 0:01:19.127528, epoch 55, iter = 50, loss = 0.35564824305474757, perplexity = 1.427105465704339, 0:00:15.413329 per 50 iters\n",
      "time = 0:01:19.277403, epoch 55, iter = 100, loss = 0.16338514626026154, perplexity = 1.1774901082783233, 0:00:08.992391 per 50 iters\n",
      "time = 0:01:19.427436, epoch 55, iter = 150, loss = 0.21509551897644996, perplexity = 1.2399803329617518, 0:00:09.001818 per 50 iters\n",
      "time = 0:01:19.576745, epoch 55, iter = 200, loss = 0.21851323768496514, perplexity = 1.2442254871831748, 0:00:08.958480 per 50 iters\n",
      "time = 0:01:19.729464, epoch 55, iter = 250, loss = 0.16222788602113725, perplexity = 1.176128233967537, 0:00:09.162973 per 50 iters\n",
      "time = 0:01:19.880411, epoch 55, iter = 300, loss = 0.2566923745721579, perplexity = 1.2926474143753726, 0:00:09.056727 per 50 iters\n",
      "time = 0:01:20.030985, epoch 55, iter = 350, loss = 0.188705732524395, perplexity = 1.207685517620412, 0:00:09.034354 per 50 iters\n",
      "time = 0:01:20.181003, epoch 55, iter = 400, loss = 0.2554661646485329, perplexity = 1.2910633286973912, 0:00:09.000924 per 50 iters\n",
      "time = 0:01:20.328203, epoch 55, iter = 450, loss = 0.24422543317079545, perplexity = 1.2766320932733235, 0:00:08.831904 per 50 iters\n",
      "\n",
      "time = 0:01:20.579713, epoch 56, iter = 50, loss = 0.33642099779099227, perplexity = 1.399928267475452, 0:00:15.090503 per 50 iters\n",
      "time = 0:01:20.731593, epoch 56, iter = 100, loss = 0.1918601644039154, perplexity = 1.2115010941418494, 0:00:09.112662 per 50 iters\n",
      "time = 0:01:20.881169, epoch 56, iter = 150, loss = 0.17851026996970176, perplexity = 1.1954351602933129, 0:00:08.974489 per 50 iters\n",
      "time = 0:01:21.030673, epoch 56, iter = 200, loss = 0.16173654198646545, perplexity = 1.1755504923223465, 0:00:08.970121 per 50 iters\n",
      "time = 0:01:21.182302, epoch 56, iter = 250, loss = 0.188987318277359, perplexity = 1.2080256325397454, 0:00:09.097565 per 50 iters\n",
      "time = 0:01:21.336770, epoch 56, iter = 300, loss = 0.15122586876153946, perplexity = 1.1632593723650138, 0:00:09.267980 per 50 iters\n",
      "time = 0:01:21.483254, epoch 56, iter = 350, loss = 0.2563263761997223, perplexity = 1.2921743940931851, 0:00:08.788960 per 50 iters\n",
      "time = 0:01:21.633363, epoch 56, iter = 400, loss = 0.26465977311134337, perplexity = 1.3029875889432398, 0:00:09.006387 per 50 iters\n",
      "time = 0:01:21.782311, epoch 56, iter = 450, loss = 0.2907141301035881, perplexity = 1.3373822119839192, 0:00:08.936769 per 50 iters\n",
      "\n",
      "time = 0:01:22.038437, epoch 57, iter = 50, loss = 0.3587954443693161, perplexity = 1.4316039289737297, 0:00:15.367430 per 50 iters\n",
      "time = 0:01:22.190374, epoch 57, iter = 100, loss = 0.1710229640454054, perplexity = 1.1865179959619943, 0:00:09.116137 per 50 iters\n",
      "time = 0:01:22.338420, epoch 57, iter = 150, loss = 0.1844132775813341, perplexity = 1.202512691953704, 0:00:08.882642 per 50 iters\n",
      "time = 0:01:22.490145, epoch 57, iter = 200, loss = 0.16360459804534913, perplexity = 1.177748538940006, 0:00:09.103391 per 50 iters\n",
      "time = 0:01:22.640064, epoch 57, iter = 250, loss = 0.1891349485516548, perplexity = 1.2082039868601582, 0:00:08.995011 per 50 iters\n",
      "time = 0:01:22.791466, epoch 57, iter = 300, loss = 0.18670298874378205, perplexity = 1.2052692533478162, 0:00:09.084008 per 50 iters\n",
      "time = 0:01:22.943855, epoch 57, iter = 350, loss = 0.18808973357081413, perplexity = 1.2069418136892416, 0:00:09.143275 per 50 iters\n",
      "time = 0:01:23.094271, epoch 57, iter = 400, loss = 0.20772118166089057, perplexity = 1.2308699325904473, 0:00:09.024860 per 50 iters\n",
      "time = 0:01:23.242635, epoch 57, iter = 450, loss = 0.2526737305521965, perplexity = 1.2874631484103236, 0:00:08.901719 per 50 iters\n",
      "\n",
      "time = 0:01:23.499702, epoch 58, iter = 50, loss = 0.25401649199426174, perplexity = 1.289193065457122, 0:00:15.423876 per 50 iters\n",
      "time = 0:01:23.651196, epoch 58, iter = 100, loss = 0.13807197026908397, perplexity = 1.1480581733566009, 0:00:09.089513 per 50 iters\n",
      "time = 0:01:23.799949, epoch 58, iter = 150, loss = 0.2029864779114723, perplexity = 1.2250559028211305, 0:00:08.925118 per 50 iters\n",
      "time = 0:01:23.948425, epoch 58, iter = 200, loss = 0.17791091583669186, perplexity = 1.1947188859616782, 0:00:08.908453 per 50 iters\n",
      "time = 0:01:24.099604, epoch 58, iter = 250, loss = 0.18892208352684975, perplexity = 1.2079468298593623, 0:00:09.070577 per 50 iters\n",
      "time = 0:01:24.250742, epoch 58, iter = 300, loss = 0.1806315615028143, perplexity = 1.197973718336136, 0:00:09.068172 per 50 iters\n",
      "time = 0:01:24.401925, epoch 58, iter = 350, loss = 0.173410624563694, perplexity = 1.1893543829523054, 0:00:09.070893 per 50 iters\n",
      "time = 0:01:24.551855, epoch 58, iter = 400, loss = 0.23597510397434235, perplexity = 1.2661427878511586, 0:00:08.995669 per 50 iters\n",
      "time = 0:01:24.702377, epoch 58, iter = 450, loss = 0.22358500465750694, perplexity = 1.2505519384977055, 0:00:09.031203 per 50 iters\n",
      "\n",
      "time = 0:01:24.951045, epoch 59, iter = 50, loss = 0.42344799138605593, perplexity = 1.527218323389325, 0:00:14.919955 per 50 iters\n",
      "time = 0:01:25.103715, epoch 59, iter = 100, loss = 0.15195094473659992, perplexity = 1.16410312964578, 0:00:09.160116 per 50 iters\n",
      "time = 0:01:25.255409, epoch 59, iter = 150, loss = 0.17549271188676357, perplexity = 1.1918333024035421, 0:00:09.101530 per 50 iters\n",
      "time = 0:01:25.409277, epoch 59, iter = 200, loss = 0.15341237261891366, perplexity = 1.1658056261522531, 0:00:09.231973 per 50 iters\n",
      "time = 0:01:25.557189, epoch 59, iter = 250, loss = 0.17284966580569744, perplexity = 1.1886873912897244, 0:00:08.874598 per 50 iters\n",
      "time = 0:01:25.710027, epoch 59, iter = 300, loss = 0.17062101095914842, perplexity = 1.186041167229428, 0:00:09.170183 per 50 iters\n",
      "time = 0:01:25.855815, epoch 59, iter = 350, loss = 0.21955795504152775, perplexity = 1.2455260303768483, 0:00:08.747181 per 50 iters\n",
      "time = 0:01:26.006240, epoch 59, iter = 400, loss = 0.1966518795490265, perplexity = 1.217320192880616, 0:00:09.025340 per 50 iters\n",
      "time = 0:01:26.156782, epoch 59, iter = 450, loss = 0.2108275267481804, perplexity = 1.2346993840782317, 0:00:09.032458 per 50 iters\n",
      "\n",
      "time = 0:01:26.407161, epoch 60, iter = 50, loss = 0.3344710273295641, perplexity = 1.3972011085096123, 0:00:15.022632 per 50 iters\n",
      "time = 0:01:26.557052, epoch 60, iter = 100, loss = 0.15852531842887402, perplexity = 1.1717815915185146, 0:00:08.993339 per 50 iters\n",
      "time = 0:01:26.708059, epoch 60, iter = 150, loss = 0.1227963139116764, perplexity = 1.130654098980927, 0:00:09.060308 per 50 iters\n",
      "time = 0:01:26.859514, epoch 60, iter = 200, loss = 0.1527493466436863, perplexity = 1.1650329229295087, 0:00:09.087160 per 50 iters\n",
      "time = 0:01:27.011938, epoch 60, iter = 250, loss = 0.17303533464670182, perplexity = 1.1889081139900117, 0:00:09.145317 per 50 iters\n",
      "time = 0:01:27.160776, epoch 60, iter = 300, loss = 0.18114252060651778, perplexity = 1.1985859903231693, 0:00:08.930223 per 50 iters\n",
      "time = 0:01:27.314625, epoch 60, iter = 350, loss = 0.19331862948834896, perplexity = 1.2132693153183973, 0:00:09.230788 per 50 iters\n",
      "time = 0:01:27.465267, epoch 60, iter = 400, loss = 0.17049765899777414, perplexity = 1.1858948757480356, 0:00:09.038407 per 50 iters\n",
      "time = 0:01:27.613827, epoch 60, iter = 450, loss = 0.24878829792141915, perplexity = 1.282470502657918, 0:00:08.913478 per 50 iters\n",
      "\n",
      "time = 0:01:27.868614, epoch 61, iter = 50, loss = 0.31549535140395163, perplexity = 1.3709382389705467, 0:00:15.287144 per 50 iters\n",
      "time = 0:01:28.020711, epoch 61, iter = 100, loss = 0.1377478776872158, perplexity = 1.14768615650627, 0:00:09.125709 per 50 iters\n",
      "time = 0:01:28.169664, epoch 61, iter = 150, loss = 0.1523239178210497, perplexity = 1.1645373897592946, 0:00:08.937049 per 50 iters\n",
      "time = 0:01:28.320625, epoch 61, iter = 200, loss = 0.14223083041608334, perplexity = 1.1528427289929044, 0:00:09.057539 per 50 iters\n",
      "time = 0:01:28.468652, epoch 61, iter = 250, loss = 0.1896232333779335, perplexity = 1.2087940785886857, 0:00:08.881546 per 50 iters\n",
      "time = 0:01:28.617783, epoch 61, iter = 300, loss = 0.18858339868485927, perplexity = 1.2075377858505714, 0:00:08.947766 per 50 iters\n",
      "time = 0:01:28.766014, epoch 61, iter = 350, loss = 0.21706365510821343, perplexity = 1.2424231862030495, 0:00:08.893718 per 50 iters\n",
      "time = 0:01:28.917267, epoch 61, iter = 400, loss = 0.2114386284351349, perplexity = 1.2354541415480167, 0:00:09.075097 per 50 iters\n",
      "time = 0:01:29.069118, epoch 61, iter = 450, loss = 0.2085610084235668, perplexity = 1.231904084294566, 0:00:09.110929 per 50 iters\n",
      "\n",
      "time = 0:01:29.323578, epoch 62, iter = 50, loss = 0.30818014591932297, perplexity = 1.3609461357481618, 0:00:15.267481 per 50 iters\n",
      "time = 0:01:29.474377, epoch 62, iter = 100, loss = 0.12926736213266848, perplexity = 1.1379943400897414, 0:00:09.047830 per 50 iters\n",
      "time = 0:01:29.622436, epoch 62, iter = 150, loss = 0.16220064088702202, perplexity = 1.1760961906325802, 0:00:08.883452 per 50 iters\n",
      "time = 0:01:29.772291, epoch 62, iter = 200, loss = 0.1775991302728653, perplexity = 1.1943464479236234, 0:00:08.991210 per 50 iters\n",
      "time = 0:01:29.926436, epoch 62, iter = 250, loss = 0.14008284769952298, perplexity = 1.1503691003429841, 0:00:09.248580 per 50 iters\n",
      "time = 0:01:30.076168, epoch 62, iter = 300, loss = 0.1726437944918871, perplexity = 1.188442699843109, 0:00:08.983771 per 50 iters\n",
      "time = 0:01:30.228336, epoch 62, iter = 350, loss = 0.18991367481648921, perplexity = 1.2091452134693803, 0:00:09.129964 per 50 iters\n",
      "time = 0:01:30.375748, epoch 62, iter = 400, loss = 0.20314093731343746, perplexity = 1.225245138837519, 0:00:08.844592 per 50 iters\n",
      "time = 0:01:30.525316, epoch 62, iter = 450, loss = 0.21466931581497192, perplexity = 1.2394519620283522, 0:00:08.974002 per 50 iters\n",
      "\n",
      "time = 0:01:30.779107, epoch 63, iter = 50, loss = 0.3090681903809309, perplexity = 1.3621552532221362, 0:00:15.227349 per 50 iters\n",
      "time = 0:01:30.929110, epoch 63, iter = 100, loss = 0.14759744472801686, perplexity = 1.1590462222709708, 0:00:09.000095 per 50 iters\n",
      "time = 0:01:31.078666, epoch 63, iter = 150, loss = 0.14504950225353241, perplexity = 1.1560967982483679, 0:00:08.973220 per 50 iters\n",
      "time = 0:01:31.227940, epoch 63, iter = 200, loss = 0.17710464999079703, perplexity = 1.1937560131463751, 0:00:08.956321 per 50 iters\n",
      "time = 0:01:31.379853, epoch 63, iter = 250, loss = 0.15200678899884223, perplexity = 1.164168139941438, 0:00:09.114733 per 50 iters\n",
      "time = 0:01:31.529113, epoch 63, iter = 300, loss = 0.20844792939722537, perplexity = 1.2317647896559676, 0:00:08.955479 per 50 iters\n",
      "time = 0:01:31.679541, epoch 63, iter = 350, loss = 0.16288902819156648, perplexity = 1.1769060790456034, 0:00:09.025559 per 50 iters\n",
      "time = 0:01:31.830129, epoch 63, iter = 400, loss = 0.1987990841269493, perplexity = 1.2199368366009211, 0:00:09.035120 per 50 iters\n",
      "time = 0:01:31.982100, epoch 63, iter = 450, loss = 0.1858287799358368, perplexity = 1.204216056774529, 0:00:09.118104 per 50 iters\n",
      "\n",
      "time = 0:01:32.240784, epoch 64, iter = 50, loss = 0.26220643319189546, perplexity = 1.2997948355328364, 0:00:15.520888 per 50 iters\n",
      "time = 0:01:32.393039, epoch 64, iter = 100, loss = 0.13441216617822646, perplexity = 1.1438641846270101, 0:00:09.135232 per 50 iters\n",
      "time = 0:01:32.542875, epoch 64, iter = 150, loss = 0.13834184437990188, perplexity = 1.1483680463467707, 0:00:08.990042 per 50 iters\n",
      "time = 0:01:32.691338, epoch 64, iter = 200, loss = 0.17647293411195278, perplexity = 1.1930021366603487, 0:00:08.907675 per 50 iters\n",
      "time = 0:01:32.841598, epoch 64, iter = 250, loss = 0.15703180782496928, perplexity = 1.170032829508486, 0:00:09.015458 per 50 iters\n",
      "time = 0:01:32.989365, epoch 64, iter = 300, loss = 0.15988886162638663, perplexity = 1.1733804561493715, 0:00:08.865925 per 50 iters\n",
      "time = 0:01:33.140604, epoch 64, iter = 350, loss = 0.20603994101285936, perplexity = 1.2288022826229523, 0:00:09.074233 per 50 iters\n",
      "time = 0:01:33.288394, epoch 64, iter = 400, loss = 0.19891252666711806, perplexity = 1.220075237184619, 0:00:08.867303 per 50 iters\n",
      "time = 0:01:33.442474, epoch 64, iter = 450, loss = 0.1631406633555889, perplexity = 1.1772022672639655, 0:00:09.244673 per 50 iters\n",
      "\n",
      "time = 0:01:33.692069, epoch 65, iter = 50, loss = 0.2562059522420168, perplexity = 1.2920187947077377, 0:00:14.975571 per 50 iters\n",
      "time = 0:01:33.841210, epoch 65, iter = 100, loss = 0.1447679428756237, perplexity = 1.155771334173932, 0:00:08.948364 per 50 iters\n",
      "time = 0:01:33.995031, epoch 65, iter = 150, loss = 0.11955154240131378, perplexity = 1.1269913304096673, 0:00:09.229147 per 50 iters\n",
      "time = 0:01:34.146921, epoch 65, iter = 200, loss = 0.11952311463654042, perplexity = 1.1269592930206027, 0:00:09.113292 per 50 iters\n",
      "time = 0:01:34.298496, epoch 65, iter = 250, loss = 0.17619544915854932, perplexity = 1.1926711424431284, 0:00:09.094407 per 50 iters\n",
      "time = 0:01:34.449307, epoch 65, iter = 300, loss = 0.15806101731956004, perplexity = 1.1712376583098665, 0:00:09.048557 per 50 iters\n",
      "time = 0:01:34.599081, epoch 65, iter = 350, loss = 0.2019299702346325, perplexity = 1.2237623053234126, 0:00:08.986344 per 50 iters\n",
      "time = 0:01:34.749925, epoch 65, iter = 400, loss = 0.17479677334427834, perplexity = 1.1910041482258225, 0:00:09.050488 per 50 iters\n",
      "time = 0:01:34.901054, epoch 65, iter = 450, loss = 0.19030464470386504, perplexity = 1.209618045262785, 0:00:09.067681 per 50 iters\n",
      "\n",
      "time = 0:01:35.151587, epoch 66, iter = 50, loss = 0.28213993400335313, perplexity = 1.3259642544916304, 0:00:15.031889 per 50 iters\n",
      "time = 0:01:35.301058, epoch 66, iter = 100, loss = 0.15448400251567362, perplexity = 1.1670556079543613, 0:00:08.968141 per 50 iters\n",
      "time = 0:01:35.450426, epoch 66, iter = 150, loss = 0.13326239697635173, perplexity = 1.142549760603331, 0:00:08.961966 per 50 iters\n",
      "time = 0:01:35.600676, epoch 66, iter = 200, loss = 0.12697043254971505, perplexity = 1.1353834468915658, 0:00:09.014842 per 50 iters\n",
      "time = 0:01:35.752822, epoch 66, iter = 250, loss = 0.15933902338147163, perplexity = 1.1727354640356604, 0:00:09.128697 per 50 iters\n",
      "time = 0:01:35.900214, epoch 66, iter = 300, loss = 0.20409645743668078, perplexity = 1.2264164447376444, 0:00:08.843439 per 50 iters\n",
      "time = 0:01:36.050342, epoch 66, iter = 350, loss = 0.16453322760760783, perplexity = 1.1788427390248133, 0:00:09.007482 per 50 iters\n",
      "time = 0:01:36.203828, epoch 66, iter = 400, loss = 0.16633323416113854, perplexity = 1.1809665745661468, 0:00:09.209096 per 50 iters\n",
      "time = 0:01:36.353250, epoch 66, iter = 450, loss = 0.16005879625678063, perplexity = 1.173579871066769, 0:00:08.965191 per 50 iters\n",
      "\n",
      "time = 0:01:36.607631, epoch 67, iter = 50, loss = 0.28036204777657986, perplexity = 1.3236089352715832, 0:00:15.262766 per 50 iters\n",
      "time = 0:01:36.757954, epoch 67, iter = 100, loss = 0.11502373240888118, perplexity = 1.121900062647009, 0:00:09.019233 per 50 iters\n",
      "time = 0:01:36.905776, epoch 67, iter = 150, loss = 0.14960354045033455, perplexity = 1.1613737137442142, 0:00:08.869202 per 50 iters\n",
      "time = 0:01:37.055619, epoch 67, iter = 200, loss = 0.14322918891906739, perplexity = 1.153994254055771, 0:00:08.990478 per 50 iters\n",
      "time = 0:01:37.206677, epoch 67, iter = 250, loss = 0.13731156393885613, perplexity = 1.147185514483825, 0:00:09.063354 per 50 iters\n",
      "time = 0:01:37.356921, epoch 67, iter = 300, loss = 0.15407814621925353, perplexity = 1.1665820471929094, 0:00:09.014585 per 50 iters\n",
      "time = 0:01:37.508013, epoch 67, iter = 350, loss = 0.16933742471039295, perplexity = 1.1845197577357556, 0:00:09.065373 per 50 iters\n",
      "time = 0:01:37.659297, epoch 67, iter = 400, loss = 0.17943691745400428, perplexity = 1.1965434206812926, 0:00:09.076919 per 50 iters\n",
      "time = 0:01:37.808229, epoch 67, iter = 450, loss = 0.17205739162862302, perplexity = 1.1877459979350569, 0:00:08.935818 per 50 iters\n",
      "\n",
      "time = 0:01:38.065425, epoch 68, iter = 50, loss = 0.23522830471396447, perplexity = 1.265197586335484, 0:00:15.431613 per 50 iters\n",
      "time = 0:01:38.215843, epoch 68, iter = 100, loss = 0.12378265857696533, perplexity = 1.1317698637936209, 0:00:09.024985 per 50 iters\n",
      "time = 0:01:38.366623, epoch 68, iter = 150, loss = 0.12682653702795504, perplexity = 1.135220082052094, 0:00:09.046687 per 50 iters\n",
      "time = 0:01:38.515439, epoch 68, iter = 200, loss = 0.12246448621153831, perplexity = 1.130278978872674, 0:00:08.928836 per 50 iters\n",
      "time = 0:01:38.665899, epoch 68, iter = 250, loss = 0.14722320973873138, perplexity = 1.1586125477735445, 0:00:09.027501 per 50 iters\n",
      "time = 0:01:38.816657, epoch 68, iter = 300, loss = 0.15803632743656634, perplexity = 1.1712087409461096, 0:00:09.045393 per 50 iters\n",
      "time = 0:01:38.964741, epoch 68, iter = 350, loss = 0.2074418395757675, perplexity = 1.2305261468361126, 0:00:08.884910 per 50 iters\n",
      "time = 0:01:39.117151, epoch 68, iter = 400, loss = 0.1869531700015068, perplexity = 1.2055708268479615, 0:00:09.144508 per 50 iters\n",
      "time = 0:01:39.267298, epoch 68, iter = 450, loss = 0.17414394319057463, perplexity = 1.1902268785448222, 0:00:09.008730 per 50 iters\n",
      "\n",
      "time = 0:01:39.521215, epoch 69, iter = 50, loss = 0.2753718923777342, perplexity = 1.3170203736426351, 0:00:15.234906 per 50 iters\n",
      "time = 0:01:39.670020, epoch 69, iter = 100, loss = 0.11569015614688397, perplexity = 1.1226479726652387, 0:00:08.928170 per 50 iters\n",
      "time = 0:01:39.819665, epoch 69, iter = 150, loss = 0.12747614994645118, perplexity = 1.1359577752643095, 0:00:08.978569 per 50 iters\n",
      "time = 0:01:39.969917, epoch 69, iter = 200, loss = 0.13587105840444566, perplexity = 1.145534177067111, 0:00:09.015015 per 50 iters\n",
      "time = 0:01:40.117463, epoch 69, iter = 250, loss = 0.1626489260047674, perplexity = 1.1766235352434171, 0:00:08.852668 per 50 iters\n",
      "time = 0:01:40.271171, epoch 69, iter = 300, loss = 0.1405819983035326, perplexity = 1.1509434511060943, 0:00:09.222322 per 50 iters\n",
      "time = 0:01:40.422262, epoch 69, iter = 350, loss = 0.15715916842222213, perplexity = 1.170181855078249, 0:00:09.065368 per 50 iters\n",
      "time = 0:01:40.573048, epoch 69, iter = 400, loss = 0.17550134472548962, perplexity = 1.1918435913526415, 0:00:09.047082 per 50 iters\n",
      "time = 0:01:40.722509, epoch 69, iter = 450, loss = 0.19332585096359253, perplexity = 1.2132780769443574, 0:00:08.967500 per 50 iters\n",
      "\n",
      "time = 0:01:40.975770, epoch 70, iter = 50, loss = 0.23854979433119297, perplexity = 1.2694069137309827, 0:00:15.195581 per 50 iters\n",
      "time = 0:01:41.123843, epoch 70, iter = 100, loss = 0.1359545820951462, perplexity = 1.1456298603052562, 0:00:08.884264 per 50 iters\n",
      "time = 0:01:41.273218, epoch 70, iter = 150, loss = 0.12189732797443867, perplexity = 1.1296381135927756, 0:00:08.962352 per 50 iters\n",
      "time = 0:01:41.426251, epoch 70, iter = 200, loss = 0.12597310572862624, perplexity = 1.1342516630007873, 0:00:09.181883 per 50 iters\n",
      "time = 0:01:41.576264, epoch 70, iter = 250, loss = 0.13603298731148242, perplexity = 1.1457196871836965, 0:00:09.000687 per 50 iters\n",
      "time = 0:01:41.725100, epoch 70, iter = 300, loss = 0.15269773900508882, perplexity = 1.1649727998828856, 0:00:08.930066 per 50 iters\n",
      "time = 0:01:41.874993, epoch 70, iter = 350, loss = 0.1739193192869425, perplexity = 1.1899595551618904, 0:00:08.993449 per 50 iters\n",
      "time = 0:01:42.026605, epoch 70, iter = 400, loss = 0.16204704031348227, perplexity = 1.1759155554563496, 0:00:09.096611 per 50 iters\n",
      "time = 0:01:42.180314, epoch 70, iter = 450, loss = 0.18106129497289658, perplexity = 1.1984886383704463, 0:00:09.222379 per 50 iters\n",
      "\n",
      "time = 0:01:42.433414, epoch 71, iter = 50, loss = 0.23861597821116448, perplexity = 1.2694909307860527, 0:00:15.185865 per 50 iters\n",
      "time = 0:01:42.583928, epoch 71, iter = 100, loss = 0.1314483041316271, perplexity = 1.1404789481488156, 0:00:09.030791 per 50 iters\n",
      "time = 0:01:42.733388, epoch 71, iter = 150, loss = 0.12374418564140796, perplexity = 1.1317263221221787, 0:00:08.967501 per 50 iters\n",
      "time = 0:01:42.882841, epoch 71, iter = 200, loss = 0.12690258383750916, perplexity = 1.1353064152001144, 0:00:08.967015 per 50 iters\n",
      "time = 0:01:43.036195, epoch 71, iter = 250, loss = 0.12062806680798531, perplexity = 1.1282052173551909, 0:00:09.201164 per 50 iters\n",
      "time = 0:01:43.186734, epoch 71, iter = 300, loss = 0.1603912702947855, perplexity = 1.1739701207757773, 0:00:09.032258 per 50 iters\n",
      "time = 0:01:43.336980, epoch 71, iter = 350, loss = 0.1524559036642313, perplexity = 1.1646911023523183, 0:00:09.014624 per 50 iters\n",
      "time = 0:01:43.488209, epoch 71, iter = 400, loss = 0.1813040942698717, perplexity = 1.1987796658984853, 0:00:09.073657 per 50 iters\n",
      "time = 0:01:43.635910, epoch 71, iter = 450, loss = 0.20304148241877557, perplexity = 1.2251232882707188, 0:00:08.861945 per 50 iters\n",
      "\n",
      "time = 0:01:43.890321, epoch 72, iter = 50, loss = 0.21977108798921108, perplexity = 1.2457915213025457, 0:00:15.264508 per 50 iters\n",
      "time = 0:01:44.043140, epoch 72, iter = 100, loss = 0.08970758192241192, perplexity = 1.0938543741405724, 0:00:09.169046 per 50 iters\n",
      "time = 0:01:44.192663, epoch 72, iter = 150, loss = 0.15075443655252457, perplexity = 1.1627111036753563, 0:00:08.971274 per 50 iters\n",
      "time = 0:01:44.342175, epoch 72, iter = 200, loss = 0.1542368023097515, perplexity = 1.1667671472229975, 0:00:08.970590 per 50 iters\n",
      "time = 0:01:44.490995, epoch 72, iter = 250, loss = 0.1452879833430052, perplexity = 1.1563725383504433, 0:00:08.929110 per 50 iters\n",
      "time = 0:01:44.642372, epoch 72, iter = 300, loss = 0.178798303976655, perplexity = 1.195779535866142, 0:00:09.082485 per 50 iters\n",
      "time = 0:01:44.794045, epoch 72, iter = 350, loss = 0.14663209572434424, perplexity = 1.157927878038185, 0:00:09.100278 per 50 iters\n",
      "time = 0:01:44.944101, epoch 72, iter = 400, loss = 0.18314729683101177, perplexity = 1.2009912972650627, 0:00:09.003242 per 50 iters\n",
      "time = 0:01:45.093747, epoch 72, iter = 450, loss = 0.16254712782800199, perplexity = 1.1765037632091808, 0:00:08.978680 per 50 iters\n",
      "\n",
      "time = 0:01:45.345194, epoch 73, iter = 50, loss = 0.27100997760891915, perplexity = 1.3112881538396963, 0:00:15.086705 per 50 iters\n",
      "time = 0:01:45.494647, epoch 73, iter = 100, loss = 0.12242918469011783, perplexity = 1.130239079009357, 0:00:08.967093 per 50 iters\n",
      "time = 0:01:45.645076, epoch 73, iter = 150, loss = 0.10887832447886467, perplexity = 1.1150266706359364, 0:00:09.025590 per 50 iters\n",
      "time = 0:01:45.794967, epoch 73, iter = 200, loss = 0.12454820044338703, perplexity = 1.1326366127314789, 0:00:08.993394 per 50 iters\n",
      "time = 0:01:45.947234, epoch 73, iter = 250, loss = 0.11353219650685788, perplexity = 1.1202279557388235, 0:00:09.135918 per 50 iters\n",
      "time = 0:01:46.100149, epoch 73, iter = 300, loss = 0.12261271722614765, perplexity = 1.1304465336906073, 0:00:09.174768 per 50 iters\n",
      "time = 0:01:46.252748, epoch 73, iter = 350, loss = 0.14693330973386765, perplexity = 1.1582767146716708, 0:00:09.155792 per 50 iters\n",
      "time = 0:01:46.401374, epoch 73, iter = 400, loss = 0.1860575757175684, perplexity = 1.2044916078498724, 0:00:08.917408 per 50 iters\n",
      "time = 0:01:46.547527, epoch 73, iter = 450, loss = 0.2125676602870226, perplexity = 1.2368497963464768, 0:00:08.769102 per 50 iters\n",
      "\n",
      "time = 0:01:46.803211, epoch 74, iter = 50, loss = 0.24179301209747792, perplexity = 1.2735305601133105, 0:00:15.340937 per 50 iters\n",
      "time = 0:01:46.953464, epoch 74, iter = 100, loss = 0.1053947700560093, perplexity = 1.111149172205413, 0:00:09.015001 per 50 iters\n",
      "time = 0:01:47.105502, epoch 74, iter = 150, loss = 0.10826977297663688, perplexity = 1.1143483259052838, 0:00:09.122157 per 50 iters\n",
      "time = 0:01:47.256958, epoch 74, iter = 200, loss = 0.1169267412275076, perplexity = 1.124037081097398, 0:00:09.087269 per 50 iters\n",
      "time = 0:01:47.406160, epoch 74, iter = 250, loss = 0.12963559679687023, perplexity = 1.1384134662170762, 0:00:08.952044 per 50 iters\n",
      "time = 0:01:47.555413, epoch 74, iter = 300, loss = 0.1543002824485302, perplexity = 1.1668412161143524, 0:00:08.955037 per 50 iters\n",
      "time = 0:01:47.706004, epoch 74, iter = 350, loss = 0.16661660641431808, perplexity = 1.1813012751455003, 0:00:09.035369 per 50 iters\n",
      "time = 0:01:47.858676, epoch 74, iter = 400, loss = 0.1488658697158098, perplexity = 1.1605173182515194, 0:00:09.160217 per 50 iters\n",
      "time = 0:01:48.005852, epoch 74, iter = 450, loss = 0.22463220819830895, perplexity = 1.251862206854748, 0:00:08.830447 per 50 iters\n",
      "\n",
      "time = 0:01:48.260267, epoch 75, iter = 50, loss = 0.25910518698394297, perplexity = 1.2957700958081657, 0:00:15.264779 per 50 iters\n",
      "time = 0:01:48.408699, epoch 75, iter = 100, loss = 0.12252454552799463, perplexity = 1.1303468646941175, 0:00:08.905818 per 50 iters\n",
      "time = 0:01:48.559261, epoch 75, iter = 150, loss = 0.11756251778453589, perplexity = 1.124751944745485, 0:00:09.033602 per 50 iters\n",
      "time = 0:01:48.707932, epoch 75, iter = 200, loss = 0.12499110572040081, perplexity = 1.133138374572478, 0:00:08.920101 per 50 iters\n",
      "time = 0:01:48.860684, epoch 75, iter = 250, loss = 0.11078952558338642, perplexity = 1.1171597485615814, 0:00:09.165075 per 50 iters\n",
      "time = 0:01:49.012770, epoch 75, iter = 300, loss = 0.1619474043697119, perplexity = 1.1757983978368394, 0:00:09.124990 per 50 iters\n",
      "time = 0:01:49.163163, epoch 75, iter = 350, loss = 0.14763943441212177, perplexity = 1.1590948912774979, 0:00:09.023516 per 50 iters\n",
      "time = 0:01:49.311353, epoch 75, iter = 400, loss = 0.1730597472935915, perplexity = 1.1889371387382668, 0:00:08.891224 per 50 iters\n",
      "time = 0:01:49.460258, epoch 75, iter = 450, loss = 0.17226431638002396, perplexity = 1.1879917974105278, 0:00:08.934208 per 50 iters\n",
      "\n",
      "time = 0:01:49.718432, epoch 76, iter = 50, loss = 0.21727510020136834, perplexity = 1.242685918265118, 0:00:15.490337 per 50 iters\n",
      "time = 0:01:49.866091, epoch 76, iter = 100, loss = 0.10333062492311001, perplexity = 1.1088579645557506, 0:00:08.859413 per 50 iters\n",
      "time = 0:01:50.016852, epoch 76, iter = 150, loss = 0.11796942040324211, perplexity = 1.1252097023822716, 0:00:09.045554 per 50 iters\n",
      "time = 0:01:50.167331, epoch 76, iter = 200, loss = 0.11052672766149044, perplexity = 1.1168661998749154, 0:00:09.028635 per 50 iters\n",
      "time = 0:01:50.316949, epoch 76, iter = 250, loss = 0.12313791416585446, perplexity = 1.1310403966844667, 0:00:08.976982 per 50 iters\n",
      "time = 0:01:50.465688, epoch 76, iter = 300, loss = 0.14928065039217472, perplexity = 1.1609987782529667, 0:00:08.924205 per 50 iters\n",
      "time = 0:01:50.615569, epoch 76, iter = 350, loss = 0.18796453937888147, perplexity = 1.2067907210423252, 0:00:08.992766 per 50 iters\n",
      "time = 0:01:50.766914, epoch 76, iter = 400, loss = 0.1819191949814558, perplexity = 1.1995172629489916, 0:00:09.080602 per 50 iters\n",
      "time = 0:01:50.918080, epoch 76, iter = 450, loss = 0.16400641098618507, perplexity = 1.178221868632632, 0:00:09.069831 per 50 iters\n",
      "\n",
      "time = 0:01:51.173551, epoch 77, iter = 50, loss = 0.2124296312779188, perplexity = 1.2366790869763706, 0:00:15.328110 per 50 iters\n",
      "time = 0:01:51.323076, epoch 77, iter = 100, loss = 0.12110833548009396, perplexity = 1.1287471891124066, 0:00:08.971420 per 50 iters\n",
      "time = 0:01:51.471437, epoch 77, iter = 150, loss = 0.12269976392388343, perplexity = 1.130544939611225, 0:00:08.901575 per 50 iters\n",
      "time = 0:01:51.619578, epoch 77, iter = 200, loss = 0.13426876582205297, perplexity = 1.1437001658559767, 0:00:08.888353 per 50 iters\n",
      "time = 0:01:51.769182, epoch 77, iter = 250, loss = 0.12594917498528957, perplexity = 1.1342245198401402, 0:00:08.976132 per 50 iters\n",
      "time = 0:01:51.922189, epoch 77, iter = 300, loss = 0.12033619999885559, perplexity = 1.12787597974746, 0:00:09.180282 per 50 iters\n",
      "time = 0:01:52.071607, epoch 77, iter = 350, loss = 0.18878424651920794, perplexity = 1.2077803415573323, 0:00:08.964980 per 50 iters\n",
      "time = 0:01:52.222608, epoch 77, iter = 400, loss = 0.15057373218238354, perplexity = 1.1625010156801918, 0:00:09.059966 per 50 iters\n",
      "time = 0:01:52.372285, epoch 77, iter = 450, loss = 0.16544508934020996, perplexity = 1.1799181708553343, 0:00:08.980560 per 50 iters\n",
      "\n",
      "time = 0:01:52.624612, epoch 78, iter = 50, loss = 0.219087855219841, perplexity = 1.24494064641729, 0:00:15.139470 per 50 iters\n",
      "time = 0:01:52.774407, epoch 78, iter = 100, loss = 0.1032944629341364, perplexity = 1.1088178667712754, 0:00:08.987622 per 50 iters\n",
      "time = 0:01:52.924540, epoch 78, iter = 150, loss = 0.1058181570470333, perplexity = 1.1116197179144487, 0:00:09.007819 per 50 iters\n",
      "time = 0:01:53.075871, epoch 78, iter = 200, loss = 0.10896005306392909, perplexity = 1.1151178039120826, 0:00:09.079809 per 50 iters\n",
      "time = 0:01:53.227923, epoch 78, iter = 250, loss = 0.1377897824347019, perplexity = 1.1477342510125386, 0:00:09.122971 per 50 iters\n",
      "time = 0:01:53.379867, epoch 78, iter = 300, loss = 0.15421244710683824, perplexity = 1.1667387307184205, 0:00:09.116500 per 50 iters\n",
      "time = 0:01:53.530568, epoch 78, iter = 350, loss = 0.13988111823797225, perplexity = 1.1501370604092196, 0:00:09.041962 per 50 iters\n",
      "time = 0:01:53.678801, epoch 78, iter = 400, loss = 0.1879910172522068, perplexity = 1.206822674717198, 0:00:08.893890 per 50 iters\n",
      "time = 0:01:53.828706, epoch 78, iter = 450, loss = 0.15803893081843853, perplexity = 1.1712117900536834, 0:00:08.994210 per 50 iters\n",
      "\n",
      "time = 0:01:54.084921, epoch 79, iter = 50, loss = 0.1960494789853692, perplexity = 1.2165870993404233, 0:00:15.372794 per 50 iters\n",
      "time = 0:01:54.237982, epoch 79, iter = 100, loss = 0.08735908437520265, perplexity = 1.0912884740103195, 0:00:09.183508 per 50 iters\n",
      "time = 0:01:54.388113, epoch 79, iter = 150, loss = 0.10426001399755477, perplexity = 1.1098890040773386, 0:00:09.007742 per 50 iters\n",
      "time = 0:01:54.536631, epoch 79, iter = 200, loss = 0.14834133796393872, perplexity = 1.15990874969022, 0:00:08.910963 per 50 iters\n",
      "time = 0:01:54.685728, epoch 79, iter = 250, loss = 0.13003454230725764, perplexity = 1.1388677217639687, 0:00:08.945707 per 50 iters\n",
      "time = 0:01:54.838001, epoch 79, iter = 300, loss = 0.12682059943675994, perplexity = 1.1352133415993413, 0:00:09.136265 per 50 iters\n",
      "time = 0:01:54.984417, epoch 79, iter = 350, loss = 0.18255662448704243, perplexity = 1.2002821143883955, 0:00:08.784832 per 50 iters\n",
      "time = 0:01:55.134921, epoch 79, iter = 400, loss = 0.16591317415237428, perplexity = 1.1804706019129156, 0:00:09.030118 per 50 iters\n",
      "time = 0:01:55.286435, epoch 79, iter = 450, loss = 0.15693692572414875, perplexity = 1.169921819602103, 0:00:09.090767 per 50 iters\n",
      "\n",
      "time = 0:01:55.540965, epoch 80, iter = 50, loss = 0.2595550712198019, perplexity = 1.296353173496463, 0:00:15.271671 per 50 iters\n",
      "time = 0:01:55.689547, epoch 80, iter = 100, loss = 0.10280756805092096, perplexity = 1.108278120436054, 0:00:08.914785 per 50 iters\n",
      "time = 0:01:55.838339, epoch 80, iter = 150, loss = 0.10976971536874772, perplexity = 1.1160210383714464, 0:00:08.927419 per 50 iters\n",
      "time = 0:01:55.991880, epoch 80, iter = 200, loss = 0.09961757346987725, perplexity = 1.104748352201606, 0:00:09.212378 per 50 iters\n",
      "time = 0:01:56.141052, epoch 80, iter = 250, loss = 0.12968324318528177, perplexity = 1.1384677087994817, 0:00:08.950181 per 50 iters\n",
      "time = 0:01:56.289832, epoch 80, iter = 300, loss = 0.15486259669065475, perplexity = 1.1674975320590792, 0:00:08.926690 per 50 iters\n",
      "time = 0:01:56.443701, epoch 80, iter = 350, loss = 0.123380715996027, perplexity = 1.131315048704438, 0:00:09.232027 per 50 iters\n",
      "time = 0:01:56.593057, epoch 80, iter = 400, loss = 0.1663453033566475, perplexity = 1.180980827968638, 0:00:08.961238 per 50 iters\n",
      "time = 0:01:56.741609, epoch 80, iter = 450, loss = 0.2017581305652857, perplexity = 1.2235520324806322, 0:00:08.913056 per 50 iters\n",
      "\n",
      "time = 0:01:56.995356, epoch 81, iter = 50, loss = 0.196444508433342, perplexity = 1.21706778200634, 0:00:15.224693 per 50 iters\n",
      "time = 0:01:57.146148, epoch 81, iter = 100, loss = 0.1015327376872301, perplexity = 1.1068661540367533, 0:00:09.047430 per 50 iters\n",
      "time = 0:01:57.297179, epoch 81, iter = 150, loss = 0.11099540404975414, perplexity = 1.1173897713748626, 0:00:09.061714 per 50 iters\n",
      "time = 0:01:57.444041, epoch 81, iter = 200, loss = 0.13207935079932212, perplexity = 1.1411988707170995, 0:00:08.811579 per 50 iters\n",
      "time = 0:01:57.595221, epoch 81, iter = 250, loss = 0.1198965372890234, perplexity = 1.127380203732949, 0:00:09.070746 per 50 iters\n",
      "time = 0:01:57.744296, epoch 81, iter = 300, loss = 0.14710609845817088, perplexity = 1.1584768691193068, 0:00:08.944408 per 50 iters\n",
      "time = 0:01:57.893415, epoch 81, iter = 350, loss = 0.1646923302859068, perplexity = 1.1790303109830902, 0:00:08.947024 per 50 iters\n",
      "time = 0:01:58.044592, epoch 81, iter = 400, loss = 0.16178454026579858, perplexity = 1.175606918077406, 0:00:09.070461 per 50 iters\n",
      "time = 0:01:58.195142, epoch 81, iter = 450, loss = 0.15857348255813122, perplexity = 1.1718380307177112, 0:00:09.032915 per 50 iters\n",
      "\n",
      "time = 0:01:58.453206, epoch 82, iter = 50, loss = 0.18040705986320973, perplexity = 1.1977048014594358, 0:00:15.483738 per 50 iters\n",
      "time = 0:01:58.601514, epoch 82, iter = 100, loss = 0.09335964009165763, perplexity = 1.0978564974890503, 0:00:08.898386 per 50 iters\n",
      "time = 0:01:58.746782, epoch 82, iter = 150, loss = 0.11322100333869457, perplexity = 1.119879402688689, 0:00:08.715930 per 50 iters\n",
      "time = 0:01:58.900675, epoch 82, iter = 200, loss = 0.11174633584916592, perplexity = 1.1182291700126454, 0:00:09.233481 per 50 iters\n",
      "time = 0:01:59.051846, epoch 82, iter = 250, loss = 0.13236194759607314, perplexity = 1.1415214154353255, 0:00:09.070123 per 50 iters\n",
      "time = 0:01:59.200782, epoch 82, iter = 300, loss = 0.14986638695001603, perplexity = 1.1616790168818667, 0:00:08.936084 per 50 iters\n",
      "time = 0:01:59.350220, epoch 82, iter = 350, loss = 0.131809846162796, perplexity = 1.1408913537707257, 0:00:08.966163 per 50 iters\n",
      "time = 0:01:59.499834, epoch 82, iter = 400, loss = 0.15220112800598146, perplexity = 1.1643944052072688, 0:00:08.976751 per 50 iters\n",
      "time = 0:01:59.653072, epoch 82, iter = 450, loss = 0.15866363905370234, perplexity = 1.171943684290544, 0:00:09.194135 per 50 iters\n",
      "\n",
      "time = 0:01:59.902675, epoch 83, iter = 50, loss = 0.24259907700121403, perplexity = 1.2745575222451142, 0:00:14.976099 per 50 iters\n",
      "time = 0:02:00.051216, epoch 83, iter = 100, loss = 0.08911725863814354, perplexity = 1.0932088369904702, 0:00:08.912311 per 50 iters\n",
      "time = 0:02:00.199852, epoch 83, iter = 150, loss = 0.11361715957522392, perplexity = 1.1203231377866345, 0:00:08.918053 per 50 iters\n",
      "time = 0:02:00.347126, epoch 83, iter = 200, loss = 0.11503594666719437, perplexity = 1.1219137659078633, 0:00:08.836352 per 50 iters\n",
      "time = 0:02:00.496986, epoch 83, iter = 250, loss = 0.13098624862730504, perplexity = 1.1399521052979529, 0:00:08.991470 per 50 iters\n",
      "time = 0:02:00.650351, epoch 83, iter = 300, loss = 0.11553610369563103, perplexity = 1.122475039313901, 0:00:09.201792 per 50 iters\n",
      "time = 0:02:00.802641, epoch 83, iter = 350, loss = 0.1258303939551115, perplexity = 1.1340898034842524, 0:00:09.137305 per 50 iters\n",
      "time = 0:02:00.953474, epoch 83, iter = 400, loss = 0.15861745059490204, perplexity = 1.1718895552680435, 0:00:09.049871 per 50 iters\n",
      "time = 0:02:01.102844, epoch 83, iter = 450, loss = 0.20430990613996983, perplexity = 1.2266782496774347, 0:00:08.962025 per 50 iters\n",
      "\n",
      "time = 0:02:01.359939, epoch 84, iter = 50, loss = 0.19493265889585018, perplexity = 1.2152291488615643, 0:00:15.425627 per 50 iters\n",
      "time = 0:02:01.505299, epoch 84, iter = 100, loss = 0.10555528730154037, perplexity = 1.1113275451254914, 0:00:08.721445 per 50 iters\n",
      "time = 0:02:01.657577, epoch 84, iter = 150, loss = 0.09507610358297824, perplexity = 1.09974254628959, 0:00:09.136630 per 50 iters\n",
      "time = 0:02:01.809795, epoch 84, iter = 200, loss = 0.1011989139020443, perplexity = 1.1064967174543088, 0:00:09.132960 per 50 iters\n",
      "time = 0:02:01.957246, epoch 84, iter = 250, loss = 0.12028336308896542, perplexity = 1.127816387840291, 0:00:08.846935 per 50 iters\n",
      "time = 0:02:02.109394, epoch 84, iter = 300, loss = 0.12540814265608788, perplexity = 1.1336110336792213, 0:00:09.128773 per 50 iters\n",
      "time = 0:02:02.262819, epoch 84, iter = 350, loss = 0.14197487466037273, perplexity = 1.1525476900210618, 0:00:09.205443 per 50 iters\n",
      "time = 0:02:02.413002, epoch 84, iter = 400, loss = 0.1778179484605789, perplexity = 1.1946078212444355, 0:00:09.010875 per 50 iters\n",
      "time = 0:02:02.561800, epoch 84, iter = 450, loss = 0.19758667230606078, perplexity = 1.2184586670156967, 0:00:08.927715 per 50 iters\n",
      "\n",
      "time = 0:02:02.817908, epoch 85, iter = 50, loss = 0.21669407721608877, perplexity = 1.24196409890025, 0:00:15.366403 per 50 iters\n",
      "time = 0:02:02.966407, epoch 85, iter = 100, loss = 0.10141831617802381, perplexity = 1.1067395119863446, 0:00:08.909850 per 50 iters\n",
      "time = 0:02:03.119546, epoch 85, iter = 150, loss = 0.09539171643555164, perplexity = 1.100089693950971, 0:00:09.188203 per 50 iters\n",
      "time = 0:02:03.274331, epoch 85, iter = 200, loss = 0.12497674249112606, perplexity = 1.133122099163088, 0:00:09.286947 per 50 iters\n",
      "time = 0:02:03.424327, epoch 85, iter = 250, loss = 0.11917140543460845, perplexity = 1.1265630007609468, 0:00:08.999578 per 50 iters\n",
      "time = 0:02:03.575524, epoch 85, iter = 300, loss = 0.14823376663029195, perplexity = 1.159783983469862, 0:00:09.071713 per 50 iters\n",
      "time = 0:02:03.722851, epoch 85, iter = 350, loss = 0.15829228162765502, perplexity = 1.1715085550997022, 0:00:08.839566 per 50 iters\n",
      "time = 0:02:03.873542, epoch 85, iter = 400, loss = 0.14352366402745248, perplexity = 1.1543341266783678, 0:00:09.041326 per 50 iters\n",
      "time = 0:02:04.022881, epoch 85, iter = 450, loss = 0.20268493250012398, perplexity = 1.2246865485263347, 0:00:08.960209 per 50 iters\n",
      "\n",
      "time = 0:02:04.274461, epoch 86, iter = 50, loss = 0.2697636893391609, perplexity = 1.3096549287413324, 0:00:15.094697 per 50 iters\n",
      "time = 0:02:04.425719, epoch 86, iter = 100, loss = 0.09311320964246989, perplexity = 1.0975859855517884, 0:00:09.075381 per 50 iters\n",
      "time = 0:02:04.571598, epoch 86, iter = 150, loss = 0.13141814552247524, perplexity = 1.1404445534086238, 0:00:08.752604 per 50 iters\n",
      "time = 0:02:04.723151, epoch 86, iter = 200, loss = 0.1186372534930706, perplexity = 1.1259614056327325, 0:00:09.093079 per 50 iters\n",
      "time = 0:02:04.873351, epoch 86, iter = 250, loss = 0.1044063126295805, perplexity = 1.1100513911985528, 0:00:09.011884 per 50 iters\n",
      "time = 0:02:05.022217, epoch 86, iter = 300, loss = 0.12412457659840584, perplexity = 1.1321569024701537, 0:00:08.931848 per 50 iters\n",
      "time = 0:02:05.173730, epoch 86, iter = 350, loss = 0.15646265879273413, perplexity = 1.1693670959246714, 0:00:09.090706 per 50 iters\n",
      "time = 0:02:05.323570, epoch 86, iter = 400, loss = 0.17734420634806156, perplexity = 1.1940420192442687, 0:00:08.990280 per 50 iters\n",
      "time = 0:02:05.476825, epoch 86, iter = 450, loss = 0.17956761308014393, perplexity = 1.1966998138925937, 0:00:09.195170 per 50 iters\n",
      "\n",
      "time = 0:02:05.732887, epoch 87, iter = 50, loss = 0.2315968631953001, perplexity = 1.2606114275148732, 0:00:15.363619 per 50 iters\n",
      "time = 0:02:05.881890, epoch 87, iter = 100, loss = 0.09277014393359423, perplexity = 1.0972095060199043, 0:00:08.940037 per 50 iters\n",
      "time = 0:02:06.030863, epoch 87, iter = 150, loss = 0.1273816606402397, perplexity = 1.135850444473125, 0:00:08.938279 per 50 iters\n",
      "time = 0:02:06.178933, epoch 87, iter = 200, loss = 0.12129488032311202, perplexity = 1.1289577707204526, 0:00:08.884061 per 50 iters\n",
      "time = 0:02:06.331108, epoch 87, iter = 250, loss = 0.11327530764043331, perplexity = 1.1199402186089515, 0:00:09.130381 per 50 iters\n",
      "time = 0:02:06.486310, epoch 87, iter = 300, loss = 0.1219637817889452, perplexity = 1.1297131848487938, 0:00:09.312020 per 50 iters\n",
      "time = 0:02:06.635407, epoch 87, iter = 350, loss = 0.14645244240760802, perplexity = 1.157719871139478, 0:00:08.945705 per 50 iters\n",
      "time = 0:02:06.784980, epoch 87, iter = 400, loss = 0.1676322340965271, perplexity = 1.1825016468837681, 0:00:08.974276 per 50 iters\n",
      "time = 0:02:06.935061, epoch 87, iter = 450, loss = 0.15309960037469864, perplexity = 1.1654410515276268, 0:00:09.004761 per 50 iters\n",
      "\n",
      "time = 0:02:07.190379, epoch 88, iter = 50, loss = 0.2489114209264517, perplexity = 1.2826284140011308, 0:00:15.318944 per 50 iters\n",
      "time = 0:02:07.340926, epoch 88, iter = 100, loss = 0.09199032664299012, perplexity = 1.0963542166037752, 0:00:09.032769 per 50 iters\n",
      "time = 0:02:07.492223, epoch 88, iter = 150, loss = 0.11206555850803852, perplexity = 1.1185861910831019, 0:00:09.077674 per 50 iters\n",
      "time = 0:02:07.640929, epoch 88, iter = 200, loss = 0.12803361639380456, perplexity = 1.1365912101525735, 0:00:08.922257 per 50 iters\n",
      "time = 0:02:07.790004, epoch 88, iter = 250, loss = 0.12184142142534256, perplexity = 1.12957496118945, 0:00:08.944378 per 50 iters\n",
      "time = 0:02:07.938217, epoch 88, iter = 300, loss = 0.15061438962817192, perplexity = 1.1625482809630523, 0:00:08.892689 per 50 iters\n",
      "time = 0:02:08.085504, epoch 88, iter = 350, loss = 0.14647433921694755, perplexity = 1.1577452217883133, 0:00:08.837140 per 50 iters\n",
      "time = 0:02:08.238613, epoch 88, iter = 400, loss = 0.1331433579325676, perplexity = 1.1424137606671647, 0:00:09.186405 per 50 iters\n",
      "time = 0:02:08.388500, epoch 88, iter = 450, loss = 0.21473945245146753, perplexity = 1.2395388960686617, 0:00:08.993128 per 50 iters\n",
      "\n",
      "time = 0:02:08.644917, epoch 89, iter = 50, loss = 0.21653904162347318, perplexity = 1.2417715651853447, 0:00:15.384928 per 50 iters\n",
      "time = 0:02:08.796017, epoch 89, iter = 100, loss = 0.09478278875350953, perplexity = 1.09942002279494, 0:00:09.065869 per 50 iters\n",
      "time = 0:02:08.946195, epoch 89, iter = 150, loss = 0.11430875942111016, perplexity = 1.1210982210889227, 0:00:09.010572 per 50 iters\n",
      "time = 0:02:09.098160, epoch 89, iter = 200, loss = 0.1246578922867775, perplexity = 1.1327608605437822, 0:00:09.117853 per 50 iters\n",
      "time = 0:02:09.249354, epoch 89, iter = 250, loss = 0.10321413978934288, perplexity = 1.108728806610057, 0:00:09.071491 per 50 iters\n",
      "time = 0:02:09.396885, epoch 89, iter = 300, loss = 0.13663698121905327, perplexity = 1.1464119039208416, 0:00:08.851801 per 50 iters\n",
      "time = 0:02:09.548375, epoch 89, iter = 350, loss = 0.1348270408064127, perplexity = 1.144338843310417, 0:00:09.089250 per 50 iters\n",
      "time = 0:02:09.697562, epoch 89, iter = 400, loss = 0.18707536533474922, perplexity = 1.205718150977873, 0:00:08.951110 per 50 iters\n",
      "time = 0:02:09.845127, epoch 89, iter = 450, loss = 0.1989459878206253, perplexity = 1.2201160629924563, 0:00:08.853822 per 50 iters\n",
      "\n",
      "time = 0:02:10.097052, epoch 90, iter = 50, loss = 0.23239934995770453, perplexity = 1.2616234575140175, 0:00:15.115361 per 50 iters\n",
      "time = 0:02:10.243238, epoch 90, iter = 100, loss = 0.11334269121289253, perplexity = 1.1200156867244493, 0:00:08.771122 per 50 iters\n",
      "time = 0:02:10.391812, epoch 90, iter = 150, loss = 0.11174481600522995, perplexity = 1.118227470480114, 0:00:08.914294 per 50 iters\n",
      "time = 0:02:10.545096, epoch 90, iter = 200, loss = 0.11543170854449272, perplexity = 1.1223578644788714, 0:00:09.196936 per 50 iters\n",
      "time = 0:02:10.692083, epoch 90, iter = 250, loss = 0.13877554483711718, perplexity = 1.1488662021109057, 0:00:08.819157 per 50 iters\n",
      "time = 0:02:10.842863, epoch 90, iter = 300, loss = 0.11243955723941326, perplexity = 1.1190046191404042, 0:00:09.046682 per 50 iters\n",
      "time = 0:02:10.991208, epoch 90, iter = 350, loss = 0.12874172776937484, perplexity = 1.1373963283408877, 0:00:08.900556 per 50 iters\n",
      "time = 0:02:11.142520, epoch 90, iter = 400, loss = 0.17703649573028088, perplexity = 1.1936746563604996, 0:00:09.078631 per 50 iters\n",
      "time = 0:02:11.296402, epoch 90, iter = 450, loss = 0.1544026316702366, perplexity = 1.166960647516428, 0:00:09.232767 per 50 iters\n",
      "\n",
      "time = 0:02:11.553268, epoch 91, iter = 50, loss = 0.195675800293684, perplexity = 1.2161325715937767, 0:00:15.411831 per 50 iters\n",
      "time = 0:02:11.704706, epoch 91, iter = 100, loss = 0.09574140165001153, perplexity = 1.100474446318712, 0:00:09.086162 per 50 iters\n",
      "time = 0:02:11.853152, epoch 91, iter = 150, loss = 0.09748354993760586, perplexity = 1.1023933069754863, 0:00:08.906675 per 50 iters\n",
      "time = 0:02:12.004611, epoch 91, iter = 200, loss = 0.10920488484203815, perplexity = 1.1153908536110733, 0:00:09.087406 per 50 iters\n",
      "time = 0:02:12.154781, epoch 91, iter = 250, loss = 0.12078501261770726, perplexity = 1.1283822983322565, 0:00:09.010133 per 50 iters\n",
      "time = 0:02:12.307088, epoch 91, iter = 300, loss = 0.12160613998770714, perplexity = 1.1293092244313536, 0:00:09.138298 per 50 iters\n",
      "time = 0:02:12.453075, epoch 91, iter = 350, loss = 0.1945537317544222, perplexity = 1.214768752787799, 0:00:08.759091 per 50 iters\n",
      "time = 0:02:12.603322, epoch 91, iter = 400, loss = 0.15303437553346158, perplexity = 1.1653650382990721, 0:00:09.014733 per 50 iters\n",
      "time = 0:02:12.752700, epoch 91, iter = 450, loss = 0.18552548080682754, perplexity = 1.2038508744759064, 0:00:08.962553 per 50 iters\n",
      "\n",
      "time = 0:02:13.006967, epoch 92, iter = 50, loss = 0.2547341275960207, perplexity = 1.2901185683456262, 0:00:15.255911 per 50 iters\n",
      "time = 0:02:13.154634, epoch 92, iter = 100, loss = 0.08209096189588308, perplexity = 1.0855545494386114, 0:00:08.859894 per 50 iters\n",
      "time = 0:02:13.305128, epoch 92, iter = 150, loss = 0.11860021993517876, perplexity = 1.1259197080479426, 0:00:09.029535 per 50 iters\n",
      "time = 0:02:13.457743, epoch 92, iter = 200, loss = 0.10322902575135232, perplexity = 1.108745311227794, 0:00:09.156773 per 50 iters\n",
      "time = 0:02:13.608544, epoch 92, iter = 250, loss = 0.1115538727492094, perplexity = 1.118013972869542, 0:00:09.047958 per 50 iters\n",
      "time = 0:02:13.757097, epoch 92, iter = 300, loss = 0.14925929091870785, perplexity = 1.1609739801952053, 0:00:08.913058 per 50 iters\n",
      "time = 0:02:13.906812, epoch 92, iter = 350, loss = 0.12531271636486052, perplexity = 1.1335028625438501, 0:00:08.982805 per 50 iters\n",
      "time = 0:02:14.058907, epoch 92, iter = 400, loss = 0.18064778752624988, perplexity = 1.1979931568434694, 0:00:09.125641 per 50 iters\n",
      "time = 0:02:14.207567, epoch 92, iter = 450, loss = 0.2001694940775633, perplexity = 1.221609796239366, 0:00:08.919458 per 50 iters\n",
      "\n",
      "time = 0:02:14.460480, epoch 93, iter = 50, loss = 0.2087337276339531, perplexity = 1.2321168761713706, 0:00:15.174700 per 50 iters\n",
      "time = 0:02:14.607485, epoch 93, iter = 100, loss = 0.1118487061560154, perplexity = 1.1183436493354495, 0:00:08.820138 per 50 iters\n",
      "time = 0:02:14.759050, epoch 93, iter = 150, loss = 0.10525510303676128, perplexity = 1.1109939921496113, 0:00:09.093829 per 50 iters\n",
      "time = 0:02:14.907611, epoch 93, iter = 200, loss = 0.1308234904706478, perplexity = 1.1397665838925874, 0:00:08.913562 per 50 iters\n",
      "time = 0:02:15.058355, epoch 93, iter = 250, loss = 0.11518124982714653, perplexity = 1.1220767953673045, 0:00:09.044526 per 50 iters\n",
      "time = 0:02:15.208706, epoch 93, iter = 300, loss = 0.13207551330327988, perplexity = 1.1411944913793526, 0:00:09.020912 per 50 iters\n",
      "time = 0:02:15.359010, epoch 93, iter = 350, loss = 0.1432800840586424, perplexity = 1.1540529882490298, 0:00:09.018139 per 50 iters\n",
      "time = 0:02:15.508971, epoch 93, iter = 400, loss = 0.16914031714200972, perplexity = 1.1842863029352162, 0:00:08.997523 per 50 iters\n",
      "time = 0:02:15.660432, epoch 93, iter = 450, loss = 0.1812826819717884, perplexity = 1.198753997545753, 0:00:09.087589 per 50 iters\n",
      "\n",
      "time = 0:02:15.915793, epoch 94, iter = 50, loss = 0.2028848123550415, perplexity = 1.2249313631619154, 0:00:15.321544 per 50 iters\n",
      "time = 0:02:16.063200, epoch 94, iter = 100, loss = 0.10759003691375256, perplexity = 1.1135911205406028, 0:00:08.844293 per 50 iters\n",
      "time = 0:02:16.215409, epoch 94, iter = 150, loss = 0.09684797219932079, perplexity = 1.1016928729444557, 0:00:09.132431 per 50 iters\n",
      "time = 0:02:16.366527, epoch 94, iter = 200, loss = 0.10480121538043022, perplexity = 1.1104898401131649, 0:00:09.067003 per 50 iters\n",
      "time = 0:02:16.518840, epoch 94, iter = 250, loss = 0.12041995026171208, perplexity = 1.127970443612865, 0:00:09.138650 per 50 iters\n",
      "time = 0:02:16.669561, epoch 94, iter = 300, loss = 0.1150602850317955, perplexity = 1.1219410717864378, 0:00:09.043131 per 50 iters\n",
      "time = 0:02:16.819471, epoch 94, iter = 350, loss = 0.14786414943635465, perplexity = 1.1593553865815875, 0:00:08.994531 per 50 iters\n",
      "time = 0:02:16.968720, epoch 94, iter = 400, loss = 0.1789059065282345, perplexity = 1.1959082117181288, 0:00:08.954827 per 50 iters\n",
      "time = 0:02:17.117974, epoch 94, iter = 450, loss = 0.1865376729518175, perplexity = 1.20507001977535, 0:00:08.955136 per 50 iters\n",
      "\n",
      "time = 0:02:17.374520, epoch 95, iter = 50, loss = 0.23334583096206188, perplexity = 1.2628181254272648, 0:00:15.392593 per 50 iters\n",
      "time = 0:02:17.524166, epoch 95, iter = 100, loss = 0.09551401153206825, perplexity = 1.1002242377531257, 0:00:08.978652 per 50 iters\n",
      "time = 0:02:17.672954, epoch 95, iter = 150, loss = 0.09924323387444019, perplexity = 1.104334878544992, 0:00:08.927159 per 50 iters\n",
      "time = 0:02:17.823414, epoch 95, iter = 200, loss = 0.10654996253550053, perplexity = 1.1124335050557372, 0:00:09.027525 per 50 iters\n",
      "time = 0:02:17.972797, epoch 95, iter = 250, loss = 0.1222834987193346, perplexity = 1.1300744310256563, 0:00:08.962867 per 50 iters\n",
      "time = 0:02:18.125391, epoch 95, iter = 300, loss = 0.10356792330741882, perplexity = 1.1091211259818234, 0:00:09.155484 per 50 iters\n",
      "time = 0:02:18.273611, epoch 95, iter = 350, loss = 0.15330253764986992, perplexity = 1.1656775869591127, 0:00:08.893066 per 50 iters\n",
      "time = 0:02:18.426401, epoch 95, iter = 400, loss = 0.15480163611471653, perplexity = 1.1674263629063968, 0:00:09.167336 per 50 iters\n",
      "time = 0:02:18.574592, epoch 95, iter = 450, loss = 0.2061636297404766, perplexity = 1.2289542810138332, 0:00:08.891301 per 50 iters\n",
      "\n",
      "time = 0:02:18.830110, epoch 96, iter = 50, loss = 0.22065797105431556, perplexity = 1.2468968827961815, 0:00:15.330990 per 50 iters\n",
      "time = 0:02:18.979406, epoch 96, iter = 100, loss = 0.09713836837559939, perplexity = 1.1020128467995356, 0:00:08.957632 per 50 iters\n",
      "time = 0:02:19.126993, epoch 96, iter = 150, loss = 0.0986208177357912, perplexity = 1.1036477365604263, 0:00:08.855107 per 50 iters\n",
      "time = 0:02:19.276455, epoch 96, iter = 200, loss = 0.1109320878982544, perplexity = 1.1173190247945382, 0:00:08.967623 per 50 iters\n",
      "time = 0:02:19.427285, epoch 96, iter = 250, loss = 0.11769201427698135, perplexity = 1.1248976056082827, 0:00:09.049676 per 50 iters\n",
      "time = 0:02:19.578118, epoch 96, iter = 300, loss = 0.14448532156646252, perplexity = 1.1554447347205332, 0:00:09.049827 per 50 iters\n",
      "time = 0:02:19.729200, epoch 96, iter = 350, loss = 0.14903450280427932, perplexity = 1.1607130363729303, 0:00:09.064805 per 50 iters\n",
      "time = 0:02:19.876039, epoch 96, iter = 400, loss = 0.19633180841803552, perplexity = 1.2169306261775559, 0:00:08.810225 per 50 iters\n",
      "time = 0:02:20.026757, epoch 96, iter = 450, loss = 0.1714292648434639, perplexity = 1.1870001771193255, 0:00:09.042981 per 50 iters\n",
      "\n",
      "time = 0:02:20.287266, epoch 97, iter = 50, loss = 0.20727629065513611, perplexity = 1.2303224514219382, 0:00:15.630436 per 50 iters\n",
      "time = 0:02:20.438904, epoch 97, iter = 100, loss = 0.09396713465452194, perplexity = 1.0985236419648836, 0:00:09.098169 per 50 iters\n",
      "time = 0:02:20.589861, epoch 97, iter = 150, loss = 0.10154310561716556, perplexity = 1.1068776300069774, 0:00:09.057312 per 50 iters\n",
      "time = 0:02:20.740212, epoch 97, iter = 200, loss = 0.11680436678230763, perplexity = 1.1238995360993826, 0:00:09.020967 per 50 iters\n",
      "time = 0:02:20.889430, epoch 97, iter = 250, loss = 0.1078537642210722, perplexity = 1.1138848436579791, 0:00:08.952948 per 50 iters\n",
      "time = 0:02:21.036472, epoch 97, iter = 300, loss = 0.13025140665471555, perplexity = 1.139114728351783, 0:00:08.822425 per 50 iters\n",
      "time = 0:02:21.187466, epoch 97, iter = 350, loss = 0.1610370083898306, perplexity = 1.1747284428175722, 0:00:09.059478 per 50 iters\n",
      "time = 0:02:21.337029, epoch 97, iter = 400, loss = 0.152871468141675, perplexity = 1.1651752071830692, 0:00:08.973651 per 50 iters\n",
      "time = 0:02:21.485624, epoch 97, iter = 450, loss = 0.17979607373476028, perplexity = 1.1969732439482703, 0:00:08.915624 per 50 iters\n",
      "\n",
      "time = 0:02:21.743137, epoch 98, iter = 50, loss = 0.20091726690530776, perplexity = 1.222523624476481, 0:00:15.450625 per 50 iters\n",
      "time = 0:02:21.893754, epoch 98, iter = 100, loss = 0.09513598918914795, perplexity = 1.0998084070106402, 0:00:09.036931 per 50 iters\n",
      "time = 0:02:22.041282, epoch 98, iter = 150, loss = 0.11468964859843254, perplexity = 1.1215253166009165, 0:00:08.851576 per 50 iters\n",
      "time = 0:02:22.193688, epoch 98, iter = 200, loss = 0.09066301889717579, perplexity = 1.0948999824815275, 0:00:09.144248 per 50 iters\n",
      "time = 0:02:22.340675, epoch 98, iter = 250, loss = 0.11566952526569367, perplexity = 1.1226248116872126, 0:00:08.819074 per 50 iters\n",
      "time = 0:02:22.491752, epoch 98, iter = 300, loss = 0.12943280570209026, perplexity = 1.138182629510555, 0:00:09.064462 per 50 iters\n",
      "time = 0:02:22.642830, epoch 98, iter = 350, loss = 0.15732878107577564, perplexity = 1.170380349560941, 0:00:09.064582 per 50 iters\n",
      "time = 0:02:22.795380, epoch 98, iter = 400, loss = 0.15792154513299464, perplexity = 1.1710743146238896, 0:00:09.152887 per 50 iters\n",
      "time = 0:02:22.947005, epoch 98, iter = 450, loss = 0.14603720769286155, perplexity = 1.15723924545217, 0:00:09.097421 per 50 iters\n",
      "\n",
      "time = 0:02:23.196006, epoch 99, iter = 50, loss = 0.23458829522132874, perplexity = 1.2643881069350507, 0:00:14.939925 per 50 iters\n",
      "time = 0:02:23.346133, epoch 99, iter = 100, loss = 0.0956242411211133, perplexity = 1.1003455217031277, 0:00:09.007488 per 50 iters\n",
      "time = 0:02:23.498755, epoch 99, iter = 150, loss = 0.08843475099653006, perplexity = 1.0924629681648845, 0:00:09.157219 per 50 iters\n",
      "time = 0:02:23.651235, epoch 99, iter = 200, loss = 0.09323762126266956, perplexity = 1.0977225464972675, 0:00:09.148712 per 50 iters\n",
      "time = 0:02:23.799451, epoch 99, iter = 250, loss = 0.12312581039965152, perplexity = 1.1310267069187883, 0:00:08.892811 per 50 iters\n",
      "time = 0:02:23.951159, epoch 99, iter = 300, loss = 0.13223788745701312, perplexity = 1.1413798069139547, 0:00:09.102393 per 50 iters\n",
      "time = 0:02:24.104125, epoch 99, iter = 350, loss = 0.12059331849217415, perplexity = 1.1281660148051136, 0:00:09.177766 per 50 iters\n",
      "time = 0:02:24.256490, epoch 99, iter = 400, loss = 0.13591633155941962, perplexity = 1.145586040187432, 0:00:09.141848 per 50 iters\n",
      "time = 0:02:24.404854, epoch 99, iter = 450, loss = 0.21402362711727618, perplexity = 1.2386519202219055, 0:00:08.901713 per 50 iters\n",
      "\n",
      "time = 0:02:24.653278, epoch 100, iter = 50, loss = 0.2884047032520175, perplexity = 1.334297189281036, 0:00:14.905320 per 50 iters\n",
      "time = 0:02:24.803343, epoch 100, iter = 100, loss = 0.08644237361848355, perplexity = 1.090288536524261, 0:00:09.003771 per 50 iters\n",
      "time = 0:02:24.955106, epoch 100, iter = 150, loss = 0.11998994927853346, perplexity = 1.127485519479514, 0:00:09.105666 per 50 iters\n",
      "time = 0:02:25.103598, epoch 100, iter = 200, loss = 0.10289943307638168, perplexity = 1.1083799371104295, 0:00:08.909433 per 50 iters\n",
      "time = 0:02:25.253688, epoch 100, iter = 250, loss = 0.14419809214770793, perplexity = 1.1551129046589357, 0:00:09.005233 per 50 iters\n",
      "time = 0:02:25.404448, epoch 100, iter = 300, loss = 0.12536610789597036, perplexity = 1.1335633836128407, 0:00:09.045529 per 50 iters\n",
      "time = 0:02:25.554474, epoch 100, iter = 350, loss = 0.12547144159674645, perplexity = 1.1336827923278714, 0:00:09.001422 per 50 iters\n",
      "time = 0:02:25.706263, epoch 100, iter = 400, loss = 0.1541640205681324, perplexity = 1.1666822309681726, 0:00:09.107289 per 50 iters\n",
      "time = 0:02:25.857432, epoch 100, iter = 450, loss = 0.20861324414610863, perplexity = 1.2319684353752094, 0:00:09.069996 per 50 iters\n",
      "\n"
     ]
    }
   ],
   "source": [
    "model.to(device)\n",
    "train_model(model, EPOCHS)"
   ]
  },
  {
   "cell_type": "code",
   "execution_count": 47,
   "id": "79205470",
   "metadata": {
    "execution": {
     "iopub.execute_input": "2024-06-28T23:40:53.553564Z",
     "iopub.status.busy": "2024-06-28T23:40:53.552748Z",
     "iopub.status.idle": "2024-06-28T23:40:53.832441Z",
     "shell.execute_reply": "2024-06-28T23:40:53.831503Z"
    },
    "papermill": {
     "duration": 0.383756,
     "end_time": "2024-06-28T23:40:53.834385",
     "exception": false,
     "start_time": "2024-06-28T23:40:53.450629",
     "status": "completed"
    },
    "tags": []
   },
   "outputs": [
    {
     "data": {
      "image/png": "[encoded data removed]",
      "text/plain": [
       "<Figure size 640x480 with 1 Axes>"
      ]
     },
     "metadata": {},
     "output_type": "display_data"
    }
   ],
   "source": [
    "epoch = list(range(100))\n",
    "import matplotlib.pyplot as plt\n",
    "plt.plot(epoch,Loss_hist)\n",
    "plt.title('Loss Graph')\n",
    "plt.xlabel('Epoch')\n",
    "plt.ylabel('Loss')\n",
    "plt.show() "
   ]
  },
  {
   "cell_type": "code",
   "execution_count": 48,
   "id": "28b2f371",
   "metadata": {
    "execution": {
     "iopub.execute_input": "2024-06-28T23:40:54.037309Z",
     "iopub.status.busy": "2024-06-28T23:40:54.036591Z",
     "iopub.status.idle": "2024-06-28T23:40:54.308583Z",
     "shell.execute_reply": "2024-06-28T23:40:54.307657Z"
    },
    "papermill": {
     "duration": 0.374813,
     "end_time": "2024-06-28T23:40:54.310720",
     "exception": false,
     "start_time": "2024-06-28T23:40:53.935907",
     "status": "completed"
    },
    "tags": []
   },
   "outputs": [
    {
     "data": {
      "image/png": "[encoded data removed]",
      "text/plain": [
       "<Figure size 640x480 with 1 Axes>"
      ]
     },
     "metadata": {},
     "output_type": "display_data"
    }
   ],
   "source": [
    "plt.plot(epoch ,Perplexity_hist)\n",
    "plt.title('Perplexity Graph')\n",
    "plt.xlabel('Epoch')\n",
    "plt.ylabel('Perplexity') \n",
    "plt.show() "
   ]
  },
  {
   "cell_type": "code",
   "execution_count": 49,
   "id": "8ae5db8b",
   "metadata": {
    "execution": {
     "iopub.execute_input": "2024-06-28T23:40:54.516932Z",
     "iopub.status.busy": "2024-06-28T23:40:54.516557Z",
     "iopub.status.idle": "2024-06-28T23:40:54.527486Z",
     "shell.execute_reply": "2024-06-28T23:40:54.526799Z"
    },
    "papermill": {
     "duration": 0.116022,
     "end_time": "2024-06-28T23:40:54.529344",
     "exception": false,
     "start_time": "2024-06-28T23:40:54.413322",
     "status": "completed"
    },
    "tags": []
   },
   "outputs": [],
   "source": [
    "def translate(model, src, max_len=80, custom_sentence=False):\n",
    "    \n",
    "    model.eval()\n",
    "    \n",
    "    if custom_sentence == True:\n",
    "        src = tokenize_ja(src)\n",
    "        src = torch.autograd.Variable(torch.LongTensor([[JA_TEXT.vocab.stoi[tok] for tok in src]])).to(device)\n",
    "    \n",
    "    src_mask = (src != input_pad).unsqueeze(-2)\n",
    "    e_outputs = model.encoder(src, src_mask)\n",
    "\n",
    "    outputs = torch.zeros(max_len).type_as(src.data)\n",
    "    outputs[0] = torch.LongTensor([EN_TEXT.vocab.stoi['<sos>']])\n",
    "    \n",
    "    for i in range(1, max_len):    \n",
    "        trg_mask = np.triu(np.ones((1, i, i)), k=1).astype('uint8')\n",
    "        trg_mask = torch.autograd.Variable(torch.from_numpy(trg_mask) == 0).to(device)\n",
    "\n",
    "        out = model.out(\n",
    "            model.decoder(\n",
    "                outputs[:i].unsqueeze(0),\n",
    "                e_outputs,\n",
    "                src_mask,\n",
    "                trg_mask\n",
    "            )\n",
    "        )\n",
    "        out = F.softmax(out, dim=-1)\n",
    "        val, ix = out[:, -1].data.topk(1)\n",
    "\n",
    "        outputs[i] = ix[0][0]\n",
    "        if ix[0][0] == EN_TEXT.vocab.stoi['<eos>']:\n",
    "            break\n",
    "\n",
    "    return ' '.join([EN_TEXT.vocab.itos[ix] for ix in outputs[:i]])"
   ]
  },
  {
   "cell_type": "code",
   "execution_count": 50,
   "id": "e798b0ac",
   "metadata": {
    "execution": {
     "iopub.execute_input": "2024-06-28T23:40:54.732389Z",
     "iopub.status.busy": "2024-06-28T23:40:54.732038Z",
     "iopub.status.idle": "2024-06-28T23:40:54.925192Z",
     "shell.execute_reply": "2024-06-28T23:40:54.924221Z"
    },
    "papermill": {
     "duration": 0.297146,
     "end_time": "2024-06-28T23:40:54.927218",
     "exception": false,
     "start_time": "2024-06-28T23:40:54.630072",
     "status": "completed"
    },
    "tags": []
   },
   "outputs": [
    {
     "data": {
      "text/plain": [
       "'<sos> I am on my way to the station .'"
      ]
     },
     "execution_count": 50,
     "metadata": {},
     "output_type": "execute_result"
    }
   ],
   "source": [
    "translate(model, '僕は駅に行く途中なの', custom_sentence=True) "
   ]
  },
  {
   "cell_type": "code",
   "execution_count": 51,
   "id": "478dafda",
   "metadata": {
    "execution": {
     "iopub.execute_input": "2024-06-28T23:40:55.134527Z",
     "iopub.status.busy": "2024-06-28T23:40:55.134173Z",
     "iopub.status.idle": "2024-06-28T23:40:55.241425Z",
     "shell.execute_reply": "2024-06-28T23:40:55.240476Z"
    },
    "papermill": {
     "duration": 0.211743,
     "end_time": "2024-06-28T23:40:55.243401",
     "exception": false,
     "start_time": "2024-06-28T23:40:55.031658",
     "status": "completed"
    },
    "tags": []
   },
   "outputs": [
    {
     "data": {
      "text/plain": [
       "'<sos> I think that Japanese is difficult .'"
      ]
     },
     "execution_count": 51,
     "metadata": {},
     "output_type": "execute_result"
    }
   ],
   "source": [
    "translate(model, '日本語は難しいと思います', custom_sentence=True) "
   ]
  },
  {
   "cell_type": "code",
   "execution_count": 52,
   "id": "fcc24d67",
   "metadata": {
    "execution": {
     "iopub.execute_input": "2024-06-28T23:40:55.449673Z",
     "iopub.status.busy": "2024-06-28T23:40:55.449342Z",
     "iopub.status.idle": "2024-06-28T23:40:55.522145Z",
     "shell.execute_reply": "2024-06-28T23:40:55.521243Z"
    },
    "papermill": {
     "duration": 0.179331,
     "end_time": "2024-06-28T23:40:55.524162",
     "exception": false,
     "start_time": "2024-06-28T23:40:55.344831",
     "status": "completed"
    },
    "tags": []
   },
   "outputs": [
    {
     "data": {
      "text/plain": [
       "'<sos> English is easy .'"
      ]
     },
     "execution_count": 52,
     "metadata": {},
     "output_type": "execute_result"
    }
   ],
   "source": [
    "translate(model, '英語は簡単です' , custom_sentence=True)"
   ]
  },
  {
   "cell_type": "code",
   "execution_count": 53,
   "id": "edcdf450",
   "metadata": {
    "execution": {
     "iopub.execute_input": "2024-06-28T23:40:55.727399Z",
     "iopub.status.busy": "2024-06-28T23:40:55.727043Z",
     "iopub.status.idle": "2024-06-28T23:40:55.771523Z",
     "shell.execute_reply": "2024-06-28T23:40:55.770727Z"
    },
    "papermill": {
     "duration": 0.148301,
     "end_time": "2024-06-28T23:40:55.773659",
     "exception": false,
     "start_time": "2024-06-28T23:40:55.625358",
     "status": "completed"
    },
    "tags": []
   },
   "outputs": [],
   "source": [
    "test_df = pd.read_csv('test.csv') "
   ]
  },
  {
   "cell_type": "code",
   "execution_count": 54,
   "id": "35df3bfb",
   "metadata": {
    "execution": {
     "iopub.execute_input": "2024-06-28T23:40:55.975977Z",
     "iopub.status.busy": "2024-06-28T23:40:55.975601Z",
     "iopub.status.idle": "2024-06-28T23:40:55.987020Z",
     "shell.execute_reply": "2024-06-28T23:40:55.986065Z"
    },
    "papermill": {
     "duration": 0.115037,
     "end_time": "2024-06-28T23:40:55.989053",
     "exception": false,
     "start_time": "2024-06-28T23:40:55.874016",
     "status": "completed"
    },
    "tags": []
   },
   "outputs": [
    {
     "data": {
      "text/html": [
       "<div>\n",
       "<style scoped>\n",
       "    .dataframe tbody tr th:only-of-type {\n",
       "        vertical-align: middle;\n",
       "    }\n",
       "\n",
       "    .dataframe tbody tr th {\n",
       "        vertical-align: top;\n",
       "    }\n",
       "\n",
       "    .dataframe thead th {\n",
       "        text-align: right;\n",
       "    }\n",
       "</style>\n",
       "<table border=\"1\" class=\"dataframe\">\n",
       "  <thead>\n",
       "    <tr style=\"text-align: right;\">\n",
       "      <th></th>\n",
       "      <th>Japanese</th>\n",
       "      <th>English</th>\n",
       "    </tr>\n",
       "  </thead>\n",
       "  <tbody>\n",
       "    <tr>\n",
       "      <th>0</th>\n",
       "      <td>私が今出来るのは待つことだけだ。</td>\n",
       "      <td>All I can do is wait.</td>\n",
       "    </tr>\n",
       "    <tr>\n",
       "      <th>1</th>\n",
       "      <td>大内義興</td>\n",
       "      <td>Yoshioki OUCHI</td>\n",
       "    </tr>\n",
       "    <tr>\n",
       "      <th>2</th>\n",
       "      <td>言葉が口先まで出かかっているのだが、自分のいいたいことをどう表現したらいいのかよくわからない。</td>\n",
       "      <td>The words are on the tip of my tongue, but I d...</td>\n",
       "    </tr>\n",
       "    <tr>\n",
       "      <th>3</th>\n",
       "      <td>彼は大統領に選ばれた。</td>\n",
       "      <td>He was elected president.</td>\n",
       "    </tr>\n",
       "    <tr>\n",
       "      <th>4</th>\n",
       "      <td>なにか書くものをくれ。</td>\n",
       "      <td>Give me something to write with.</td>\n",
       "    </tr>\n",
       "    <tr>\n",
       "      <th>...</th>\n",
       "      <td>...</td>\n",
       "      <td>...</td>\n",
       "    </tr>\n",
       "    <tr>\n",
       "      <th>22887</th>\n",
       "      <td>彼女は時間がないといつも不平たらたらだ。</td>\n",
       "      <td>She keeps complaining that she doesn't have time.</td>\n",
       "    </tr>\n",
       "    <tr>\n",
       "      <th>22888</th>\n",
       "      <td>私は肉より魚の方が好きです。</td>\n",
       "      <td>I prefer fish to meat.</td>\n",
       "    </tr>\n",
       "    <tr>\n",
       "      <th>22889</th>\n",
       "      <td>この自転車、誰の？</td>\n",
       "      <td>Whose bike is this?</td>\n",
       "    </tr>\n",
       "    <tr>\n",
       "      <th>22890</th>\n",
       "      <td>今は外出したくない気分だ。</td>\n",
       "      <td>I don't feel like going out right now.</td>\n",
       "    </tr>\n",
       "    <tr>\n",
       "      <th>22891</th>\n",
       "      <td>そこに行くつもりなの？</td>\n",
       "      <td>Are you going to go there?</td>\n",
       "    </tr>\n",
       "  </tbody>\n",
       "</table>\n",
       "<p>22892 rows × 2 columns</p>\n",
       "</div>"
      ],
      "text/plain": [
       "                                              Japanese  \\\n",
       "0                                     私が今出来るのは待つことだけだ。   \n",
       "1                                                 大内義興   \n",
       "2      言葉が口先まで出かかっているのだが、自分のいいたいことをどう表現したらいいのかよくわからない。   \n",
       "3                                          彼は大統領に選ばれた。   \n",
       "4                                          なにか書くものをくれ。   \n",
       "...                                                ...   \n",
       "22887                             彼女は時間がないといつも不平たらたらだ。   \n",
       "22888                                   私は肉より魚の方が好きです。   \n",
       "22889                                        この自転車、誰の？   \n",
       "22890                                    今は外出したくない気分だ。   \n",
       "22891                                      そこに行くつもりなの？   \n",
       "\n",
       "                                                 English  \n",
       "0                                  All I can do is wait.  \n",
       "1                                         Yoshioki OUCHI  \n",
       "2      The words are on the tip of my tongue, but I d...  \n",
       "3                              He was elected president.  \n",
       "4                       Give me something to write with.  \n",
       "...                                                  ...  \n",
       "22887  She keeps complaining that she doesn't have time.  \n",
       "22888                             I prefer fish to meat.  \n",
       "22889                                Whose bike is this?  \n",
       "22890             I don't feel like going out right now.  \n",
       "22891                         Are you going to go there?  \n",
       "\n",
       "[22892 rows x 2 columns]"
      ]
     },
     "execution_count": 54,
     "metadata": {},
     "output_type": "execute_result"
    }
   ],
   "source": [
    "test_df"
   ]
  },
  {
   "cell_type": "code",
   "execution_count": 55,
   "id": "3ea311b2",
   "metadata": {
    "execution": {
     "iopub.execute_input": "2024-06-28T23:40:56.203269Z",
     "iopub.status.busy": "2024-06-28T23:40:56.202666Z",
     "iopub.status.idle": "2024-06-28T23:40:56.206971Z",
     "shell.execute_reply": "2024-06-28T23:40:56.205972Z"
    },
    "papermill": {
     "duration": 0.108464,
     "end_time": "2024-06-28T23:40:56.208933",
     "exception": false,
     "start_time": "2024-06-28T23:40:56.100469",
     "status": "completed"
    },
    "tags": []
   },
   "outputs": [],
   "source": [
    "import warnings\n",
    "warnings.filterwarnings('ignore') "
   ]
  },
  {
   "cell_type": "code",
   "execution_count": 56,
   "id": "76ebdc68",
   "metadata": {
    "execution": {
     "iopub.execute_input": "2024-06-28T23:40:56.415616Z",
     "iopub.status.busy": "2024-06-28T23:40:56.415262Z",
     "iopub.status.idle": "2024-06-28T23:40:56.420879Z",
     "shell.execute_reply": "2024-06-28T23:40:56.419990Z"
    },
    "papermill": {
     "duration": 0.11251,
     "end_time": "2024-06-28T23:40:56.422828",
     "exception": false,
     "start_time": "2024-06-28T23:40:56.310318",
     "status": "completed"
    },
    "tags": []
   },
   "outputs": [
    {
     "data": {
      "text/plain": [
       "22892"
      ]
     },
     "execution_count": 56,
     "metadata": {},
     "output_type": "execute_result"
    }
   ],
   "source": [
    "len(test_df)"
   ]
  },
  {
   "cell_type": "code",
   "execution_count": 57,
   "id": "197dd23c",
   "metadata": {
    "execution": {
     "iopub.execute_input": "2024-06-28T23:40:56.629077Z",
     "iopub.status.busy": "2024-06-28T23:40:56.628407Z",
     "iopub.status.idle": "2024-06-29T00:18:29.090026Z",
     "shell.execute_reply": "2024-06-29T00:18:29.089143Z"
    },
    "papermill": {
     "duration": 2252.566912,
     "end_time": "2024-06-29T00:18:29.092578",
     "exception": false,
     "start_time": "2024-06-28T23:40:56.525666",
     "status": "completed"
    },
    "tags": []
   },
   "outputs": [],
   "source": [
    "data_length = len(test_df[\"English\"])\n",
    "total_score = 0\n",
    "\n",
    "for i in range(data_length):\n",
    "    # print(i) if i % 1000==0 else None\n",
    "    reference = tokenize_en(test_df[\"English\"][i])\n",
    "    candidate = tokenize_en(translate(model, test_df[\"Japanese\"][i] , custom_sentence=True))\n",
    "    candidate = candidate[3:]\n",
    "    score = sentence_bleu(reference, candidate)\n",
    "    total_score += score"
   ]
  },
  {
   "cell_type": "code",
   "execution_count": 58,
   "id": "28be1686",
   "metadata": {
    "execution": {
     "iopub.execute_input": "2024-06-29T00:18:29.298399Z",
     "iopub.status.busy": "2024-06-29T00:18:29.297562Z",
     "iopub.status.idle": "2024-06-29T00:18:29.302453Z",
     "shell.execute_reply": "2024-06-29T00:18:29.301602Z"
    },
    "papermill": {
     "duration": 0.10988,
     "end_time": "2024-06-29T00:18:29.304775",
     "exception": false,
     "start_time": "2024-06-29T00:18:29.194895",
     "status": "completed"
    },
    "tags": []
   },
   "outputs": [
    {
     "name": "stdout",
     "output_type": "stream",
     "text": [
      "BLEU score = 0.39995083315853797\n"
     ]
    }
   ],
   "source": [
    "print(f'BLEU score = {(total_score/data_length)}') "
   ]
  }
 ],
 "metadata": {
  "kaggle": {
   "accelerator": "nvidiaTeslaT4",
   "dataSources": [
    {
     "datasetId": 5301436,
     "sourceId": 8813241,
     "sourceType": "datasetVersion"
    }
   ],
   "dockerImageVersionId": 30733,
   "isGpuEnabled": true,
   "isInternetEnabled": true,
   "language": "python",
   "sourceType": "notebook"
  },
  "kernelspec": {
   "display_name": "Python 3",
   "language": "python",
   "name": "python3"
  },
  "language_info": {
   "codemirror_mode": {
    "name": "ipython",
    "version": 3
   },
   "file_extension": ".py",
   "mimetype": "text/x-python",
   "name": "python",
   "nbconvert_exporter": "python",
   "pygments_lexer": "ipython3",
   "version": "3.10.13"
  },
  "papermill": {
   "default_parameters": {},
   "duration": 11131.458755,
   "end_time": "2024-06-29T00:18:32.297489",
   "environment_variables": {},
   "exception": null,
   "input_path": "__notebook__.ipynb",
   "output_path": "__notebook__.ipynb",
   "parameters": {},
   "start_time": "2024-06-28T21:13:00.838734",
   "version": "2.5.0"
  }
 },
 "nbformat": 4,
 "nbformat_minor": 5
}
